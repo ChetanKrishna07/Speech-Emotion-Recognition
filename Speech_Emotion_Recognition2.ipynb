{
  "nbformat": 4,
  "nbformat_minor": 0,
  "metadata": {
    "colab": {
      "provenance": [],
      "machine_shape": "hm",
      "include_colab_link": true
    },
    "kernelspec": {
      "name": "python3",
      "display_name": "Python 3"
    },
    "language_info": {
      "name": "python"
    },
    "accelerator": "GPU",
    "gpuClass": "premium"
  },
  "cells": [
    {
      "cell_type": "markdown",
      "metadata": {
        "id": "view-in-github",
        "colab_type": "text"
      },
      "source": [
        "<a href=\"https://colab.research.google.com/github/ChetanKrishna07/Speech-Emotion-Recognition/blob/main/Speech_Emotion_Recognition2.ipynb\" target=\"_parent\"><img src=\"https://colab.research.google.com/assets/colab-badge.svg\" alt=\"Open In Colab\"/></a>"
      ]
    },
    {
      "cell_type": "code",
      "execution_count": 1,
      "metadata": {
        "id": "vXe-WiZjo-GS"
      },
      "outputs": [],
      "source": [
        "import tensorflow as tf\n",
        "import pandas as pd\n",
        "import numpy as np\n",
        "import matplotlib.pyplot as plt\n",
        "import seaborn as sns"
      ]
    },
    {
      "cell_type": "code",
      "source": [
        "import os\n",
        "import librosa"
      ],
      "metadata": {
        "id": "sJKNePG5atQ8"
      },
      "execution_count": 2,
      "outputs": []
    },
    {
      "cell_type": "code",
      "source": [
        "tf.config.list_physical_devices('GPU')"
      ],
      "metadata": {
        "colab": {
          "base_uri": "https://localhost:8080/"
        },
        "id": "mDrDRfWKmsVx",
        "outputId": "37eb4a42-156b-49d8-9a8e-9df24185b00c"
      },
      "execution_count": 3,
      "outputs": [
        {
          "output_type": "execute_result",
          "data": {
            "text/plain": [
              "[PhysicalDevice(name='/physical_device:GPU:0', device_type='GPU')]"
            ]
          },
          "metadata": {},
          "execution_count": 3
        }
      ]
    },
    {
      "cell_type": "code",
      "source": [
        "from google.colab import drive\n",
        "drive.mount('/content/drive')"
      ],
      "metadata": {
        "colab": {
          "base_uri": "https://localhost:8080/"
        },
        "id": "O_73mBOHFrvs",
        "outputId": "fa2b8b8e-5b82-403f-d625-44de3461d1ec"
      },
      "execution_count": 4,
      "outputs": [
        {
          "output_type": "stream",
          "name": "stdout",
          "text": [
            "Mounted at /content/drive\n"
          ]
        }
      ]
    },
    {
      "cell_type": "code",
      "source": [
        "pathMain = \"/content/drive/MyDrive/datasets/cremad/AudioWAV/\"\n",
        "dir_list = os.listdir(pathMain)\n",
        "dir_list.sort()\n",
        "print(dir_list[0:10])"
      ],
      "metadata": {
        "colab": {
          "base_uri": "https://localhost:8080/"
        },
        "id": "0-3CU3iWFt3s",
        "outputId": "b40eb19b-6dd4-48dd-8b02-d3700a53838e"
      },
      "execution_count": 5,
      "outputs": [
        {
          "output_type": "stream",
          "name": "stdout",
          "text": [
            "['1001_DFA_ANG_XX.wav', '1001_DFA_DIS_XX.wav', '1001_DFA_FEA_XX.wav', '1001_DFA_HAP_XX.wav', '1001_DFA_NEU_XX.wav', '1001_DFA_SAD_XX.wav', '1001_IEO_ANG_HI.wav', '1001_IEO_ANG_LO.wav', '1001_IEO_ANG_MD.wav', '1001_IEO_DIS_HI.wav']\n"
          ]
        }
      ]
    },
    {
      "cell_type": "code",
      "source": [
        "gender = []\n",
        "emotion = []\n",
        "path = []\n",
        "female = [1002,1003,1004,1006,1007,1008,1009,1010,1012,1013,1018,1020,1021,1024,1025,1028,1029,1030,1037,1043,1046,1047,1049,\n",
        "          1052,1053,1054,1055,1056,1058,1060,1061,1063,1072,1073,1074,1075,1076,1078,1079,1082,1084,1089,1091]\n",
        "\n",
        "for i in dir_list: \n",
        "    part = i.split('_')\n",
        "    if int(part[0]) in female:\n",
        "        temp = 'female'\n",
        "    else:\n",
        "        temp = 'male'\n",
        "    gender.append(temp)\n",
        "    if part[2] == 'SAD' and temp == 'male':\n",
        "        emotion.append('male_sad')\n",
        "    elif part[2] == 'ANG' and temp == 'male':\n",
        "        emotion.append('male_angry')\n",
        "    elif part[2] == 'DIS' and temp == 'male':\n",
        "        emotion.append('male_disgust')\n",
        "    elif part[2] == 'FEA' and temp == 'male':\n",
        "        emotion.append('male_fear')\n",
        "    elif part[2] == 'HAP' and temp == 'male':\n",
        "        emotion.append('male_happy')\n",
        "    elif part[2] == 'NEU' and temp == 'male':\n",
        "        emotion.append('male_neutral')\n",
        "    elif part[2] == 'SAD' and temp == 'female':\n",
        "        emotion.append('female_sad')\n",
        "    elif part[2] == 'ANG' and temp == 'female':\n",
        "        emotion.append('female_angry')\n",
        "    elif part[2] == 'DIS' and temp == 'female':\n",
        "        emotion.append('female_disgust')\n",
        "    elif part[2] == 'FEA' and temp == 'female':\n",
        "        emotion.append('female_fear')\n",
        "    elif part[2] == 'HAP' and temp == 'female':\n",
        "        emotion.append('female_happy')\n",
        "    elif part[2] == 'NEU' and temp == 'female':\n",
        "        emotion.append('female_neutral')\n",
        "    else:\n",
        "        emotion.append('Unknown')\n",
        "    path.append(pathMain + i)\n",
        "\n",
        "df = pd.DataFrame(emotion, columns=['labels'])\n",
        "df['source'] = 'CREMA-D'\n",
        "df = pd.concat([df, pd.DataFrame(path, columns=['path'])], axis=1)\n",
        "df.head()\n"
      ],
      "metadata": {
        "colab": {
          "base_uri": "https://localhost:8080/",
          "height": 206
        },
        "id": "DZ9-OaR0GaaB",
        "outputId": "4b3ed0c5-5b78-4c8d-818c-37acc2f509ae"
      },
      "execution_count": 6,
      "outputs": [
        {
          "output_type": "execute_result",
          "data": {
            "text/plain": [
              "         labels   source                                               path\n",
              "0    male_angry  CREMA-D  /content/drive/MyDrive/datasets/cremad/AudioWA...\n",
              "1  male_disgust  CREMA-D  /content/drive/MyDrive/datasets/cremad/AudioWA...\n",
              "2     male_fear  CREMA-D  /content/drive/MyDrive/datasets/cremad/AudioWA...\n",
              "3    male_happy  CREMA-D  /content/drive/MyDrive/datasets/cremad/AudioWA...\n",
              "4  male_neutral  CREMA-D  /content/drive/MyDrive/datasets/cremad/AudioWA..."
            ],
            "text/html": [
              "\n",
              "  <div id=\"df-07704f96-4c87-42ed-a6d6-007e163210ec\">\n",
              "    <div class=\"colab-df-container\">\n",
              "      <div>\n",
              "<style scoped>\n",
              "    .dataframe tbody tr th:only-of-type {\n",
              "        vertical-align: middle;\n",
              "    }\n",
              "\n",
              "    .dataframe tbody tr th {\n",
              "        vertical-align: top;\n",
              "    }\n",
              "\n",
              "    .dataframe thead th {\n",
              "        text-align: right;\n",
              "    }\n",
              "</style>\n",
              "<table border=\"1\" class=\"dataframe\">\n",
              "  <thead>\n",
              "    <tr style=\"text-align: right;\">\n",
              "      <th></th>\n",
              "      <th>labels</th>\n",
              "      <th>source</th>\n",
              "      <th>path</th>\n",
              "    </tr>\n",
              "  </thead>\n",
              "  <tbody>\n",
              "    <tr>\n",
              "      <th>0</th>\n",
              "      <td>male_angry</td>\n",
              "      <td>CREMA-D</td>\n",
              "      <td>/content/drive/MyDrive/datasets/cremad/AudioWA...</td>\n",
              "    </tr>\n",
              "    <tr>\n",
              "      <th>1</th>\n",
              "      <td>male_disgust</td>\n",
              "      <td>CREMA-D</td>\n",
              "      <td>/content/drive/MyDrive/datasets/cremad/AudioWA...</td>\n",
              "    </tr>\n",
              "    <tr>\n",
              "      <th>2</th>\n",
              "      <td>male_fear</td>\n",
              "      <td>CREMA-D</td>\n",
              "      <td>/content/drive/MyDrive/datasets/cremad/AudioWA...</td>\n",
              "    </tr>\n",
              "    <tr>\n",
              "      <th>3</th>\n",
              "      <td>male_happy</td>\n",
              "      <td>CREMA-D</td>\n",
              "      <td>/content/drive/MyDrive/datasets/cremad/AudioWA...</td>\n",
              "    </tr>\n",
              "    <tr>\n",
              "      <th>4</th>\n",
              "      <td>male_neutral</td>\n",
              "      <td>CREMA-D</td>\n",
              "      <td>/content/drive/MyDrive/datasets/cremad/AudioWA...</td>\n",
              "    </tr>\n",
              "  </tbody>\n",
              "</table>\n",
              "</div>\n",
              "      <button class=\"colab-df-convert\" onclick=\"convertToInteractive('df-07704f96-4c87-42ed-a6d6-007e163210ec')\"\n",
              "              title=\"Convert this dataframe to an interactive table.\"\n",
              "              style=\"display:none;\">\n",
              "        \n",
              "  <svg xmlns=\"http://www.w3.org/2000/svg\" height=\"24px\"viewBox=\"0 0 24 24\"\n",
              "       width=\"24px\">\n",
              "    <path d=\"M0 0h24v24H0V0z\" fill=\"none\"/>\n",
              "    <path d=\"M18.56 5.44l.94 2.06.94-2.06 2.06-.94-2.06-.94-.94-2.06-.94 2.06-2.06.94zm-11 1L8.5 8.5l.94-2.06 2.06-.94-2.06-.94L8.5 2.5l-.94 2.06-2.06.94zm10 10l.94 2.06.94-2.06 2.06-.94-2.06-.94-.94-2.06-.94 2.06-2.06.94z\"/><path d=\"M17.41 7.96l-1.37-1.37c-.4-.4-.92-.59-1.43-.59-.52 0-1.04.2-1.43.59L10.3 9.45l-7.72 7.72c-.78.78-.78 2.05 0 2.83L4 21.41c.39.39.9.59 1.41.59.51 0 1.02-.2 1.41-.59l7.78-7.78 2.81-2.81c.8-.78.8-2.07 0-2.86zM5.41 20L4 18.59l7.72-7.72 1.47 1.35L5.41 20z\"/>\n",
              "  </svg>\n",
              "      </button>\n",
              "      \n",
              "  <style>\n",
              "    .colab-df-container {\n",
              "      display:flex;\n",
              "      flex-wrap:wrap;\n",
              "      gap: 12px;\n",
              "    }\n",
              "\n",
              "    .colab-df-convert {\n",
              "      background-color: #E8F0FE;\n",
              "      border: none;\n",
              "      border-radius: 50%;\n",
              "      cursor: pointer;\n",
              "      display: none;\n",
              "      fill: #1967D2;\n",
              "      height: 32px;\n",
              "      padding: 0 0 0 0;\n",
              "      width: 32px;\n",
              "    }\n",
              "\n",
              "    .colab-df-convert:hover {\n",
              "      background-color: #E2EBFA;\n",
              "      box-shadow: 0px 1px 2px rgba(60, 64, 67, 0.3), 0px 1px 3px 1px rgba(60, 64, 67, 0.15);\n",
              "      fill: #174EA6;\n",
              "    }\n",
              "\n",
              "    [theme=dark] .colab-df-convert {\n",
              "      background-color: #3B4455;\n",
              "      fill: #D2E3FC;\n",
              "    }\n",
              "\n",
              "    [theme=dark] .colab-df-convert:hover {\n",
              "      background-color: #434B5C;\n",
              "      box-shadow: 0px 1px 3px 1px rgba(0, 0, 0, 0.15);\n",
              "      filter: drop-shadow(0px 1px 2px rgba(0, 0, 0, 0.3));\n",
              "      fill: #FFFFFF;\n",
              "    }\n",
              "  </style>\n",
              "\n",
              "      <script>\n",
              "        const buttonEl =\n",
              "          document.querySelector('#df-07704f96-4c87-42ed-a6d6-007e163210ec button.colab-df-convert');\n",
              "        buttonEl.style.display =\n",
              "          google.colab.kernel.accessAllowed ? 'block' : 'none';\n",
              "\n",
              "        async function convertToInteractive(key) {\n",
              "          const element = document.querySelector('#df-07704f96-4c87-42ed-a6d6-007e163210ec');\n",
              "          const dataTable =\n",
              "            await google.colab.kernel.invokeFunction('convertToInteractive',\n",
              "                                                     [key], {});\n",
              "          if (!dataTable) return;\n",
              "\n",
              "          const docLinkHtml = 'Like what you see? Visit the ' +\n",
              "            '<a target=\"_blank\" href=https://colab.research.google.com/notebooks/data_table.ipynb>data table notebook</a>'\n",
              "            + ' to learn more about interactive tables.';\n",
              "          element.innerHTML = '';\n",
              "          dataTable['output_type'] = 'display_data';\n",
              "          await google.colab.output.renderOutput(dataTable, element);\n",
              "          const docLink = document.createElement('div');\n",
              "          docLink.innerHTML = docLinkHtml;\n",
              "          element.appendChild(docLink);\n",
              "        }\n",
              "      </script>\n",
              "    </div>\n",
              "  </div>\n",
              "  "
            ]
          },
          "metadata": {},
          "execution_count": 6
        }
      ]
    },
    {
      "cell_type": "code",
      "source": [
        "df['labels'].value_counts()"
      ],
      "metadata": {
        "colab": {
          "base_uri": "https://localhost:8080/"
        },
        "id": "trV1XnS2HHHZ",
        "outputId": "f3225486-296e-4fe5-a17a-0f9eca972871"
      },
      "execution_count": 7,
      "outputs": [
        {
          "output_type": "execute_result",
          "data": {
            "text/plain": [
              "male_angry        671\n",
              "male_disgust      671\n",
              "male_fear         671\n",
              "male_happy        671\n",
              "male_sad          671\n",
              "female_angry      600\n",
              "female_disgust    600\n",
              "female_fear       600\n",
              "female_happy      600\n",
              "female_sad        600\n",
              "male_neutral      575\n",
              "female_neutral    512\n",
              "Name: labels, dtype: int64"
            ]
          },
          "metadata": {},
          "execution_count": 7
        }
      ]
    },
    {
      "cell_type": "code",
      "source": [
        "df.info()"
      ],
      "metadata": {
        "colab": {
          "base_uri": "https://localhost:8080/"
        },
        "id": "VyNUnvakHPA5",
        "outputId": "38286f0d-be8a-4391-a592-33ae0bc2a138"
      },
      "execution_count": 8,
      "outputs": [
        {
          "output_type": "stream",
          "name": "stdout",
          "text": [
            "<class 'pandas.core.frame.DataFrame'>\n",
            "RangeIndex: 7442 entries, 0 to 7441\n",
            "Data columns (total 3 columns):\n",
            " #   Column  Non-Null Count  Dtype \n",
            "---  ------  --------------  ----- \n",
            " 0   labels  7442 non-null   object\n",
            " 1   source  7442 non-null   object\n",
            " 2   path    7442 non-null   object\n",
            "dtypes: object(3)\n",
            "memory usage: 174.5+ KB\n"
          ]
        }
      ]
    },
    {
      "cell_type": "code",
      "source": [
        "def plot_random():\n",
        "  f = plt.figure()\n",
        "  f.set_figwidth(8)\n",
        "  f.set_figheight(16)\n",
        "  idx = np.random.randint(0, len(df))\n",
        "  data, sr = librosa.load(df['path'][idx], sr=44100)\n",
        "  emotion = df['labels'][idx]\n",
        "  plt.subplot(4, 1, 1)\n",
        "  plt.title(f'Sound wave of- {emotion}')\n",
        "  librosa.display.waveshow(data, sr=sr)\n",
        "  plt.subplot(4, 1, 2)\n",
        "  plt.title('Time v/s Frequency')\n",
        "  D = np.abs(librosa.stft(data))\n",
        "  librosa.display.specshow(D, sr=sr, x_axis='time', y_axis='linear');\n",
        "  plt.colorbar()\n",
        "  plt.subplot(4, 1, 3)\n",
        "  plt.title('log-scaled')\n",
        "  DB = librosa.amplitude_to_db(D, ref=np.max)\n",
        "  librosa.display.specshow(DB, sr=sr, x_axis='time', y_axis='log');\n",
        "  plt.colorbar(format='%+2.0f db')\n",
        "  plt.subplot(4, 1, 4)\n",
        "  plt.magnitude_spectrum(data, scale='dB')\n",
        "  plt.show()"
      ],
      "metadata": {
        "id": "vE5TcUuYHVEI"
      },
      "execution_count": 9,
      "outputs": []
    },
    {
      "cell_type": "code",
      "source": [
        "plot_random()"
      ],
      "metadata": {
        "colab": {
          "base_uri": "https://localhost:8080/",
          "height": 948
        },
        "id": "3dvXXulOHskc",
        "outputId": "1c800fec-c64f-49cf-a78b-fd5b435059ca"
      },
      "execution_count": 10,
      "outputs": [
        {
          "output_type": "display_data",
          "data": {
            "text/plain": [
              "<Figure size 576x1152 with 6 Axes>"
            ],
            "image/png": "[encoded data removed]"
          },
          "metadata": {
            "needs_background": "light"
          }
        }
      ]
    },
    {
      "cell_type": "code",
      "source": [
        "plot_random()"
      ],
      "metadata": {
        "colab": {
          "base_uri": "https://localhost:8080/",
          "height": 948
        },
        "id": "c0-RRNRmIR4t",
        "outputId": "22a74954-add1-49ee-ed1a-bfd2cd35961b"
      },
      "execution_count": 11,
      "outputs": [
        {
          "output_type": "display_data",
          "data": {
            "text/plain": [
              "<Figure size 576x1152 with 6 Axes>"
            ],
            "image/png": "[encoded data removed]"
          },
          "metadata": {
            "needs_background": "light"
          }
        }
      ]
    },
    {
      "cell_type": "code",
      "source": [
        "plot_random()"
      ],
      "metadata": {
        "colab": {
          "base_uri": "https://localhost:8080/",
          "height": 948
        },
        "id": "L9Ouov4dLkpz",
        "outputId": "0ff835d7-5c7b-4912-c2f6-6e1de989a5a7"
      },
      "execution_count": 12,
      "outputs": [
        {
          "output_type": "display_data",
          "data": {
            "text/plain": [
              "<Figure size 576x1152 with 6 Axes>"
            ],
            "image/png": "[encoded data removed]"
          },
          "metadata": {
            "needs_background": "light"
          }
        }
      ]
    },
    {
      "cell_type": "code",
      "source": [
        "df.head()"
      ],
      "metadata": {
        "colab": {
          "base_uri": "https://localhost:8080/",
          "height": 206
        },
        "id": "U0NOz8KhRL9F",
        "outputId": "2593d647-ee43-4834-b3ea-d35e364bc1bb"
      },
      "execution_count": 13,
      "outputs": [
        {
          "output_type": "execute_result",
          "data": {
            "text/plain": [
              "         labels   source                                               path\n",
              "0    male_angry  CREMA-D  /content/drive/MyDrive/datasets/cremad/AudioWA...\n",
              "1  male_disgust  CREMA-D  /content/drive/MyDrive/datasets/cremad/AudioWA...\n",
              "2     male_fear  CREMA-D  /content/drive/MyDrive/datasets/cremad/AudioWA...\n",
              "3    male_happy  CREMA-D  /content/drive/MyDrive/datasets/cremad/AudioWA...\n",
              "4  male_neutral  CREMA-D  /content/drive/MyDrive/datasets/cremad/AudioWA..."
            ],
            "text/html": [
              "\n",
              "  <div id=\"df-4fdb3e38-1fe0-4ecb-8c3f-875669b520db\">\n",
              "    <div class=\"colab-df-container\">\n",
              "      <div>\n",
              "<style scoped>\n",
              "    .dataframe tbody tr th:only-of-type {\n",
              "        vertical-align: middle;\n",
              "    }\n",
              "\n",
              "    .dataframe tbody tr th {\n",
              "        vertical-align: top;\n",
              "    }\n",
              "\n",
              "    .dataframe thead th {\n",
              "        text-align: right;\n",
              "    }\n",
              "</style>\n",
              "<table border=\"1\" class=\"dataframe\">\n",
              "  <thead>\n",
              "    <tr style=\"text-align: right;\">\n",
              "      <th></th>\n",
              "      <th>labels</th>\n",
              "      <th>source</th>\n",
              "      <th>path</th>\n",
              "    </tr>\n",
              "  </thead>\n",
              "  <tbody>\n",
              "    <tr>\n",
              "      <th>0</th>\n",
              "      <td>male_angry</td>\n",
              "      <td>CREMA-D</td>\n",
              "      <td>/content/drive/MyDrive/datasets/cremad/AudioWA...</td>\n",
              "    </tr>\n",
              "    <tr>\n",
              "      <th>1</th>\n",
              "      <td>male_disgust</td>\n",
              "      <td>CREMA-D</td>\n",
              "      <td>/content/drive/MyDrive/datasets/cremad/AudioWA...</td>\n",
              "    </tr>\n",
              "    <tr>\n",
              "      <th>2</th>\n",
              "      <td>male_fear</td>\n",
              "      <td>CREMA-D</td>\n",
              "      <td>/content/drive/MyDrive/datasets/cremad/AudioWA...</td>\n",
              "    </tr>\n",
              "    <tr>\n",
              "      <th>3</th>\n",
              "      <td>male_happy</td>\n",
              "      <td>CREMA-D</td>\n",
              "      <td>/content/drive/MyDrive/datasets/cremad/AudioWA...</td>\n",
              "    </tr>\n",
              "    <tr>\n",
              "      <th>4</th>\n",
              "      <td>male_neutral</td>\n",
              "      <td>CREMA-D</td>\n",
              "      <td>/content/drive/MyDrive/datasets/cremad/AudioWA...</td>\n",
              "    </tr>\n",
              "  </tbody>\n",
              "</table>\n",
              "</div>\n",
              "      <button class=\"colab-df-convert\" onclick=\"convertToInteractive('df-4fdb3e38-1fe0-4ecb-8c3f-875669b520db')\"\n",
              "              title=\"Convert this dataframe to an interactive table.\"\n",
              "              style=\"display:none;\">\n",
              "        \n",
              "  <svg xmlns=\"http://www.w3.org/2000/svg\" height=\"24px\"viewBox=\"0 0 24 24\"\n",
              "       width=\"24px\">\n",
              "    <path d=\"M0 0h24v24H0V0z\" fill=\"none\"/>\n",
              "    <path d=\"M18.56 5.44l.94 2.06.94-2.06 2.06-.94-2.06-.94-.94-2.06-.94 2.06-2.06.94zm-11 1L8.5 8.5l.94-2.06 2.06-.94-2.06-.94L8.5 2.5l-.94 2.06-2.06.94zm10 10l.94 2.06.94-2.06 2.06-.94-2.06-.94-.94-2.06-.94 2.06-2.06.94z\"/><path d=\"M17.41 7.96l-1.37-1.37c-.4-.4-.92-.59-1.43-.59-.52 0-1.04.2-1.43.59L10.3 9.45l-7.72 7.72c-.78.78-.78 2.05 0 2.83L4 21.41c.39.39.9.59 1.41.59.51 0 1.02-.2 1.41-.59l7.78-7.78 2.81-2.81c.8-.78.8-2.07 0-2.86zM5.41 20L4 18.59l7.72-7.72 1.47 1.35L5.41 20z\"/>\n",
              "  </svg>\n",
              "      </button>\n",
              "      \n",
              "  <style>\n",
              "    .colab-df-container {\n",
              "      display:flex;\n",
              "      flex-wrap:wrap;\n",
              "      gap: 12px;\n",
              "    }\n",
              "\n",
              "    .colab-df-convert {\n",
              "      background-color: #E8F0FE;\n",
              "      border: none;\n",
              "      border-radius: 50%;\n",
              "      cursor: pointer;\n",
              "      display: none;\n",
              "      fill: #1967D2;\n",
              "      height: 32px;\n",
              "      padding: 0 0 0 0;\n",
              "      width: 32px;\n",
              "    }\n",
              "\n",
              "    .colab-df-convert:hover {\n",
              "      background-color: #E2EBFA;\n",
              "      box-shadow: 0px 1px 2px rgba(60, 64, 67, 0.3), 0px 1px 3px 1px rgba(60, 64, 67, 0.15);\n",
              "      fill: #174EA6;\n",
              "    }\n",
              "\n",
              "    [theme=dark] .colab-df-convert {\n",
              "      background-color: #3B4455;\n",
              "      fill: #D2E3FC;\n",
              "    }\n",
              "\n",
              "    [theme=dark] .colab-df-convert:hover {\n",
              "      background-color: #434B5C;\n",
              "      box-shadow: 0px 1px 3px 1px rgba(0, 0, 0, 0.15);\n",
              "      filter: drop-shadow(0px 1px 2px rgba(0, 0, 0, 0.3));\n",
              "      fill: #FFFFFF;\n",
              "    }\n",
              "  </style>\n",
              "\n",
              "      <script>\n",
              "        const buttonEl =\n",
              "          document.querySelector('#df-4fdb3e38-1fe0-4ecb-8c3f-875669b520db button.colab-df-convert');\n",
              "        buttonEl.style.display =\n",
              "          google.colab.kernel.accessAllowed ? 'block' : 'none';\n",
              "\n",
              "        async function convertToInteractive(key) {\n",
              "          const element = document.querySelector('#df-4fdb3e38-1fe0-4ecb-8c3f-875669b520db');\n",
              "          const dataTable =\n",
              "            await google.colab.kernel.invokeFunction('convertToInteractive',\n",
              "                                                     [key], {});\n",
              "          if (!dataTable) return;\n",
              "\n",
              "          const docLinkHtml = 'Like what you see? Visit the ' +\n",
              "            '<a target=\"_blank\" href=https://colab.research.google.com/notebooks/data_table.ipynb>data table notebook</a>'\n",
              "            + ' to learn more about interactive tables.';\n",
              "          element.innerHTML = '';\n",
              "          dataTable['output_type'] = 'display_data';\n",
              "          await google.colab.output.renderOutput(dataTable, element);\n",
              "          const docLink = document.createElement('div');\n",
              "          docLink.innerHTML = docLinkHtml;\n",
              "          element.appendChild(docLink);\n",
              "        }\n",
              "      </script>\n",
              "    </div>\n",
              "  </div>\n",
              "  "
            ]
          },
          "metadata": {},
          "execution_count": 13
        }
      ]
    },
    {
      "cell_type": "code",
      "source": [
        "df.shape"
      ],
      "metadata": {
        "colab": {
          "base_uri": "https://localhost:8080/"
        },
        "id": "r7d6RHWgTvUH",
        "outputId": "6428e734-3634-4ec9-9955-11f145b3bf6c"
      },
      "execution_count": 14,
      "outputs": [
        {
          "output_type": "execute_result",
          "data": {
            "text/plain": [
              "(7442, 3)"
            ]
          },
          "metadata": {},
          "execution_count": 14
        }
      ]
    },
    {
      "cell_type": "markdown",
      "source": [
        "from tqdm import tqdm\n",
        "X = []\n",
        "y = []\n",
        "mfccs = []\n",
        "for i in tqdm(range(df.shape[0])):\n",
        "  audio, sr = librosa.load(df.path[i], sr=44000)\n",
        "  X.append(audio)\n",
        "  y.append(df.labels[i])\n",
        "  mfcc = librosa.feature.mfcc(y = audio, sr=44000, n_mfcc=20)\n",
        "  mfcc = mfcc.T\n",
        "  mfccs.append(mfcc)\n",
        "\n",
        "features_df = pd.DataFrame({\"X\": X, \"y\": y, \"mfccs\": mfccs})"
      ],
      "metadata": {
        "id": "b55I_Ml1SqOZ"
      }
    },
    {
      "cell_type": "code",
      "source": [
        "def feature_extract(i):\n",
        "  audio, sr = librosa.load(df.path[i], sr=44000)\n",
        "  y = df.labels[i]\n",
        "  mfcc = librosa.feature.mfcc(y = audio, sr=44000, n_mfcc=20)\n",
        "  mfcc = mfcc.T\n",
        "  return audio, y, mfcc"
      ],
      "metadata": {
        "id": "A8lRlN78RFeG"
      },
      "execution_count": 15,
      "outputs": []
    },
    {
      "cell_type": "code",
      "source": [
        "from multiprocessing import Pool\n",
        "from tqdm import tqdm\n",
        "with Pool() as p:\n",
        "  results = list(tqdm(p.imap(feature_extract, range(df.shape[0])), total=df.shape[0]))\n",
        "\n",
        "X, y, mfccs = zip(*results)"
      ],
      "metadata": {
        "colab": {
          "base_uri": "https://localhost:8080/"
        },
        "id": "kEQiHWUAmqDv",
        "outputId": "faab8d02-f51f-4063-a8c1-a949760dcc01"
      },
      "execution_count": 16,
      "outputs": [
        {
          "output_type": "stream",
          "name": "stderr",
          "text": [
            "100%|██████████| 7442/7442 [04:24<00:00, 28.12it/s]\n"
          ]
        }
      ]
    },
    {
      "cell_type": "markdown",
      "source": [
        "features_df = pd.DataFrame({\"X\": X, \"y\": y, \"mfccs\": mfccs})\n",
        "features_df.head()"
      ],
      "metadata": {
        "id": "ouVdFwz8qkRp"
      }
    },
    {
      "cell_type": "markdown",
      "source": [
        "features_df.to_pickle(\"/content/drive/MyDrive/datasets/cremad/CREMA_D_MFCCS.pkl\")"
      ],
      "metadata": {
        "id": "3gDU9xrDpNkn"
      }
    },
    {
      "cell_type": "markdown",
      "source": [
        "features_read = pd.read_pickle(\"/content/drive/MyDrive/datasets/cremad/CREMA_D_MFCCS.pkl\")"
      ],
      "metadata": {
        "id": "IyvIsn0Lq3Db"
      }
    },
    {
      "cell_type": "markdown",
      "source": [
        "features_read.head()"
      ],
      "metadata": {
        "id": "--07yVEJrVI6"
      }
    },
    {
      "cell_type": "code",
      "source": [
        "def plot_random_mfccs():\n",
        "  idx = np.random.randint(0, len(X))\n",
        "  librosa.display.specshow(mfccs[idx], x_axis='time')\n",
        "  plt.title(f'MFCCs of {y[idx]}')\n",
        "  plt.colorbar()\n",
        "  plt.tight_layout()\n",
        "  plt.show()"
      ],
      "metadata": {
        "id": "XbNazC4Oqx5k"
      },
      "execution_count": 17,
      "outputs": []
    },
    {
      "cell_type": "code",
      "source": [
        "plot_random_mfccs()"
      ],
      "metadata": {
        "colab": {
          "base_uri": "https://localhost:8080/",
          "height": 297
        },
        "id": "XbIkopfErlAE",
        "outputId": "5b52734b-afdc-4708-8939-1a51b1a78ab8"
      },
      "execution_count": 18,
      "outputs": [
        {
          "output_type": "display_data",
          "data": {
            "text/plain": [
              "<Figure size 432x288 with 2 Axes>"
            ],
            "image/png": "[encoded data removed]"
          },
          "metadata": {
            "needs_background": "light"
          }
        }
      ]
    },
    {
      "cell_type": "code",
      "source": [
        "plot_random_mfccs()"
      ],
      "metadata": {
        "colab": {
          "base_uri": "https://localhost:8080/",
          "height": 297
        },
        "id": "nB_fewC9r3gV",
        "outputId": "07548733-bcb3-439c-9dc1-26db19acece6"
      },
      "execution_count": 19,
      "outputs": [
        {
          "output_type": "display_data",
          "data": {
            "text/plain": [
              "<Figure size 432x288 with 2 Axes>"
            ],
            "image/png": "[encoded data removed]"
          },
          "metadata": {
            "needs_background": "light"
          }
        }
      ]
    },
    {
      "cell_type": "code",
      "source": [
        "plot_random_mfccs()"
      ],
      "metadata": {
        "colab": {
          "base_uri": "https://localhost:8080/",
          "height": 297
        },
        "id": "0vHwqUitsSBb",
        "outputId": "535cb3f3-f28d-434e-e978-bc62cd75f162"
      },
      "execution_count": 20,
      "outputs": [
        {
          "output_type": "display_data",
          "data": {
            "text/plain": [
              "<Figure size 432x288 with 2 Axes>"
            ],
            "image/png": "[encoded data removed]"
          },
          "metadata": {
            "needs_background": "light"
          }
        }
      ]
    },
    {
      "cell_type": "code",
      "source": [
        "def label_encode(y):\n",
        "  if y == 'male_angry':\n",
        "    return 0\n",
        "  if y == 'male_disgust':\n",
        "    return 1\n",
        "  if y == 'male_fear':\n",
        "    return 2\n",
        "  if y == 'male_happy':\n",
        "    return 3\n",
        "  if y == 'male_sad':\n",
        "    return 4\n",
        "  if y == 'female_angry':\n",
        "    return 5\n",
        "  if y == 'female_disgust':\n",
        "    return 6\n",
        "  if y == 'female_fear':\n",
        "    return 7\n",
        "  if y == 'female_happy':\n",
        "    return 8\n",
        "  if y == 'female_sad':\n",
        "    return 9\n",
        "  if y == 'male_neutral':\n",
        "    return 10\n",
        "  if y == 'female_neutral':\n",
        "    return 11"
      ],
      "metadata": {
        "id": "QCF6wTtsTomJ"
      },
      "execution_count": 21,
      "outputs": []
    },
    {
      "cell_type": "code",
      "source": [
        "y = np.array(y)\n",
        "y_label = np.array(list(map(label_encode, y)))"
      ],
      "metadata": {
        "id": "1mXMy3IAesAi"
      },
      "execution_count": 22,
      "outputs": []
    },
    {
      "cell_type": "code",
      "source": [
        "y_label"
      ],
      "metadata": {
        "colab": {
          "base_uri": "https://localhost:8080/"
        },
        "id": "6U4joR74hAjG",
        "outputId": "95606b29-a404-4461-c358-fd5cda468a7f"
      },
      "execution_count": 23,
      "outputs": [
        {
          "output_type": "execute_result",
          "data": {
            "text/plain": [
              "array([ 0,  1,  2, ...,  8, 11,  9])"
            ]
          },
          "metadata": {},
          "execution_count": 23
        }
      ]
    },
    {
      "cell_type": "code",
      "source": [
        "y"
      ],
      "metadata": {
        "colab": {
          "base_uri": "https://localhost:8080/"
        },
        "id": "QY8dLdz1hNai",
        "outputId": "62077234-78eb-4e64-869f-2c9fdbd1fcf1"
      },
      "execution_count": 24,
      "outputs": [
        {
          "output_type": "execute_result",
          "data": {
            "text/plain": [
              "array(['male_angry', 'male_disgust', 'male_fear', ..., 'female_happy',\n",
              "       'female_neutral', 'female_sad'], dtype='<U14')"
            ]
          },
          "metadata": {},
          "execution_count": 24
        }
      ]
    },
    {
      "cell_type": "code",
      "source": [
        "mfccs[0].shape"
      ],
      "metadata": {
        "colab": {
          "base_uri": "https://localhost:8080/"
        },
        "id": "VRAuwSQnhUot",
        "outputId": "ff4d7ebe-0939-46f9-c925-8723b9c10876"
      },
      "execution_count": 25,
      "outputs": [
        {
          "output_type": "execute_result",
          "data": {
            "text/plain": [
              "(196, 20)"
            ]
          },
          "metadata": {},
          "execution_count": 25
        }
      ]
    },
    {
      "cell_type": "code",
      "source": [
        "mfccs[1].shape"
      ],
      "metadata": {
        "colab": {
          "base_uri": "https://localhost:8080/"
        },
        "id": "yaUL7wkXhXV3",
        "outputId": "95e9b7cb-4670-4fd9-aa08-54ba2216f1b9"
      },
      "execution_count": 26,
      "outputs": [
        {
          "output_type": "execute_result",
          "data": {
            "text/plain": [
              "(201, 20)"
            ]
          },
          "metadata": {},
          "execution_count": 26
        }
      ]
    },
    {
      "cell_type": "code",
      "source": [
        "mfccs[134].shape"
      ],
      "metadata": {
        "colab": {
          "base_uri": "https://localhost:8080/"
        },
        "id": "wTpwnverhaRJ",
        "outputId": "5bf82013-44d4-471d-eea4-4c58f1b4f493"
      },
      "execution_count": 27,
      "outputs": [
        {
          "output_type": "execute_result",
          "data": {
            "text/plain": [
              "(236, 20)"
            ]
          },
          "metadata": {},
          "execution_count": 27
        }
      ]
    },
    {
      "cell_type": "code",
      "source": [
        "mfccs[0]"
      ],
      "metadata": {
        "colab": {
          "base_uri": "https://localhost:8080/"
        },
        "id": "No1Xbs8LheeC",
        "outputId": "a1dca850-aee1-484b-eea6-73afd0042b53"
      },
      "execution_count": 28,
      "outputs": [
        {
          "output_type": "execute_result",
          "data": {
            "text/plain": [
              "array([[-6.21889038e+02,  0.00000000e+00,  0.00000000e+00, ...,\n",
              "         0.00000000e+00,  0.00000000e+00,  0.00000000e+00],\n",
              "       [-6.21889038e+02,  0.00000000e+00,  0.00000000e+00, ...,\n",
              "         0.00000000e+00,  0.00000000e+00,  0.00000000e+00],\n",
              "       [-5.99640930e+02,  2.95826302e+01,  2.45235538e+01, ...,\n",
              "         4.74531353e-02, -7.53682852e-01, -9.78352904e-01],\n",
              "       ...,\n",
              "       [-4.99072632e+02,  1.13753204e+02,  3.49048309e+01, ...,\n",
              "        -2.10910606e+00, -3.37010336e+00, -4.18586254e-01],\n",
              "       [-4.98464172e+02,  1.14583862e+02,  3.46159668e+01, ...,\n",
              "        -6.46345234e+00, -8.08340073e+00, -6.37836933e+00],\n",
              "       [-5.16554260e+02,  1.06780838e+02,  3.99078674e+01, ...,\n",
              "        -5.84441948e+00, -5.86808300e+00, -5.98912334e+00]], dtype=float32)"
            ]
          },
          "metadata": {},
          "execution_count": 28
        }
      ]
    },
    {
      "cell_type": "code",
      "source": [
        "maxlen = max([len(f) for f in mfccs])\n",
        "mfccs_padded = tf.keras.preprocessing.sequence.pad_sequences(mfccs, padding='post', dtype='float32', maxlen=maxlen)\n",
        "mfccs_padded.shape"
      ],
      "metadata": {
        "colab": {
          "base_uri": "https://localhost:8080/"
        },
        "id": "_5qOdBYKhyXF",
        "outputId": "4c7919a0-2813-40fb-f328-a0730328ca1a"
      },
      "execution_count": 29,
      "outputs": [
        {
          "output_type": "execute_result",
          "data": {
            "text/plain": [
              "(7442, 431, 20)"
            ]
          },
          "metadata": {},
          "execution_count": 29
        }
      ]
    },
    {
      "cell_type": "code",
      "source": [
        "from sklearn.model_selection import train_test_split\n",
        "\n",
        "X_train, X_test, y_train, y_test = train_test_split(mfccs_padded, y_label, test_size=0.25, random_state=0)"
      ],
      "metadata": {
        "id": "f3k98se6idoG"
      },
      "execution_count": 30,
      "outputs": []
    },
    {
      "cell_type": "code",
      "source": [
        "X_train.shape, y_train.shape"
      ],
      "metadata": {
        "colab": {
          "base_uri": "https://localhost:8080/"
        },
        "id": "t0Dd1f7QimYE",
        "outputId": "84e0d8e4-cfc2-4a15-fdde-fed910966ea6"
      },
      "execution_count": 31,
      "outputs": [
        {
          "output_type": "execute_result",
          "data": {
            "text/plain": [
              "((5581, 431, 20), (5581,))"
            ]
          },
          "metadata": {},
          "execution_count": 31
        }
      ]
    },
    {
      "cell_type": "code",
      "source": [
        "from tensorflow.keras import Sequential\n",
        "from tensorflow.keras import layers\n",
        "\n",
        "model = Sequential()\n",
        "model.add(layers.Conv1D(256, 5,padding='same',\n",
        "                 input_shape=(431,20)))\n",
        "model.add(layers.Activation('relu'))\n",
        "model.add(layers.MaxPooling1D(pool_size=(8)))\n",
        "model.add(layers.Dropout(0.2))\n",
        "model.add(layers.Conv1D(128, 5,padding='same'))\n",
        "model.add(layers.Activation('relu'))\n",
        "model.add(layers.MaxPooling1D(pool_size=(4)))\n",
        "model.add(layers.Dropout(0.1))\n",
        "model.add(layers.Flatten())\n",
        "model.add(layers.Dense(64))\n",
        "model.add(layers.Dense(12))\n",
        "model.add(layers.Activation('softmax'))"
      ],
      "metadata": {
        "id": "W2m5SuLpijs_"
      },
      "execution_count": 96,
      "outputs": []
    },
    {
      "cell_type": "code",
      "source": [
        "model.summary()"
      ],
      "metadata": {
        "colab": {
          "base_uri": "https://localhost:8080/"
        },
        "id": "70uXjWYdiudN",
        "outputId": "3d5a71b4-5d1e-4d33-8773-a2f4407087ba"
      },
      "execution_count": 97,
      "outputs": [
        {
          "output_type": "stream",
          "name": "stdout",
          "text": [
            "Model: \"sequential_26\"\n",
            "_________________________________________________________________\n",
            " Layer (type)                Output Shape              Param #   \n",
            "=================================================================\n",
            " conv1d_52 (Conv1D)          (None, 431, 256)          25856     \n",
            "                                                                 \n",
            " activation_78 (Activation)  (None, 431, 256)          0         \n",
            "                                                                 \n",
            " max_pooling1d_52 (MaxPoolin  (None, 53, 256)          0         \n",
            " g1D)                                                            \n",
            "                                                                 \n",
            " dropout_52 (Dropout)        (None, 53, 256)           0         \n",
            "                                                                 \n",
            " conv1d_53 (Conv1D)          (None, 53, 128)           163968    \n",
            "                                                                 \n",
            " activation_79 (Activation)  (None, 53, 128)           0         \n",
            "                                                                 \n",
            " max_pooling1d_53 (MaxPoolin  (None, 13, 128)          0         \n",
            " g1D)                                                            \n",
            "                                                                 \n",
            " dropout_53 (Dropout)        (None, 13, 128)           0         \n",
            "                                                                 \n",
            " flatten_26 (Flatten)        (None, 1664)              0         \n",
            "                                                                 \n",
            " dense_56 (Dense)            (None, 64)                106560    \n",
            "                                                                 \n",
            " dense_57 (Dense)            (None, 12)                780       \n",
            "                                                                 \n",
            " activation_80 (Activation)  (None, 12)                0         \n",
            "                                                                 \n",
            "=================================================================\n",
            "Total params: 297,164\n",
            "Trainable params: 297,164\n",
            "Non-trainable params: 0\n",
            "_________________________________________________________________\n"
          ]
        }
      ]
    },
    {
      "cell_type": "code",
      "source": [
        "model.compile(optimizer=\"adam\",loss=\"sparse_categorical_crossentropy\", metrics=['accuracy'])"
      ],
      "metadata": {
        "id": "RW038S11ivta"
      },
      "execution_count": 98,
      "outputs": []
    },
    {
      "cell_type": "code",
      "source": [
        "history = model.fit(X_train, y_train,batch_size=10, epochs=50)"
      ],
      "metadata": {
        "colab": {
          "base_uri": "https://localhost:8080/"
        },
        "id": "BhYD5a6Iiyr_",
        "outputId": "06a85f03-99a5-4010-84aa-cc5528561169"
      },
      "execution_count": 99,
      "outputs": [
        {
          "output_type": "stream",
          "name": "stdout",
          "text": [
            "Epoch 1/50\n",
            "559/559 [==============================] - 4s 4ms/step - loss: 4.7244 - accuracy: 0.0925\n",
            "Epoch 2/50\n",
            "559/559 [==============================] - 2s 4ms/step - loss: 2.4841 - accuracy: 0.0889\n",
            "Epoch 3/50\n",
            "559/559 [==============================] - 2s 4ms/step - loss: 2.4256 - accuracy: 0.1218\n",
            "Epoch 4/50\n",
            "559/559 [==============================] - 2s 4ms/step - loss: 2.3727 - accuracy: 0.1467\n",
            "Epoch 5/50\n",
            "559/559 [==============================] - 2s 4ms/step - loss: 2.3490 - accuracy: 0.1580\n",
            "Epoch 6/50\n",
            "559/559 [==============================] - 2s 4ms/step - loss: 2.3289 - accuracy: 0.1562\n",
            "Epoch 7/50\n",
            "559/559 [==============================] - 2s 4ms/step - loss: 2.3362 - accuracy: 0.1527\n",
            "Epoch 8/50\n",
            "559/559 [==============================] - 2s 4ms/step - loss: 2.3214 - accuracy: 0.1654\n",
            "Epoch 9/50\n",
            "559/559 [==============================] - 2s 4ms/step - loss: 2.3291 - accuracy: 0.1518\n",
            "Epoch 10/50\n",
            "559/559 [==============================] - 2s 4ms/step - loss: 2.5006 - accuracy: 0.0975\n",
            "Epoch 11/50\n",
            "559/559 [==============================] - 2s 4ms/step - loss: 2.4872 - accuracy: 0.0839\n",
            "Epoch 12/50\n",
            "559/559 [==============================] - 2s 4ms/step - loss: 2.4837 - accuracy: 0.0781\n",
            "Epoch 13/50\n",
            "559/559 [==============================] - 2s 4ms/step - loss: 2.4453 - accuracy: 0.1025\n",
            "Epoch 14/50\n",
            "559/559 [==============================] - 2s 4ms/step - loss: 2.4856 - accuracy: 0.0878\n",
            "Epoch 15/50\n",
            "559/559 [==============================] - 2s 4ms/step - loss: 2.4688 - accuracy: 0.0925\n",
            "Epoch 16/50\n",
            "559/559 [==============================] - 2s 4ms/step - loss: 2.3619 - accuracy: 0.1552\n",
            "Epoch 17/50\n",
            "559/559 [==============================] - 2s 4ms/step - loss: 2.3310 - accuracy: 0.1553\n",
            "Epoch 18/50\n",
            "559/559 [==============================] - 2s 4ms/step - loss: 2.3361 - accuracy: 0.1521\n",
            "Epoch 19/50\n",
            "559/559 [==============================] - 2s 4ms/step - loss: 2.3152 - accuracy: 0.1573\n",
            "Epoch 20/50\n",
            "559/559 [==============================] - 2s 4ms/step - loss: 2.3073 - accuracy: 0.1638\n",
            "Epoch 21/50\n",
            "559/559 [==============================] - 2s 4ms/step - loss: 2.3087 - accuracy: 0.1643\n",
            "Epoch 22/50\n",
            "559/559 [==============================] - 2s 4ms/step - loss: 2.2999 - accuracy: 0.1699\n",
            "Epoch 23/50\n",
            "559/559 [==============================] - 2s 4ms/step - loss: 2.2993 - accuracy: 0.1674\n",
            "Epoch 24/50\n",
            "559/559 [==============================] - 2s 4ms/step - loss: 2.3013 - accuracy: 0.1596\n",
            "Epoch 25/50\n",
            "559/559 [==============================] - 2s 4ms/step - loss: 2.2953 - accuracy: 0.1677\n",
            "Epoch 26/50\n",
            "559/559 [==============================] - 2s 4ms/step - loss: 2.2583 - accuracy: 0.1747\n",
            "Epoch 27/50\n",
            "559/559 [==============================] - 2s 4ms/step - loss: 2.2503 - accuracy: 0.1853\n",
            "Epoch 28/50\n",
            "559/559 [==============================] - 2s 4ms/step - loss: 2.2470 - accuracy: 0.1880\n",
            "Epoch 29/50\n",
            "559/559 [==============================] - 2s 4ms/step - loss: 2.2412 - accuracy: 0.1837\n",
            "Epoch 30/50\n",
            "559/559 [==============================] - 2s 4ms/step - loss: 2.2301 - accuracy: 0.1905\n",
            "Epoch 31/50\n",
            "559/559 [==============================] - 2s 4ms/step - loss: 2.2013 - accuracy: 0.2066\n",
            "Epoch 32/50\n",
            "559/559 [==============================] - 2s 4ms/step - loss: 2.2010 - accuracy: 0.2016\n",
            "Epoch 33/50\n",
            "559/559 [==============================] - 2s 4ms/step - loss: 2.1467 - accuracy: 0.2362\n",
            "Epoch 34/50\n",
            "559/559 [==============================] - 2s 4ms/step - loss: 1.9723 - accuracy: 0.2793\n",
            "Epoch 35/50\n",
            "559/559 [==============================] - 2s 4ms/step - loss: 1.8459 - accuracy: 0.3109\n",
            "Epoch 36/50\n",
            "559/559 [==============================] - 2s 4ms/step - loss: 1.7838 - accuracy: 0.3259\n",
            "Epoch 37/50\n",
            "559/559 [==============================] - 2s 4ms/step - loss: 1.7426 - accuracy: 0.3446\n",
            "Epoch 38/50\n",
            "559/559 [==============================] - 2s 4ms/step - loss: 1.6800 - accuracy: 0.3657\n",
            "Epoch 39/50\n",
            "559/559 [==============================] - 2s 4ms/step - loss: 1.6497 - accuracy: 0.3723\n",
            "Epoch 40/50\n",
            "559/559 [==============================] - 2s 4ms/step - loss: 1.6113 - accuracy: 0.3876\n",
            "Epoch 41/50\n",
            "559/559 [==============================] - 2s 4ms/step - loss: 1.6048 - accuracy: 0.3949\n",
            "Epoch 42/50\n",
            "559/559 [==============================] - 2s 4ms/step - loss: 1.6009 - accuracy: 0.3956\n",
            "Epoch 43/50\n",
            "559/559 [==============================] - 2s 4ms/step - loss: 1.5789 - accuracy: 0.3989\n",
            "Epoch 44/50\n",
            "559/559 [==============================] - 2s 4ms/step - loss: 1.5469 - accuracy: 0.4139\n",
            "Epoch 45/50\n",
            "559/559 [==============================] - 2s 4ms/step - loss: 1.5451 - accuracy: 0.4028\n",
            "Epoch 46/50\n",
            "559/559 [==============================] - 2s 4ms/step - loss: 1.5381 - accuracy: 0.4207\n",
            "Epoch 47/50\n",
            "559/559 [==============================] - 2s 4ms/step - loss: 1.5328 - accuracy: 0.4146\n",
            "Epoch 48/50\n",
            "559/559 [==============================] - 2s 4ms/step - loss: 1.5250 - accuracy: 0.4121\n",
            "Epoch 49/50\n",
            "559/559 [==============================] - 2s 4ms/step - loss: 1.5334 - accuracy: 0.4198\n",
            "Epoch 50/50\n",
            "559/559 [==============================] - 2s 4ms/step - loss: 1.5002 - accuracy: 0.4213\n"
          ]
        }
      ]
    },
    {
      "cell_type": "code",
      "source": [
        "plt.plot(history.history['loss'], label='loss')\n",
        "plt.plot(history.history['accuracy'], label='accuracy')\n",
        "plt.legend()\n",
        "plt.xlabel(\"epochs\")\n",
        "plt.show()"
      ],
      "metadata": {
        "colab": {
          "base_uri": "https://localhost:8080/",
          "height": 279
        },
        "id": "BXexN8RjpE1b",
        "outputId": "d3e87bbc-00bf-45da-fc10-967423d1c81d"
      },
      "execution_count": 100,
      "outputs": [
        {
          "output_type": "display_data",
          "data": {
            "text/plain": [
              "<Figure size 432x288 with 1 Axes>"
            ],
            "image/png": "[encoded data removed]"
          },
          "metadata": {
            "needs_background": "light"
          }
        }
      ]
    },
    {
      "cell_type": "code",
      "source": [
        "model.evaluate(X_test, y_test)"
      ],
      "metadata": {
        "colab": {
          "base_uri": "https://localhost:8080/"
        },
        "id": "uZnVKbVQpIOC",
        "outputId": "3073b30a-9b3e-44fb-c157-d1191cddc967"
      },
      "execution_count": 101,
      "outputs": [
        {
          "output_type": "stream",
          "name": "stdout",
          "text": [
            "59/59 [==============================] - 0s 3ms/step - loss: 1.5680 - accuracy: 0.4025\n"
          ]
        },
        {
          "output_type": "execute_result",
          "data": {
            "text/plain": [
              "[1.5680304765701294, 0.40247178077697754]"
            ]
          },
          "metadata": {},
          "execution_count": 101
        }
      ]
    },
    {
      "cell_type": "markdown",
      "source": [
        "Model 0:\n",
        "- Accuracy: 40.46%\n",
        "- loss: 1.63"
      ],
      "metadata": {
        "id": "ILn6r0hfptZy"
      }
    },
    {
      "cell_type": "code",
      "source": [
        "from tensorflow.keras import Sequential\n",
        "from tensorflow.keras import layers\n",
        "\n",
        "\n",
        "model1 = Sequential()\n",
        "model1.add(layers.Conv1D(256, 5,padding='same',\n",
        "                 input_shape=(431,20)))\n",
        "model1.add(layers.Activation('relu'))\n",
        "model1.add(layers.MaxPooling1D(pool_size=(8)))\n",
        "model1.add(layers.Dropout(0.2))\n",
        "model1.add(layers.Conv1D(128, 5,padding='same'))\n",
        "model1.add(layers.Activation('relu'))\n",
        "model1.add(layers.MaxPooling1D(pool_size=(4)))\n",
        "model1.add(layers.Dropout(0.1))\n",
        "model1.add(layers.Flatten())\n",
        "model1.add(layers.Dense(64))\n",
        "model1.add(layers.Dense(12))\n",
        "model1.add(layers.Activation('softmax'))\n",
        "\n",
        "model1.compile(optimizer=tf.keras.optimizers.Adam(lr=0.1), loss=\"sparse_categorical_crossentropy\", metrics=['accuracy'])\n",
        "\n",
        "history = model1.fit(X_train, y_train,batch_size=10, epochs=100)"
      ],
      "metadata": {
        "colab": {
          "base_uri": "https://localhost:8080/",
          "height": 1000
        },
        "id": "oNM5_uNPpzoX",
        "outputId": "b54b94b8-8445-445c-a534-79f47c715f9f"
      },
      "execution_count": 102,
      "outputs": [
        {
          "output_type": "stream",
          "name": "stderr",
          "text": [
            "WARNING:absl:`lr` is deprecated, please use `learning_rate` instead, or use the legacy optimizer, e.g.,tf.keras.optimizers.legacy.Adam.\n"
          ]
        },
        {
          "output_type": "stream",
          "name": "stdout",
          "text": [
            "Epoch 1/100\n",
            "559/559 [==============================] - 4s 4ms/step - loss: 4.4392 - accuracy: 0.0878\n",
            "Epoch 2/100\n",
            "559/559 [==============================] - 2s 4ms/step - loss: 2.4852 - accuracy: 0.0883\n",
            "Epoch 3/100\n",
            "559/559 [==============================] - 2s 4ms/step - loss: 2.4844 - accuracy: 0.0873\n",
            "Epoch 4/100\n",
            "559/559 [==============================] - 2s 4ms/step - loss: 2.4832 - accuracy: 0.0910\n",
            "Epoch 5/100\n",
            "559/559 [==============================] - 2s 4ms/step - loss: 2.4835 - accuracy: 0.0910\n",
            "Epoch 6/100\n",
            "559/559 [==============================] - 2s 4ms/step - loss: 2.4856 - accuracy: 0.0926\n",
            "Epoch 7/100\n",
            "559/559 [==============================] - 2s 4ms/step - loss: 2.4846 - accuracy: 0.0930\n",
            "Epoch 8/100\n",
            "559/559 [==============================] - 2s 4ms/step - loss: 2.4913 - accuracy: 0.0905\n",
            "Epoch 9/100\n",
            "559/559 [==============================] - 2s 4ms/step - loss: 2.4840 - accuracy: 0.0914\n",
            "Epoch 10/100\n",
            "559/559 [==============================] - 2s 4ms/step - loss: 2.4828 - accuracy: 0.0912\n",
            "Epoch 11/100\n",
            "559/559 [==============================] - 2s 4ms/step - loss: 2.4929 - accuracy: 0.0941\n",
            "Epoch 12/100\n",
            "559/559 [==============================] - 2s 4ms/step - loss: 2.4841 - accuracy: 0.0926\n",
            "Epoch 13/100\n",
            "559/559 [==============================] - 2s 4ms/step - loss: 2.4968 - accuracy: 0.0885\n",
            "Epoch 14/100\n",
            "559/559 [==============================] - 2s 4ms/step - loss: 2.4826 - accuracy: 0.0860\n",
            "Epoch 15/100\n",
            "559/559 [==============================] - 2s 4ms/step - loss: 2.4862 - accuracy: 0.0932\n",
            "Epoch 16/100\n",
            "559/559 [==============================] - 2s 4ms/step - loss: 2.4852 - accuracy: 0.0932\n",
            "Epoch 17/100\n",
            "559/559 [==============================] - 2s 4ms/step - loss: 2.4828 - accuracy: 0.0901\n",
            "Epoch 18/100\n",
            "559/559 [==============================] - 2s 4ms/step - loss: 2.4851 - accuracy: 0.0862\n",
            "Epoch 19/100\n",
            "559/559 [==============================] - 2s 4ms/step - loss: 2.4823 - accuracy: 0.0908\n",
            "Epoch 20/100\n",
            "559/559 [==============================] - 2s 4ms/step - loss: 2.4827 - accuracy: 0.0894\n",
            "Epoch 21/100\n",
            "559/559 [==============================] - 2s 4ms/step - loss: 2.4825 - accuracy: 0.0903\n",
            "Epoch 22/100\n",
            "559/559 [==============================] - 2s 4ms/step - loss: 2.4825 - accuracy: 0.0889\n",
            "Epoch 23/100\n",
            "559/559 [==============================] - 2s 4ms/step - loss: 2.4833 - accuracy: 0.0937\n",
            "Epoch 24/100\n",
            "559/559 [==============================] - 2s 4ms/step - loss: 2.4881 - accuracy: 0.0899\n",
            "Epoch 25/100\n",
            "559/559 [==============================] - 2s 4ms/step - loss: 2.4835 - accuracy: 0.0853\n",
            "Epoch 26/100\n",
            "559/559 [==============================] - 2s 4ms/step - loss: 2.4830 - accuracy: 0.0855\n",
            "Epoch 27/100\n",
            "559/559 [==============================] - 2s 4ms/step - loss: 2.4828 - accuracy: 0.0916\n",
            "Epoch 28/100\n",
            "559/559 [==============================] - 2s 4ms/step - loss: 2.4835 - accuracy: 0.0916\n",
            "Epoch 29/100\n",
            "559/559 [==============================] - 2s 4ms/step - loss: 2.4829 - accuracy: 0.0867\n",
            "Epoch 30/100\n",
            "559/559 [==============================] - 2s 4ms/step - loss: 2.4838 - accuracy: 0.0908\n",
            "Epoch 31/100\n",
            "559/559 [==============================] - 2s 4ms/step - loss: 2.4847 - accuracy: 0.0930\n",
            "Epoch 32/100\n",
            "559/559 [==============================] - 2s 4ms/step - loss: 2.4916 - accuracy: 0.0883\n",
            "Epoch 33/100\n",
            "559/559 [==============================] - 2s 4ms/step - loss: 2.4824 - accuracy: 0.0887\n",
            "Epoch 34/100\n",
            "559/559 [==============================] - 2s 4ms/step - loss: 2.4832 - accuracy: 0.0833\n",
            "Epoch 35/100\n",
            "559/559 [==============================] - 2s 4ms/step - loss: 2.4832 - accuracy: 0.0926\n",
            "Epoch 36/100\n",
            "559/559 [==============================] - 2s 4ms/step - loss: 2.4823 - accuracy: 0.0912\n",
            "Epoch 37/100\n",
            "559/559 [==============================] - 2s 4ms/step - loss: 2.4820 - accuracy: 0.0928\n",
            "Epoch 38/100\n",
            "559/559 [==============================] - 2s 4ms/step - loss: 2.4893 - accuracy: 0.0885\n",
            "Epoch 39/100\n",
            "559/559 [==============================] - 2s 4ms/step - loss: 2.4825 - accuracy: 0.0837\n",
            "Epoch 40/100\n",
            "559/559 [==============================] - 2s 4ms/step - loss: 2.4815 - accuracy: 0.0910\n",
            "Epoch 41/100\n",
            "559/559 [==============================] - 2s 4ms/step - loss: 2.4820 - accuracy: 0.0889\n",
            "Epoch 42/100\n",
            "559/559 [==============================] - 2s 4ms/step - loss: 2.4879 - accuracy: 0.0874\n",
            "Epoch 43/100\n",
            "559/559 [==============================] - 2s 4ms/step - loss: 2.4821 - accuracy: 0.0934\n",
            "Epoch 44/100\n",
            "559/559 [==============================] - 2s 4ms/step - loss: 2.4825 - accuracy: 0.0873\n",
            "Epoch 45/100\n",
            "559/559 [==============================] - 2s 4ms/step - loss: 2.4815 - accuracy: 0.0934\n",
            "Epoch 46/100\n",
            "559/559 [==============================] - 2s 4ms/step - loss: 2.4822 - accuracy: 0.0896\n",
            "Epoch 47/100\n",
            "559/559 [==============================] - 2s 4ms/step - loss: 2.4816 - accuracy: 0.0908\n",
            "Epoch 48/100\n",
            "559/559 [==============================] - 2s 4ms/step - loss: 2.4817 - accuracy: 0.0858\n",
            "Epoch 49/100\n",
            "559/559 [==============================] - 2s 4ms/step - loss: 2.4816 - accuracy: 0.0935\n",
            "Epoch 50/100\n",
            "559/559 [==============================] - 2s 4ms/step - loss: 2.4814 - accuracy: 0.0903\n",
            "Epoch 51/100\n",
            "559/559 [==============================] - 2s 4ms/step - loss: 2.4822 - accuracy: 0.0905\n",
            "Epoch 52/100\n",
            "559/559 [==============================] - 2s 4ms/step - loss: 2.4819 - accuracy: 0.0912\n",
            "Epoch 53/100\n",
            "559/559 [==============================] - 2s 4ms/step - loss: 2.4821 - accuracy: 0.0925\n",
            "Epoch 54/100\n",
            "559/559 [==============================] - 2s 4ms/step - loss: 2.4818 - accuracy: 0.0898\n",
            "Epoch 55/100\n",
            "559/559 [==============================] - 2s 4ms/step - loss: 2.4875 - accuracy: 0.0914\n",
            "Epoch 56/100\n",
            "559/559 [==============================] - 2s 4ms/step - loss: 2.4822 - accuracy: 0.0935\n",
            "Epoch 57/100\n",
            "559/559 [==============================] - 2s 4ms/step - loss: 2.4813 - accuracy: 0.0953\n",
            "Epoch 58/100\n",
            "559/559 [==============================] - 2s 4ms/step - loss: 2.4813 - accuracy: 0.0912\n",
            "Epoch 59/100\n",
            "559/559 [==============================] - 2s 4ms/step - loss: 2.4812 - accuracy: 0.0935\n",
            "Epoch 60/100\n",
            "559/559 [==============================] - 2s 4ms/step - loss: 2.4813 - accuracy: 0.0907\n",
            "Epoch 61/100\n",
            "559/559 [==============================] - 2s 4ms/step - loss: 2.4813 - accuracy: 0.0937\n",
            "Epoch 62/100\n",
            "559/559 [==============================] - 2s 4ms/step - loss: 2.4834 - accuracy: 0.0916\n",
            "Epoch 63/100\n",
            "559/559 [==============================] - 2s 4ms/step - loss: 2.4836 - accuracy: 0.0883\n",
            "Epoch 64/100\n",
            "559/559 [==============================] - 2s 4ms/step - loss: 2.4816 - accuracy: 0.0908\n",
            "Epoch 65/100\n",
            "559/559 [==============================] - 2s 4ms/step - loss: 2.4815 - accuracy: 0.0880\n",
            "Epoch 66/100\n",
            "559/559 [==============================] - 2s 4ms/step - loss: 2.4814 - accuracy: 0.0892\n",
            "Epoch 67/100\n",
            "145/559 [======>.......................] - ETA: 1s - loss: 2.4791 - accuracy: 0.0917"
          ]
        },
        {
          "output_type": "error",
          "ename": "KeyboardInterrupt",
          "evalue": "ignored",
          "traceback": [
            "\u001b[0;31m---------------------------------------------------------------------------\u001b[0m",
            "\u001b[0;31mKeyboardInterrupt\u001b[0m                         Traceback (most recent call last)",
            "\u001b[0;32m<ipython-input-102-7df53c718b3f>\u001b[0m in \u001b[0;36m<module>\u001b[0;34m\u001b[0m\n\u001b[1;32m     20\u001b[0m \u001b[0mmodel1\u001b[0m\u001b[0;34m.\u001b[0m\u001b[0mcompile\u001b[0m\u001b[0;34m(\u001b[0m\u001b[0moptimizer\u001b[0m\u001b[0;34m=\u001b[0m\u001b[0mtf\u001b[0m\u001b[0;34m.\u001b[0m\u001b[0mkeras\u001b[0m\u001b[0;34m.\u001b[0m\u001b[0moptimizers\u001b[0m\u001b[0;34m.\u001b[0m\u001b[0mAdam\u001b[0m\u001b[0;34m(\u001b[0m\u001b[0mlr\u001b[0m\u001b[0;34m=\u001b[0m\u001b[0;36m0.1\u001b[0m\u001b[0;34m)\u001b[0m\u001b[0;34m,\u001b[0m \u001b[0mloss\u001b[0m\u001b[0;34m=\u001b[0m\u001b[0;34m\"sparse_categorical_crossentropy\"\u001b[0m\u001b[0;34m,\u001b[0m \u001b[0mmetrics\u001b[0m\u001b[0;34m=\u001b[0m\u001b[0;34m[\u001b[0m\u001b[0;34m'accuracy'\u001b[0m\u001b[0;34m]\u001b[0m\u001b[0;34m)\u001b[0m\u001b[0;34m\u001b[0m\u001b[0;34m\u001b[0m\u001b[0m\n\u001b[1;32m     21\u001b[0m \u001b[0;34m\u001b[0m\u001b[0m\n\u001b[0;32m---> 22\u001b[0;31m \u001b[0mhistory\u001b[0m \u001b[0;34m=\u001b[0m \u001b[0mmodel1\u001b[0m\u001b[0;34m.\u001b[0m\u001b[0mfit\u001b[0m\u001b[0;34m(\u001b[0m\u001b[0mX_train\u001b[0m\u001b[0;34m,\u001b[0m \u001b[0my_train\u001b[0m\u001b[0;34m,\u001b[0m\u001b[0mbatch_size\u001b[0m\u001b[0;34m=\u001b[0m\u001b[0;36m10\u001b[0m\u001b[0;34m,\u001b[0m \u001b[0mepochs\u001b[0m\u001b[0;34m=\u001b[0m\u001b[0;36m100\u001b[0m\u001b[0;34m)\u001b[0m\u001b[0;34m\u001b[0m\u001b[0;34m\u001b[0m\u001b[0m\n\u001b[0m",
            "\u001b[0;32m/usr/local/lib/python3.9/dist-packages/keras/utils/traceback_utils.py\u001b[0m in \u001b[0;36merror_handler\u001b[0;34m(*args, **kwargs)\u001b[0m\n\u001b[1;32m     63\u001b[0m         \u001b[0mfiltered_tb\u001b[0m \u001b[0;34m=\u001b[0m \u001b[0;32mNone\u001b[0m\u001b[0;34m\u001b[0m\u001b[0;34m\u001b[0m\u001b[0m\n\u001b[1;32m     64\u001b[0m         \u001b[0;32mtry\u001b[0m\u001b[0;34m:\u001b[0m\u001b[0;34m\u001b[0m\u001b[0;34m\u001b[0m\u001b[0m\n\u001b[0;32m---> 65\u001b[0;31m             \u001b[0;32mreturn\u001b[0m \u001b[0mfn\u001b[0m\u001b[0;34m(\u001b[0m\u001b[0;34m*\u001b[0m\u001b[0margs\u001b[0m\u001b[0;34m,\u001b[0m \u001b[0;34m**\u001b[0m\u001b[0mkwargs\u001b[0m\u001b[0;34m)\u001b[0m\u001b[0;34m\u001b[0m\u001b[0;34m\u001b[0m\u001b[0m\n\u001b[0m\u001b[1;32m     66\u001b[0m         \u001b[0;32mexcept\u001b[0m \u001b[0mException\u001b[0m \u001b[0;32mas\u001b[0m \u001b[0me\u001b[0m\u001b[0;34m:\u001b[0m\u001b[0;34m\u001b[0m\u001b[0;34m\u001b[0m\u001b[0m\n\u001b[1;32m     67\u001b[0m             \u001b[0mfiltered_tb\u001b[0m \u001b[0;34m=\u001b[0m \u001b[0m_process_traceback_frames\u001b[0m\u001b[0;34m(\u001b[0m\u001b[0me\u001b[0m\u001b[0;34m.\u001b[0m\u001b[0m__traceback__\u001b[0m\u001b[0;34m)\u001b[0m\u001b[0;34m\u001b[0m\u001b[0;34m\u001b[0m\u001b[0m\n",
            "\u001b[0;32m/usr/local/lib/python3.9/dist-packages/keras/engine/training.py\u001b[0m in \u001b[0;36mfit\u001b[0;34m(self, x, y, batch_size, epochs, verbose, callbacks, validation_split, validation_data, shuffle, class_weight, sample_weight, initial_epoch, steps_per_epoch, validation_steps, validation_batch_size, validation_freq, max_queue_size, workers, use_multiprocessing)\u001b[0m\n\u001b[1;32m   1648\u001b[0m                         ):\n\u001b[1;32m   1649\u001b[0m                             \u001b[0mcallbacks\u001b[0m\u001b[0;34m.\u001b[0m\u001b[0mon_train_batch_begin\u001b[0m\u001b[0;34m(\u001b[0m\u001b[0mstep\u001b[0m\u001b[0;34m)\u001b[0m\u001b[0;34m\u001b[0m\u001b[0;34m\u001b[0m\u001b[0m\n\u001b[0;32m-> 1650\u001b[0;31m                             \u001b[0mtmp_logs\u001b[0m \u001b[0;34m=\u001b[0m \u001b[0mself\u001b[0m\u001b[0;34m.\u001b[0m\u001b[0mtrain_function\u001b[0m\u001b[0;34m(\u001b[0m\u001b[0miterator\u001b[0m\u001b[0;34m)\u001b[0m\u001b[0;34m\u001b[0m\u001b[0;34m\u001b[0m\u001b[0m\n\u001b[0m\u001b[1;32m   1651\u001b[0m                             \u001b[0;32mif\u001b[0m \u001b[0mdata_handler\u001b[0m\u001b[0;34m.\u001b[0m\u001b[0mshould_sync\u001b[0m\u001b[0;34m:\u001b[0m\u001b[0;34m\u001b[0m\u001b[0;34m\u001b[0m\u001b[0m\n\u001b[1;32m   1652\u001b[0m                                 \u001b[0mcontext\u001b[0m\u001b[0;34m.\u001b[0m\u001b[0masync_wait\u001b[0m\u001b[0;34m(\u001b[0m\u001b[0;34m)\u001b[0m\u001b[0;34m\u001b[0m\u001b[0;34m\u001b[0m\u001b[0m\n",
            "\u001b[0;32m/usr/local/lib/python3.9/dist-packages/tensorflow/python/util/traceback_utils.py\u001b[0m in \u001b[0;36merror_handler\u001b[0;34m(*args, **kwargs)\u001b[0m\n\u001b[1;32m    148\u001b[0m     \u001b[0mfiltered_tb\u001b[0m \u001b[0;34m=\u001b[0m \u001b[0;32mNone\u001b[0m\u001b[0;34m\u001b[0m\u001b[0;34m\u001b[0m\u001b[0m\n\u001b[1;32m    149\u001b[0m     \u001b[0;32mtry\u001b[0m\u001b[0;34m:\u001b[0m\u001b[0;34m\u001b[0m\u001b[0;34m\u001b[0m\u001b[0m\n\u001b[0;32m--> 150\u001b[0;31m       \u001b[0;32mreturn\u001b[0m \u001b[0mfn\u001b[0m\u001b[0;34m(\u001b[0m\u001b[0;34m*\u001b[0m\u001b[0margs\u001b[0m\u001b[0;34m,\u001b[0m \u001b[0;34m**\u001b[0m\u001b[0mkwargs\u001b[0m\u001b[0;34m)\u001b[0m\u001b[0;34m\u001b[0m\u001b[0;34m\u001b[0m\u001b[0m\n\u001b[0m\u001b[1;32m    151\u001b[0m     \u001b[0;32mexcept\u001b[0m \u001b[0mException\u001b[0m \u001b[0;32mas\u001b[0m \u001b[0me\u001b[0m\u001b[0;34m:\u001b[0m\u001b[0;34m\u001b[0m\u001b[0;34m\u001b[0m\u001b[0m\n\u001b[1;32m    152\u001b[0m       \u001b[0mfiltered_tb\u001b[0m \u001b[0;34m=\u001b[0m \u001b[0m_process_traceback_frames\u001b[0m\u001b[0;34m(\u001b[0m\u001b[0me\u001b[0m\u001b[0;34m.\u001b[0m\u001b[0m__traceback__\u001b[0m\u001b[0;34m)\u001b[0m\u001b[0;34m\u001b[0m\u001b[0;34m\u001b[0m\u001b[0m\n",
            "\u001b[0;32m/usr/local/lib/python3.9/dist-packages/tensorflow/python/eager/polymorphic_function/polymorphic_function.py\u001b[0m in \u001b[0;36m__call__\u001b[0;34m(self, *args, **kwds)\u001b[0m\n\u001b[1;32m    878\u001b[0m \u001b[0;34m\u001b[0m\u001b[0m\n\u001b[1;32m    879\u001b[0m       \u001b[0;32mwith\u001b[0m \u001b[0mOptionalXlaContext\u001b[0m\u001b[0;34m(\u001b[0m\u001b[0mself\u001b[0m\u001b[0;34m.\u001b[0m\u001b[0m_jit_compile\u001b[0m\u001b[0;34m)\u001b[0m\u001b[0;34m:\u001b[0m\u001b[0;34m\u001b[0m\u001b[0;34m\u001b[0m\u001b[0m\n\u001b[0;32m--> 880\u001b[0;31m         \u001b[0mresult\u001b[0m \u001b[0;34m=\u001b[0m \u001b[0mself\u001b[0m\u001b[0;34m.\u001b[0m\u001b[0m_call\u001b[0m\u001b[0;34m(\u001b[0m\u001b[0;34m*\u001b[0m\u001b[0margs\u001b[0m\u001b[0;34m,\u001b[0m \u001b[0;34m**\u001b[0m\u001b[0mkwds\u001b[0m\u001b[0;34m)\u001b[0m\u001b[0;34m\u001b[0m\u001b[0;34m\u001b[0m\u001b[0m\n\u001b[0m\u001b[1;32m    881\u001b[0m \u001b[0;34m\u001b[0m\u001b[0m\n\u001b[1;32m    882\u001b[0m       \u001b[0mnew_tracing_count\u001b[0m \u001b[0;34m=\u001b[0m \u001b[0mself\u001b[0m\u001b[0;34m.\u001b[0m\u001b[0mexperimental_get_tracing_count\u001b[0m\u001b[0;34m(\u001b[0m\u001b[0;34m)\u001b[0m\u001b[0;34m\u001b[0m\u001b[0;34m\u001b[0m\u001b[0m\n",
            "\u001b[0;32m/usr/local/lib/python3.9/dist-packages/tensorflow/python/eager/polymorphic_function/polymorphic_function.py\u001b[0m in \u001b[0;36m_call\u001b[0;34m(self, *args, **kwds)\u001b[0m\n\u001b[1;32m    910\u001b[0m       \u001b[0;31m# In this case we have created variables on the first call, so we run the\u001b[0m\u001b[0;34m\u001b[0m\u001b[0;34m\u001b[0m\u001b[0m\n\u001b[1;32m    911\u001b[0m       \u001b[0;31m# defunned version which is guaranteed to never create variables.\u001b[0m\u001b[0;34m\u001b[0m\u001b[0;34m\u001b[0m\u001b[0m\n\u001b[0;32m--> 912\u001b[0;31m       \u001b[0;32mreturn\u001b[0m \u001b[0mself\u001b[0m\u001b[0;34m.\u001b[0m\u001b[0m_no_variable_creation_fn\u001b[0m\u001b[0;34m(\u001b[0m\u001b[0;34m*\u001b[0m\u001b[0margs\u001b[0m\u001b[0;34m,\u001b[0m \u001b[0;34m**\u001b[0m\u001b[0mkwds\u001b[0m\u001b[0;34m)\u001b[0m  \u001b[0;31m# pylint: disable=not-callable\u001b[0m\u001b[0;34m\u001b[0m\u001b[0;34m\u001b[0m\u001b[0m\n\u001b[0m\u001b[1;32m    913\u001b[0m     \u001b[0;32melif\u001b[0m \u001b[0mself\u001b[0m\u001b[0;34m.\u001b[0m\u001b[0m_variable_creation_fn\u001b[0m \u001b[0;32mis\u001b[0m \u001b[0;32mnot\u001b[0m \u001b[0;32mNone\u001b[0m\u001b[0;34m:\u001b[0m\u001b[0;34m\u001b[0m\u001b[0;34m\u001b[0m\u001b[0m\n\u001b[1;32m    914\u001b[0m       \u001b[0;31m# Release the lock early so that multiple threads can perform the call\u001b[0m\u001b[0;34m\u001b[0m\u001b[0;34m\u001b[0m\u001b[0m\n",
            "\u001b[0;32m/usr/local/lib/python3.9/dist-packages/tensorflow/python/eager/polymorphic_function/tracing_compiler.py\u001b[0m in \u001b[0;36m__call__\u001b[0;34m(self, *args, **kwargs)\u001b[0m\n\u001b[1;32m    132\u001b[0m       (concrete_function,\n\u001b[1;32m    133\u001b[0m        filtered_flat_args) = self._maybe_define_function(args, kwargs)\n\u001b[0;32m--> 134\u001b[0;31m     return concrete_function._call_flat(\n\u001b[0m\u001b[1;32m    135\u001b[0m         filtered_flat_args, captured_inputs=concrete_function.captured_inputs)  # pylint: disable=protected-access\n\u001b[1;32m    136\u001b[0m \u001b[0;34m\u001b[0m\u001b[0m\n",
            "\u001b[0;32m/usr/local/lib/python3.9/dist-packages/tensorflow/python/eager/polymorphic_function/monomorphic_function.py\u001b[0m in \u001b[0;36m_call_flat\u001b[0;34m(self, args, captured_inputs, cancellation_manager)\u001b[0m\n\u001b[1;32m   1743\u001b[0m         and executing_eagerly):\n\u001b[1;32m   1744\u001b[0m       \u001b[0;31m# No tape is watching; skip to running the function.\u001b[0m\u001b[0;34m\u001b[0m\u001b[0;34m\u001b[0m\u001b[0m\n\u001b[0;32m-> 1745\u001b[0;31m       return self._build_call_outputs(self._inference_function.call(\n\u001b[0m\u001b[1;32m   1746\u001b[0m           ctx, args, cancellation_manager=cancellation_manager))\n\u001b[1;32m   1747\u001b[0m     forward_backward = self._select_forward_and_backward_functions(\n",
            "\u001b[0;32m/usr/local/lib/python3.9/dist-packages/tensorflow/python/eager/polymorphic_function/monomorphic_function.py\u001b[0m in \u001b[0;36mcall\u001b[0;34m(self, ctx, args, cancellation_manager)\u001b[0m\n\u001b[1;32m    376\u001b[0m       \u001b[0;32mwith\u001b[0m \u001b[0m_InterpolateFunctionError\u001b[0m\u001b[0;34m(\u001b[0m\u001b[0mself\u001b[0m\u001b[0;34m)\u001b[0m\u001b[0;34m:\u001b[0m\u001b[0;34m\u001b[0m\u001b[0;34m\u001b[0m\u001b[0m\n\u001b[1;32m    377\u001b[0m         \u001b[0;32mif\u001b[0m \u001b[0mcancellation_manager\u001b[0m \u001b[0;32mis\u001b[0m \u001b[0;32mNone\u001b[0m\u001b[0;34m:\u001b[0m\u001b[0;34m\u001b[0m\u001b[0;34m\u001b[0m\u001b[0m\n\u001b[0;32m--> 378\u001b[0;31m           outputs = execute.execute(\n\u001b[0m\u001b[1;32m    379\u001b[0m               \u001b[0mstr\u001b[0m\u001b[0;34m(\u001b[0m\u001b[0mself\u001b[0m\u001b[0;34m.\u001b[0m\u001b[0msignature\u001b[0m\u001b[0;34m.\u001b[0m\u001b[0mname\u001b[0m\u001b[0;34m)\u001b[0m\u001b[0;34m,\u001b[0m\u001b[0;34m\u001b[0m\u001b[0;34m\u001b[0m\u001b[0m\n\u001b[1;32m    380\u001b[0m               \u001b[0mnum_outputs\u001b[0m\u001b[0;34m=\u001b[0m\u001b[0mself\u001b[0m\u001b[0;34m.\u001b[0m\u001b[0m_num_outputs\u001b[0m\u001b[0;34m,\u001b[0m\u001b[0;34m\u001b[0m\u001b[0;34m\u001b[0m\u001b[0m\n",
            "\u001b[0;32m/usr/local/lib/python3.9/dist-packages/tensorflow/python/eager/execute.py\u001b[0m in \u001b[0;36mquick_execute\u001b[0;34m(op_name, num_outputs, inputs, attrs, ctx, name)\u001b[0m\n\u001b[1;32m     50\u001b[0m   \u001b[0;32mtry\u001b[0m\u001b[0;34m:\u001b[0m\u001b[0;34m\u001b[0m\u001b[0;34m\u001b[0m\u001b[0m\n\u001b[1;32m     51\u001b[0m     \u001b[0mctx\u001b[0m\u001b[0;34m.\u001b[0m\u001b[0mensure_initialized\u001b[0m\u001b[0;34m(\u001b[0m\u001b[0;34m)\u001b[0m\u001b[0;34m\u001b[0m\u001b[0;34m\u001b[0m\u001b[0m\n\u001b[0;32m---> 52\u001b[0;31m     tensors = pywrap_tfe.TFE_Py_Execute(ctx._handle, device_name, op_name,\n\u001b[0m\u001b[1;32m     53\u001b[0m                                         inputs, attrs, num_outputs)\n\u001b[1;32m     54\u001b[0m   \u001b[0;32mexcept\u001b[0m \u001b[0mcore\u001b[0m\u001b[0;34m.\u001b[0m\u001b[0m_NotOkStatusException\u001b[0m \u001b[0;32mas\u001b[0m \u001b[0me\u001b[0m\u001b[0;34m:\u001b[0m\u001b[0;34m\u001b[0m\u001b[0;34m\u001b[0m\u001b[0m\n",
            "\u001b[0;31mKeyboardInterrupt\u001b[0m: "
          ]
        }
      ]
    },
    {
      "cell_type": "code",
      "source": [
        "plt.plot(history.history['loss'], label='loss')\n",
        "plt.plot(history.history['accuracy'], label='accuracy')\n",
        "plt.legend()\n",
        "plt.xlabel(\"epochs\")\n",
        "plt.show()"
      ],
      "metadata": {
        "colab": {
          "base_uri": "https://localhost:8080/",
          "height": 279
        },
        "id": "IhQ7aU9NuBDZ",
        "outputId": "5c519626-ba3f-4aa4-89fd-d157e2ec7f2c"
      },
      "execution_count": 103,
      "outputs": [
        {
          "output_type": "display_data",
          "data": {
            "text/plain": [
              "<Figure size 432x288 with 1 Axes>"
            ],
            "image/png": "[encoded data removed]"
          },
          "metadata": {
            "needs_background": "light"
          }
        }
      ]
    },
    {
      "cell_type": "code",
      "source": [
        "model1.evaluate(X_test, y_test)"
      ],
      "metadata": {
        "colab": {
          "base_uri": "https://localhost:8080/"
        },
        "id": "dov6OB2up8V1",
        "outputId": "94d743f9-cd94-4665-e92b-46842fb034aa"
      },
      "execution_count": 104,
      "outputs": [
        {
          "output_type": "stream",
          "name": "stdout",
          "text": [
            "59/59 [==============================] - 0s 3ms/step - loss: 2.4831 - accuracy: 0.0795\n"
          ]
        },
        {
          "output_type": "execute_result",
          "data": {
            "text/plain": [
              "[2.483123302459717, 0.07952713966369629]"
            ]
          },
          "metadata": {},
          "execution_count": 104
        }
      ]
    },
    {
      "cell_type": "markdown",
      "source": [
        "Model 1:\n",
        "- Accuracy: 8%\n",
        "- Loss: 2.48%"
      ],
      "metadata": {
        "id": "q1zRE9ShtUWI"
      }
    },
    {
      "cell_type": "code",
      "source": [
        "from tensorflow.keras import Sequential\n",
        "from tensorflow.keras import layers\n",
        "\n",
        "model2 = Sequential()\n",
        "model2.add(layers.Conv1D(256, 5,padding='same',\n",
        "                 input_shape=(431,20)))\n",
        "model2.add(layers.Activation('relu'))\n",
        "model2.add(layers.MaxPooling1D(pool_size=(8)))\n",
        "model2.add(layers.Dropout(0.2))\n",
        "model2.add(layers.Conv1D(128, 5,padding='same'))\n",
        "model2.add(layers.Activation('relu'))\n",
        "model2.add(layers.MaxPooling1D(pool_size=(4)))\n",
        "model2.add(layers.Dropout(0.1))\n",
        "model2.add(layers.Flatten())\n",
        "model2.add(layers.Dense(64))\n",
        "model2.add(layers.Dense(12))\n",
        "model2.add(layers.Activation('softmax'))\n",
        "\n",
        "model2.compile(optimizer=tf.keras.optimizers.SGD(), loss=\"sparse_categorical_crossentropy\", metrics=['accuracy'])\n",
        "\n",
        "history = model2.fit(X_train, y_train,batch_size=10, epochs=50)"
      ],
      "metadata": {
        "colab": {
          "base_uri": "https://localhost:8080/"
        },
        "id": "hqi3bg5BtwUB",
        "outputId": "83fec59d-0764-4d62-f720-846f05de94df"
      },
      "execution_count": 105,
      "outputs": [
        {
          "output_type": "stream",
          "name": "stdout",
          "text": [
            "Epoch 1/50\n",
            "559/559 [==============================] - 3s 4ms/step - loss: nan - accuracy: 0.0930\n",
            "Epoch 2/50\n",
            "559/559 [==============================] - 2s 4ms/step - loss: nan - accuracy: 0.0935\n",
            "Epoch 3/50\n",
            "559/559 [==============================] - 2s 4ms/step - loss: nan - accuracy: 0.0935\n",
            "Epoch 4/50\n",
            "559/559 [==============================] - 2s 4ms/step - loss: nan - accuracy: 0.0935\n",
            "Epoch 5/50\n",
            "559/559 [==============================] - 2s 4ms/step - loss: nan - accuracy: 0.0935\n",
            "Epoch 6/50\n",
            "559/559 [==============================] - 2s 4ms/step - loss: nan - accuracy: 0.0935\n",
            "Epoch 7/50\n",
            "559/559 [==============================] - 2s 4ms/step - loss: nan - accuracy: 0.0935\n",
            "Epoch 8/50\n",
            "559/559 [==============================] - 2s 4ms/step - loss: nan - accuracy: 0.0935\n",
            "Epoch 9/50\n",
            "559/559 [==============================] - 2s 4ms/step - loss: nan - accuracy: 0.0935\n",
            "Epoch 10/50\n",
            "559/559 [==============================] - 2s 4ms/step - loss: nan - accuracy: 0.0935\n",
            "Epoch 11/50\n",
            "559/559 [==============================] - 2s 4ms/step - loss: nan - accuracy: 0.0935\n",
            "Epoch 12/50\n",
            "559/559 [==============================] - 2s 4ms/step - loss: nan - accuracy: 0.0935\n",
            "Epoch 13/50\n",
            "559/559 [==============================] - 2s 4ms/step - loss: nan - accuracy: 0.0935\n",
            "Epoch 14/50\n",
            "559/559 [==============================] - 2s 4ms/step - loss: nan - accuracy: 0.0935\n",
            "Epoch 15/50\n",
            "559/559 [==============================] - 2s 4ms/step - loss: nan - accuracy: 0.0935\n",
            "Epoch 16/50\n",
            "559/559 [==============================] - 2s 4ms/step - loss: nan - accuracy: 0.0935\n",
            "Epoch 17/50\n",
            "559/559 [==============================] - 2s 4ms/step - loss: nan - accuracy: 0.0935\n",
            "Epoch 18/50\n",
            "559/559 [==============================] - 2s 4ms/step - loss: nan - accuracy: 0.0935\n",
            "Epoch 19/50\n",
            "559/559 [==============================] - 2s 4ms/step - loss: nan - accuracy: 0.0935\n",
            "Epoch 20/50\n",
            "559/559 [==============================] - 2s 4ms/step - loss: nan - accuracy: 0.0935\n",
            "Epoch 21/50\n",
            "559/559 [==============================] - 2s 4ms/step - loss: nan - accuracy: 0.0935\n",
            "Epoch 22/50\n",
            "559/559 [==============================] - 2s 4ms/step - loss: nan - accuracy: 0.0935\n",
            "Epoch 23/50\n",
            "559/559 [==============================] - 2s 4ms/step - loss: nan - accuracy: 0.0935\n",
            "Epoch 24/50\n",
            "559/559 [==============================] - 2s 4ms/step - loss: nan - accuracy: 0.0935\n",
            "Epoch 25/50\n",
            "559/559 [==============================] - 2s 4ms/step - loss: nan - accuracy: 0.0935\n",
            "Epoch 26/50\n",
            "559/559 [==============================] - 2s 4ms/step - loss: nan - accuracy: 0.0935\n",
            "Epoch 27/50\n",
            "559/559 [==============================] - 2s 4ms/step - loss: nan - accuracy: 0.0935\n",
            "Epoch 28/50\n",
            "559/559 [==============================] - 2s 4ms/step - loss: nan - accuracy: 0.0935\n",
            "Epoch 29/50\n",
            "559/559 [==============================] - 2s 4ms/step - loss: nan - accuracy: 0.0935\n",
            "Epoch 30/50\n",
            "559/559 [==============================] - 2s 4ms/step - loss: nan - accuracy: 0.0935\n",
            "Epoch 31/50\n",
            "559/559 [==============================] - 2s 4ms/step - loss: nan - accuracy: 0.0935\n",
            "Epoch 32/50\n",
            "559/559 [==============================] - 2s 4ms/step - loss: nan - accuracy: 0.0935\n",
            "Epoch 33/50\n",
            "559/559 [==============================] - 2s 4ms/step - loss: nan - accuracy: 0.0935\n",
            "Epoch 34/50\n",
            "559/559 [==============================] - 2s 4ms/step - loss: nan - accuracy: 0.0935\n",
            "Epoch 35/50\n",
            "559/559 [==============================] - 2s 4ms/step - loss: nan - accuracy: 0.0935\n",
            "Epoch 36/50\n",
            "559/559 [==============================] - 2s 4ms/step - loss: nan - accuracy: 0.0935\n",
            "Epoch 37/50\n",
            "559/559 [==============================] - 2s 4ms/step - loss: nan - accuracy: 0.0935\n",
            "Epoch 38/50\n",
            "559/559 [==============================] - 2s 4ms/step - loss: nan - accuracy: 0.0935\n",
            "Epoch 39/50\n",
            "559/559 [==============================] - 2s 4ms/step - loss: nan - accuracy: 0.0935\n",
            "Epoch 40/50\n",
            "559/559 [==============================] - 2s 4ms/step - loss: nan - accuracy: 0.0935\n",
            "Epoch 41/50\n",
            "559/559 [==============================] - 2s 4ms/step - loss: nan - accuracy: 0.0935\n",
            "Epoch 42/50\n",
            "559/559 [==============================] - 2s 4ms/step - loss: nan - accuracy: 0.0935\n",
            "Epoch 43/50\n",
            "559/559 [==============================] - 2s 4ms/step - loss: nan - accuracy: 0.0935\n",
            "Epoch 44/50\n",
            "559/559 [==============================] - 2s 4ms/step - loss: nan - accuracy: 0.0935\n",
            "Epoch 45/50\n",
            "559/559 [==============================] - 2s 4ms/step - loss: nan - accuracy: 0.0935\n",
            "Epoch 46/50\n",
            "559/559 [==============================] - 2s 4ms/step - loss: nan - accuracy: 0.0935\n",
            "Epoch 47/50\n",
            "559/559 [==============================] - 2s 4ms/step - loss: nan - accuracy: 0.0935\n",
            "Epoch 48/50\n",
            "559/559 [==============================] - 2s 4ms/step - loss: nan - accuracy: 0.0935\n",
            "Epoch 49/50\n",
            "559/559 [==============================] - 2s 4ms/step - loss: nan - accuracy: 0.0935\n",
            "Epoch 50/50\n",
            "559/559 [==============================] - 2s 4ms/step - loss: nan - accuracy: 0.0935\n"
          ]
        }
      ]
    },
    {
      "cell_type": "code",
      "source": [
        "plt.plot(history.history['loss'], label='loss')\n",
        "plt.plot(history.history['accuracy'], label='accuracy')\n",
        "plt.legend()\n",
        "plt.xlabel(\"epochs\")\n",
        "plt.show()"
      ],
      "metadata": {
        "colab": {
          "base_uri": "https://localhost:8080/",
          "height": 279
        },
        "id": "A8S9HMDEt3t0",
        "outputId": "d4fc9043-d3d1-4e4f-dea7-379a66dbba76"
      },
      "execution_count": 106,
      "outputs": [
        {
          "output_type": "display_data",
          "data": {
            "text/plain": [
              "<Figure size 432x288 with 1 Axes>"
            ],
            "image/png": "[encoded data removed]"
          },
          "metadata": {
            "needs_background": "light"
          }
        }
      ]
    },
    {
      "cell_type": "code",
      "source": [
        "model2.evaluate(X_test, y_test)"
      ],
      "metadata": {
        "colab": {
          "base_uri": "https://localhost:8080/"
        },
        "id": "CYTn8CqoudX6",
        "outputId": "647fd7d3-2604-4e93-ce8d-8a17319e98ee"
      },
      "execution_count": 107,
      "outputs": [
        {
          "output_type": "stream",
          "name": "stdout",
          "text": [
            "59/59 [==============================] - 0s 3ms/step - loss: nan - accuracy: 0.0801\n"
          ]
        },
        {
          "output_type": "execute_result",
          "data": {
            "text/plain": [
              "[nan, 0.08006448298692703]"
            ]
          },
          "metadata": {},
          "execution_count": 107
        }
      ]
    },
    {
      "cell_type": "markdown",
      "source": [
        "Model 2:\n",
        "- Accuracy: 8%\n",
        "- Loss: nan"
      ],
      "metadata": {
        "id": "6uJt-Mvxu5U3"
      }
    },
    {
      "cell_type": "code",
      "source": [
        "from tensorflow.keras import Sequential\n",
        "from tensorflow.keras import layers\n",
        "\n",
        "model3 = Sequential()\n",
        "model3.add(layers.Conv1D(256, 5,padding='same',\n",
        "                 input_shape=(431,20)))\n",
        "model3.add(layers.Activation('relu'))\n",
        "model3.add(layers.MaxPooling1D(pool_size=(8)))\n",
        "model3.add(layers.Dropout(0.2))\n",
        "model3.add(layers.Conv1D(128, 5,padding='same'))\n",
        "model3.add(layers.Activation('relu'))\n",
        "model3.add(layers.MaxPooling1D(pool_size=(4)))\n",
        "model3.add(layers.Dropout(0.1))\n",
        "model3.add(layers.Flatten())\n",
        "model3.add(layers.Dense(128))\n",
        "model3.add(layers.Dense(12))\n",
        "model3.add(layers.Activation('softmax'))\n",
        "\n",
        "model3.compile(optimizer=tf.keras.optimizers.Adam(), loss=\"sparse_categorical_crossentropy\", metrics=['accuracy'])\n",
        "\n",
        "history = model3.fit(X_train, y_train,batch_size=10, epochs=50)"
      ],
      "metadata": {
        "colab": {
          "base_uri": "https://localhost:8080/"
        },
        "id": "EdPWNDinvPvc",
        "outputId": "788f7ffd-e396-4c7f-cf90-a3cf35913964"
      },
      "execution_count": 108,
      "outputs": [
        {
          "output_type": "stream",
          "name": "stdout",
          "text": [
            "Epoch 1/50\n",
            "559/559 [==============================] - 4s 4ms/step - loss: 4.3199 - accuracy: 0.1140\n",
            "Epoch 2/50\n",
            "559/559 [==============================] - 2s 4ms/step - loss: 2.4174 - accuracy: 0.1466\n",
            "Epoch 3/50\n",
            "559/559 [==============================] - 2s 4ms/step - loss: 2.3937 - accuracy: 0.1432\n",
            "Epoch 4/50\n",
            "559/559 [==============================] - 2s 4ms/step - loss: 2.4544 - accuracy: 0.1236\n",
            "Epoch 5/50\n",
            "559/559 [==============================] - 2s 4ms/step - loss: 2.4530 - accuracy: 0.1249\n",
            "Epoch 6/50\n",
            "559/559 [==============================] - 2s 4ms/step - loss: 2.4527 - accuracy: 0.1190\n",
            "Epoch 7/50\n",
            "559/559 [==============================] - 2s 4ms/step - loss: 2.4519 - accuracy: 0.1288\n",
            "Epoch 8/50\n",
            "559/559 [==============================] - 2s 4ms/step - loss: 2.4508 - accuracy: 0.1229\n",
            "Epoch 9/50\n",
            "559/559 [==============================] - 2s 4ms/step - loss: 2.4529 - accuracy: 0.1159\n",
            "Epoch 10/50\n",
            "559/559 [==============================] - 2s 4ms/step - loss: 2.4490 - accuracy: 0.1245\n",
            "Epoch 11/50\n",
            "559/559 [==============================] - 2s 4ms/step - loss: 2.4522 - accuracy: 0.1224\n",
            "Epoch 12/50\n",
            "559/559 [==============================] - 2s 4ms/step - loss: 2.4534 - accuracy: 0.1190\n",
            "Epoch 13/50\n",
            "559/559 [==============================] - 2s 4ms/step - loss: 2.4496 - accuracy: 0.1190\n",
            "Epoch 14/50\n",
            "559/559 [==============================] - 2s 4ms/step - loss: 2.4533 - accuracy: 0.1215\n",
            "Epoch 15/50\n",
            "559/559 [==============================] - 2s 4ms/step - loss: 2.4527 - accuracy: 0.1177\n",
            "Epoch 16/50\n",
            "559/559 [==============================] - 2s 4ms/step - loss: 2.4522 - accuracy: 0.1175\n",
            "Epoch 17/50\n",
            "559/559 [==============================] - 2s 4ms/step - loss: 2.4577 - accuracy: 0.1156\n",
            "Epoch 18/50\n",
            "559/559 [==============================] - 2s 4ms/step - loss: 2.4486 - accuracy: 0.1193\n",
            "Epoch 19/50\n",
            "559/559 [==============================] - 2s 4ms/step - loss: 2.4491 - accuracy: 0.1211\n",
            "Epoch 20/50\n",
            "559/559 [==============================] - 2s 4ms/step - loss: 2.4498 - accuracy: 0.1204\n",
            "Epoch 21/50\n",
            "559/559 [==============================] - 2s 4ms/step - loss: 2.4520 - accuracy: 0.1195\n",
            "Epoch 22/50\n",
            "559/559 [==============================] - 2s 4ms/step - loss: 2.4476 - accuracy: 0.1195\n",
            "Epoch 23/50\n",
            "559/559 [==============================] - 2s 4ms/step - loss: 2.4487 - accuracy: 0.1215\n",
            "Epoch 24/50\n",
            "559/559 [==============================] - 2s 4ms/step - loss: 2.4448 - accuracy: 0.1261\n",
            "Epoch 25/50\n",
            "559/559 [==============================] - 2s 4ms/step - loss: 2.4469 - accuracy: 0.1172\n",
            "Epoch 26/50\n",
            "559/559 [==============================] - 2s 4ms/step - loss: 2.4469 - accuracy: 0.1218\n",
            "Epoch 27/50\n",
            "559/559 [==============================] - 2s 4ms/step - loss: 2.4492 - accuracy: 0.1272\n",
            "Epoch 28/50\n",
            "559/559 [==============================] - 2s 4ms/step - loss: 2.4487 - accuracy: 0.1199\n",
            "Epoch 29/50\n",
            "559/559 [==============================] - 2s 4ms/step - loss: 2.4473 - accuracy: 0.1201\n",
            "Epoch 30/50\n",
            "559/559 [==============================] - 2s 4ms/step - loss: 2.4491 - accuracy: 0.1215\n",
            "Epoch 31/50\n",
            "559/559 [==============================] - 2s 4ms/step - loss: 2.4560 - accuracy: 0.1220\n",
            "Epoch 32/50\n",
            "559/559 [==============================] - 2s 4ms/step - loss: 2.4476 - accuracy: 0.1208\n",
            "Epoch 33/50\n",
            "559/559 [==============================] - 2s 4ms/step - loss: 2.4464 - accuracy: 0.1184\n",
            "Epoch 34/50\n",
            "559/559 [==============================] - 2s 4ms/step - loss: 2.4468 - accuracy: 0.1217\n",
            "Epoch 35/50\n",
            "559/559 [==============================] - 2s 4ms/step - loss: 2.4657 - accuracy: 0.1270\n",
            "Epoch 36/50\n",
            "559/559 [==============================] - 2s 4ms/step - loss: 2.4495 - accuracy: 0.1242\n",
            "Epoch 37/50\n",
            "559/559 [==============================] - 2s 4ms/step - loss: 2.4485 - accuracy: 0.1211\n",
            "Epoch 38/50\n",
            "559/559 [==============================] - 2s 4ms/step - loss: 2.4456 - accuracy: 0.1276\n",
            "Epoch 39/50\n",
            "559/559 [==============================] - 2s 4ms/step - loss: 2.4449 - accuracy: 0.1202\n",
            "Epoch 40/50\n",
            "559/559 [==============================] - 2s 4ms/step - loss: 2.4473 - accuracy: 0.1278\n",
            "Epoch 41/50\n",
            "559/559 [==============================] - 2s 4ms/step - loss: 2.4467 - accuracy: 0.1222\n",
            "Epoch 42/50\n",
            "559/559 [==============================] - 2s 4ms/step - loss: 2.4474 - accuracy: 0.1218\n",
            "Epoch 43/50\n",
            "559/559 [==============================] - 2s 4ms/step - loss: 2.4476 - accuracy: 0.1226\n",
            "Epoch 44/50\n",
            "559/559 [==============================] - 2s 4ms/step - loss: 2.4456 - accuracy: 0.1254\n",
            "Epoch 45/50\n",
            "559/559 [==============================] - 2s 4ms/step - loss: 2.4461 - accuracy: 0.1265\n",
            "Epoch 46/50\n",
            "559/559 [==============================] - 2s 4ms/step - loss: 2.4462 - accuracy: 0.1231\n",
            "Epoch 47/50\n",
            "559/559 [==============================] - 2s 4ms/step - loss: 2.4457 - accuracy: 0.1209\n",
            "Epoch 48/50\n",
            "559/559 [==============================] - 2s 4ms/step - loss: 2.4444 - accuracy: 0.1217\n",
            "Epoch 49/50\n",
            "559/559 [==============================] - 2s 4ms/step - loss: 2.4462 - accuracy: 0.1285\n",
            "Epoch 50/50\n",
            "559/559 [==============================] - 2s 4ms/step - loss: 2.4475 - accuracy: 0.1211\n"
          ]
        }
      ]
    },
    {
      "cell_type": "code",
      "source": [
        "plt.plot(history.history['loss'], label='loss')\n",
        "plt.plot(history.history['accuracy'], label='accuracy')\n",
        "plt.legend()\n",
        "plt.xlabel(\"epochs\")\n",
        "plt.show()"
      ],
      "metadata": {
        "colab": {
          "base_uri": "https://localhost:8080/",
          "height": 279
        },
        "id": "AKMIzFmsvXUD",
        "outputId": "e2ba70ee-e2dc-4cb0-90d3-f6410e38e5b8"
      },
      "execution_count": 109,
      "outputs": [
        {
          "output_type": "display_data",
          "data": {
            "text/plain": [
              "<Figure size 432x288 with 1 Axes>"
            ],
            "image/png": "[encoded data removed]"
          },
          "metadata": {
            "needs_background": "light"
          }
        }
      ]
    },
    {
      "cell_type": "code",
      "source": [
        "model3.evaluate(X_test, y_test)"
      ],
      "metadata": {
        "colab": {
          "base_uri": "https://localhost:8080/"
        },
        "id": "l-cGtvM6v6U_",
        "outputId": "ef8603ec-6864-4f5e-f871-c712078df99f"
      },
      "execution_count": 110,
      "outputs": [
        {
          "output_type": "stream",
          "name": "stdout",
          "text": [
            "59/59 [==============================] - 0s 3ms/step - loss: 2.4541 - accuracy: 0.1220\n"
          ]
        },
        {
          "output_type": "execute_result",
          "data": {
            "text/plain": [
              "[2.4541261196136475, 0.12197743356227875]"
            ]
          },
          "metadata": {},
          "execution_count": 110
        }
      ]
    },
    {
      "cell_type": "markdown",
      "source": [
        "Model 3:\n",
        "- Accuracy: 8%\n",
        "- Loss: 2.489"
      ],
      "metadata": {
        "id": "TEom3DS-v-ci"
      }
    },
    {
      "cell_type": "code",
      "source": [
        "from tensorflow.keras import Sequential\n",
        "from tensorflow.keras import layers\n",
        "\n",
        "model4 = Sequential()\n",
        "model4.add(layers.Conv1D(256, 5,padding='same',\n",
        "                 input_shape=(431,20)))\n",
        "model4.add(layers.Activation('relu'))\n",
        "model4.add(layers.MaxPooling1D(pool_size=(8)))\n",
        "model4.add(layers.Dropout(0.2))\n",
        "model4.add(layers.Conv1D(128, 5,padding='same'))\n",
        "model4.add(layers.Activation('relu'))\n",
        "model4.add(layers.MaxPooling1D(pool_size=(4)))\n",
        "model4.add(layers.Dropout(0.1))\n",
        "model4.add(layers.Flatten())\n",
        "model4.add(layers.Dense(64))\n",
        "model4.add(layers.Dense(12))\n",
        "model4.add(layers.Activation('softmax'))\n",
        "\n",
        "model4.compile(optimizer=tf.keras.optimizers.experimental.AdamW(),loss=\"sparse_categorical_crossentropy\", metrics=['accuracy'])\n",
        "history = model4.fit(X_train, y_train,batch_size=10, epochs=50)"
      ],
      "metadata": {
        "colab": {
          "base_uri": "https://localhost:8080/"
        },
        "id": "11k4mpFv2gAb",
        "outputId": "f00d4da3-c3d9-4fcc-a908-8bf59d0c56b3"
      },
      "execution_count": 112,
      "outputs": [
        {
          "output_type": "stream",
          "name": "stdout",
          "text": [
            "Epoch 1/50\n",
            "559/559 [==============================] - 4s 4ms/step - loss: 4.3594 - accuracy: 0.0910\n",
            "Epoch 2/50\n",
            "559/559 [==============================] - 2s 4ms/step - loss: 2.4873 - accuracy: 0.0930\n",
            "Epoch 3/50\n",
            "559/559 [==============================] - 2s 4ms/step - loss: 2.4857 - accuracy: 0.0907\n",
            "Epoch 4/50\n",
            "559/559 [==============================] - 2s 4ms/step - loss: 2.4851 - accuracy: 0.0898\n",
            "Epoch 5/50\n",
            "559/559 [==============================] - 2s 4ms/step - loss: 2.4825 - accuracy: 0.1014\n",
            "Epoch 6/50\n",
            "559/559 [==============================] - 2s 4ms/step - loss: 2.4751 - accuracy: 0.1113\n",
            "Epoch 7/50\n",
            "559/559 [==============================] - 2s 4ms/step - loss: 2.4626 - accuracy: 0.1188\n",
            "Epoch 8/50\n",
            "559/559 [==============================] - 2s 4ms/step - loss: 2.4589 - accuracy: 0.1249\n",
            "Epoch 9/50\n",
            "559/559 [==============================] - 2s 4ms/step - loss: 2.4667 - accuracy: 0.1199\n",
            "Epoch 10/50\n",
            "559/559 [==============================] - 2s 4ms/step - loss: 2.4517 - accuracy: 0.1165\n",
            "Epoch 11/50\n",
            "559/559 [==============================] - 2s 4ms/step - loss: 2.4517 - accuracy: 0.1222\n",
            "Epoch 12/50\n",
            "559/559 [==============================] - 2s 4ms/step - loss: 2.4522 - accuracy: 0.1193\n",
            "Epoch 13/50\n",
            "559/559 [==============================] - 2s 4ms/step - loss: 2.4504 - accuracy: 0.1231\n",
            "Epoch 14/50\n",
            "559/559 [==============================] - 2s 4ms/step - loss: 2.4502 - accuracy: 0.1154\n",
            "Epoch 15/50\n",
            "559/559 [==============================] - 2s 4ms/step - loss: 2.4515 - accuracy: 0.1258\n",
            "Epoch 16/50\n",
            "559/559 [==============================] - 2s 4ms/step - loss: 2.4505 - accuracy: 0.1201\n",
            "Epoch 17/50\n",
            "559/559 [==============================] - 2s 4ms/step - loss: 2.4490 - accuracy: 0.1163\n",
            "Epoch 18/50\n",
            "559/559 [==============================] - 2s 4ms/step - loss: 2.4532 - accuracy: 0.1202\n",
            "Epoch 19/50\n",
            "559/559 [==============================] - 2s 4ms/step - loss: 2.4479 - accuracy: 0.1231\n",
            "Epoch 20/50\n",
            "559/559 [==============================] - 2s 4ms/step - loss: 2.4540 - accuracy: 0.1165\n",
            "Epoch 21/50\n",
            "559/559 [==============================] - 2s 4ms/step - loss: 2.4499 - accuracy: 0.1227\n",
            "Epoch 22/50\n",
            "559/559 [==============================] - 2s 4ms/step - loss: 2.4583 - accuracy: 0.1170\n",
            "Epoch 23/50\n",
            "559/559 [==============================] - 2s 4ms/step - loss: 2.4474 - accuracy: 0.1247\n",
            "Epoch 24/50\n",
            "559/559 [==============================] - 2s 4ms/step - loss: 2.4472 - accuracy: 0.1233\n",
            "Epoch 25/50\n",
            "559/559 [==============================] - 2s 4ms/step - loss: 2.4501 - accuracy: 0.1183\n",
            "Epoch 26/50\n",
            "559/559 [==============================] - 2s 4ms/step - loss: 2.4517 - accuracy: 0.1161\n",
            "Epoch 27/50\n",
            "559/559 [==============================] - 2s 4ms/step - loss: 2.4462 - accuracy: 0.1222\n",
            "Epoch 28/50\n",
            "559/559 [==============================] - 2s 4ms/step - loss: 2.4489 - accuracy: 0.1297\n",
            "Epoch 29/50\n",
            "559/559 [==============================] - 2s 4ms/step - loss: 2.4490 - accuracy: 0.1224\n",
            "Epoch 30/50\n",
            "559/559 [==============================] - 2s 4ms/step - loss: 2.4472 - accuracy: 0.1188\n",
            "Epoch 31/50\n",
            "559/559 [==============================] - 2s 4ms/step - loss: 2.4490 - accuracy: 0.1201\n",
            "Epoch 32/50\n",
            "559/559 [==============================] - 2s 4ms/step - loss: 2.4515 - accuracy: 0.1179\n",
            "Epoch 33/50\n",
            "559/559 [==============================] - 2s 4ms/step - loss: 2.4464 - accuracy: 0.1249\n",
            "Epoch 34/50\n",
            "559/559 [==============================] - 2s 4ms/step - loss: 2.4468 - accuracy: 0.1217\n",
            "Epoch 35/50\n",
            "559/559 [==============================] - 2s 4ms/step - loss: 2.4466 - accuracy: 0.1238\n",
            "Epoch 36/50\n",
            "559/559 [==============================] - 2s 4ms/step - loss: 2.4477 - accuracy: 0.1222\n",
            "Epoch 37/50\n",
            "559/559 [==============================] - 2s 4ms/step - loss: 2.4465 - accuracy: 0.1240\n",
            "Epoch 38/50\n",
            "559/559 [==============================] - 2s 4ms/step - loss: 2.4474 - accuracy: 0.1258\n",
            "Epoch 39/50\n",
            "559/559 [==============================] - 2s 4ms/step - loss: 2.4473 - accuracy: 0.1236\n",
            "Epoch 40/50\n",
            "559/559 [==============================] - 2s 4ms/step - loss: 2.4459 - accuracy: 0.1192\n",
            "Epoch 41/50\n",
            "559/559 [==============================] - 2s 4ms/step - loss: 2.4468 - accuracy: 0.1217\n",
            "Epoch 42/50\n",
            "559/559 [==============================] - 2s 4ms/step - loss: 2.4443 - accuracy: 0.1270\n",
            "Epoch 43/50\n",
            "559/559 [==============================] - 2s 4ms/step - loss: 2.4494 - accuracy: 0.1222\n",
            "Epoch 44/50\n",
            "559/559 [==============================] - 2s 4ms/step - loss: 2.4468 - accuracy: 0.1272\n",
            "Epoch 45/50\n",
            "559/559 [==============================] - 2s 4ms/step - loss: 2.4505 - accuracy: 0.1204\n",
            "Epoch 46/50\n",
            "559/559 [==============================] - 2s 4ms/step - loss: 2.4590 - accuracy: 0.1279\n",
            "Epoch 47/50\n",
            "559/559 [==============================] - 2s 4ms/step - loss: 2.4457 - accuracy: 0.1244\n",
            "Epoch 48/50\n",
            "559/559 [==============================] - 2s 4ms/step - loss: 2.4456 - accuracy: 0.1278\n",
            "Epoch 49/50\n",
            "559/559 [==============================] - 2s 4ms/step - loss: 2.4467 - accuracy: 0.1224\n",
            "Epoch 50/50\n",
            "559/559 [==============================] - 2s 4ms/step - loss: 2.4463 - accuracy: 0.1251\n"
          ]
        }
      ]
    },
    {
      "cell_type": "code",
      "source": [
        "plt.plot(history.history['loss'], label='loss')\n",
        "plt.plot(history.history['accuracy'], label='accuracy')\n",
        "plt.legend()\n",
        "plt.xlabel(\"epochs\")\n",
        "plt.show()"
      ],
      "metadata": {
        "colab": {
          "base_uri": "https://localhost:8080/",
          "height": 279
        },
        "id": "ZaBew7YS20sz",
        "outputId": "f9bc1428-3279-4759-a4d7-a4ed6589f1d6"
      },
      "execution_count": 113,
      "outputs": [
        {
          "output_type": "display_data",
          "data": {
            "text/plain": [
              "<Figure size 432x288 with 1 Axes>"
            ],
            "image/png": "[encoded data removed]"
          },
          "metadata": {
            "needs_background": "light"
          }
        }
      ]
    },
    {
      "cell_type": "code",
      "source": [
        "model4.evaluate(X_test, y_test)"
      ],
      "metadata": {
        "colab": {
          "base_uri": "https://localhost:8080/"
        },
        "id": "NauzIbC-22PK",
        "outputId": "62f97405-d57d-4eb3-e310-784879c23ec9"
      },
      "execution_count": 114,
      "outputs": [
        {
          "output_type": "stream",
          "name": "stdout",
          "text": [
            "59/59 [==============================] - 0s 3ms/step - loss: 2.4532 - accuracy: 0.1080\n"
          ]
        },
        {
          "output_type": "execute_result",
          "data": {
            "text/plain": [
              "[2.4532313346862793, 0.10800644755363464]"
            ]
          },
          "metadata": {},
          "execution_count": 114
        }
      ]
    },
    {
      "cell_type": "code",
      "source": [
        "from tensorflow.keras import Sequential\n",
        "from tensorflow.keras import layers\n",
        "\n",
        "model5 = Sequential()\n",
        "model5.add(layers.Conv1D(256, 5,padding='same',\n",
        "                 input_shape=(431,20)))\n",
        "model5.add(layers.Activation('relu'))\n",
        "model5.add(layers.MaxPooling1D(pool_size=(8)))\n",
        "model5.add(layers.Dropout(0.2))\n",
        "model5.add(layers.Conv1D(128, 5,padding='same'))\n",
        "model5.add(layers.Activation('relu'))\n",
        "model5.add(layers.MaxPooling1D(pool_size=(4)))\n",
        "model5.add(layers.Dropout(0.1))\n",
        "model5.add(layers.Conv1D(64, 5,padding='same'))\n",
        "model5.add(layers.Activation('relu'))\n",
        "model5.add(layers.MaxPooling1D(pool_size=(4)))\n",
        "model5.add(layers.Dropout(0.1))\n",
        "model5.add(layers.Flatten())\n",
        "model5.add(layers.Dense(64))\n",
        "model5.add(layers.Dense(12))\n",
        "model5.add(layers.Activation('softmax'))\n",
        "\n",
        "model5.compile(optimizer=tf.keras.optimizers.experimental.Adam(),loss=\"sparse_categorical_crossentropy\", metrics=['accuracy'])\n",
        "history = model5.fit(X_train, y_train,batch_size=10, epochs=50)"
      ],
      "metadata": {
        "colab": {
          "base_uri": "https://localhost:8080/"
        },
        "id": "RCplhUqZ24mu",
        "outputId": "61deb487-a34f-4f33-92ec-1095badd94e2"
      },
      "execution_count": 115,
      "outputs": [
        {
          "output_type": "stream",
          "name": "stdout",
          "text": [
            "Epoch 1/50\n",
            "559/559 [==============================] - 4s 5ms/step - loss: 4.1225 - accuracy: 0.0960\n",
            "Epoch 2/50\n",
            "559/559 [==============================] - 2s 4ms/step - loss: 2.4842 - accuracy: 0.0971\n",
            "Epoch 3/50\n",
            "559/559 [==============================] - 2s 4ms/step - loss: 2.4500 - accuracy: 0.1201\n",
            "Epoch 4/50\n",
            "559/559 [==============================] - 2s 4ms/step - loss: 2.3894 - accuracy: 0.1437\n",
            "Epoch 5/50\n",
            "559/559 [==============================] - 3s 4ms/step - loss: 2.3447 - accuracy: 0.1509\n",
            "Epoch 6/50\n",
            "559/559 [==============================] - 3s 4ms/step - loss: 2.3349 - accuracy: 0.1625\n",
            "Epoch 7/50\n",
            "559/559 [==============================] - 2s 4ms/step - loss: 2.3191 - accuracy: 0.1629\n",
            "Epoch 8/50\n",
            "559/559 [==============================] - 3s 5ms/step - loss: 2.3098 - accuracy: 0.1631\n",
            "Epoch 9/50\n",
            "559/559 [==============================] - 3s 5ms/step - loss: 2.3036 - accuracy: 0.1709\n",
            "Epoch 10/50\n",
            "559/559 [==============================] - 3s 5ms/step - loss: 2.3069 - accuracy: 0.1674\n",
            "Epoch 11/50\n",
            "559/559 [==============================] - 3s 5ms/step - loss: 2.2938 - accuracy: 0.1665\n",
            "Epoch 12/50\n",
            "559/559 [==============================] - 3s 5ms/step - loss: 2.2878 - accuracy: 0.1675\n",
            "Epoch 13/50\n",
            "559/559 [==============================] - 3s 5ms/step - loss: 2.2926 - accuracy: 0.1656\n",
            "Epoch 14/50\n",
            "559/559 [==============================] - 3s 5ms/step - loss: 2.2793 - accuracy: 0.1681\n",
            "Epoch 15/50\n",
            "559/559 [==============================] - 3s 5ms/step - loss: 2.2816 - accuracy: 0.1725\n",
            "Epoch 16/50\n",
            "559/559 [==============================] - 3s 5ms/step - loss: 2.2620 - accuracy: 0.1803\n",
            "Epoch 17/50\n",
            "559/559 [==============================] - 3s 5ms/step - loss: 2.2470 - accuracy: 0.1693\n",
            "Epoch 18/50\n",
            "559/559 [==============================] - 3s 5ms/step - loss: 2.2087 - accuracy: 0.1975\n",
            "Epoch 19/50\n",
            "559/559 [==============================] - 3s 5ms/step - loss: 2.1496 - accuracy: 0.2154\n",
            "Epoch 20/50\n",
            "559/559 [==============================] - 3s 5ms/step - loss: 1.9989 - accuracy: 0.2722\n",
            "Epoch 21/50\n",
            "559/559 [==============================] - 3s 5ms/step - loss: 1.8689 - accuracy: 0.3050\n",
            "Epoch 22/50\n",
            "559/559 [==============================] - 3s 5ms/step - loss: 1.8530 - accuracy: 0.3146\n",
            "Epoch 23/50\n",
            "559/559 [==============================] - 3s 5ms/step - loss: 1.7968 - accuracy: 0.3297\n",
            "Epoch 24/50\n",
            "559/559 [==============================] - 3s 5ms/step - loss: 1.7544 - accuracy: 0.3390\n",
            "Epoch 25/50\n",
            "559/559 [==============================] - 3s 5ms/step - loss: 1.7222 - accuracy: 0.3553\n",
            "Epoch 26/50\n",
            "559/559 [==============================] - 3s 5ms/step - loss: 1.6902 - accuracy: 0.3693\n",
            "Epoch 27/50\n",
            "559/559 [==============================] - 3s 5ms/step - loss: 1.6871 - accuracy: 0.3560\n",
            "Epoch 28/50\n",
            "559/559 [==============================] - 3s 5ms/step - loss: 1.6563 - accuracy: 0.3738\n",
            "Epoch 29/50\n",
            "559/559 [==============================] - 3s 5ms/step - loss: 1.6466 - accuracy: 0.3782\n",
            "Epoch 30/50\n",
            "559/559 [==============================] - 3s 5ms/step - loss: 1.6328 - accuracy: 0.3833\n",
            "Epoch 31/50\n",
            "559/559 [==============================] - 3s 5ms/step - loss: 1.6203 - accuracy: 0.3851\n",
            "Epoch 32/50\n",
            "559/559 [==============================] - 3s 5ms/step - loss: 1.6137 - accuracy: 0.3881\n",
            "Epoch 33/50\n",
            "559/559 [==============================] - 3s 5ms/step - loss: 1.5855 - accuracy: 0.4030\n",
            "Epoch 34/50\n",
            "559/559 [==============================] - 3s 5ms/step - loss: 1.5968 - accuracy: 0.3980\n",
            "Epoch 35/50\n",
            "559/559 [==============================] - 3s 5ms/step - loss: 1.5933 - accuracy: 0.3946\n",
            "Epoch 36/50\n",
            "559/559 [==============================] - 3s 5ms/step - loss: 1.5747 - accuracy: 0.3980\n",
            "Epoch 37/50\n",
            "559/559 [==============================] - 3s 5ms/step - loss: 1.5735 - accuracy: 0.4033\n",
            "Epoch 38/50\n",
            "559/559 [==============================] - 3s 5ms/step - loss: 1.5623 - accuracy: 0.4100\n",
            "Epoch 39/50\n",
            "559/559 [==============================] - 3s 5ms/step - loss: 1.5528 - accuracy: 0.4069\n",
            "Epoch 40/50\n",
            "559/559 [==============================] - 3s 5ms/step - loss: 1.5608 - accuracy: 0.4107\n",
            "Epoch 41/50\n",
            "559/559 [==============================] - 3s 5ms/step - loss: 1.5335 - accuracy: 0.4205\n",
            "Epoch 42/50\n",
            "559/559 [==============================] - 3s 5ms/step - loss: 1.5299 - accuracy: 0.4134\n",
            "Epoch 43/50\n",
            "559/559 [==============================] - 3s 5ms/step - loss: 1.5210 - accuracy: 0.4148\n",
            "Epoch 44/50\n",
            "559/559 [==============================] - 3s 5ms/step - loss: 1.5081 - accuracy: 0.4272\n",
            "Epoch 45/50\n",
            "559/559 [==============================] - 3s 5ms/step - loss: 1.4875 - accuracy: 0.4379\n",
            "Epoch 46/50\n",
            "559/559 [==============================] - 3s 5ms/step - loss: 1.5654 - accuracy: 0.4170\n",
            "Epoch 47/50\n",
            "559/559 [==============================] - 3s 5ms/step - loss: 1.4944 - accuracy: 0.4359\n",
            "Epoch 48/50\n",
            "559/559 [==============================] - 3s 5ms/step - loss: 1.4873 - accuracy: 0.4411\n",
            "Epoch 49/50\n",
            "559/559 [==============================] - 3s 5ms/step - loss: 1.4945 - accuracy: 0.4413\n",
            "Epoch 50/50\n",
            "559/559 [==============================] - 3s 5ms/step - loss: 1.4738 - accuracy: 0.4419\n"
          ]
        }
      ]
    },
    {
      "cell_type": "code",
      "source": [
        "plt.plot(history.history['loss'], label='loss')\n",
        "plt.plot(history.history['accuracy'], label='accuracy')\n",
        "plt.legend()\n",
        "plt.xlabel(\"epochs\")\n",
        "plt.show()"
      ],
      "metadata": {
        "colab": {
          "base_uri": "https://localhost:8080/",
          "height": 279
        },
        "id": "L8JQcvvq3XCB",
        "outputId": "ce8fb04d-5cc1-438c-8486-fcd16a211426"
      },
      "execution_count": 116,
      "outputs": [
        {
          "output_type": "display_data",
          "data": {
            "text/plain": [
              "<Figure size 432x288 with 1 Axes>"
            ],
            "image/png": "[encoded data removed]"
          },
          "metadata": {
            "needs_background": "light"
          }
        }
      ]
    },
    {
      "cell_type": "code",
      "source": [
        "model5.evaluate(X_test, y_test)"
      ],
      "metadata": {
        "colab": {
          "base_uri": "https://localhost:8080/"
        },
        "id": "pPLWBpwA3Yrk",
        "outputId": "444e94cf-d92b-4784-f9f4-8f72c9499dc3"
      },
      "execution_count": 117,
      "outputs": [
        {
          "output_type": "stream",
          "name": "stdout",
          "text": [
            "59/59 [==============================] - 0s 3ms/step - loss: 1.5039 - accuracy: 0.4267\n"
          ]
        },
        {
          "output_type": "execute_result",
          "data": {
            "text/plain": [
              "[1.5038974285125732, 0.42665234208106995]"
            ]
          },
          "metadata": {},
          "execution_count": 117
        }
      ]
    },
    {
      "cell_type": "code",
      "source": [
        "from tensorflow.keras import Sequential\n",
        "from tensorflow.keras import layers\n",
        "\n",
        "model6 = Sequential()\n",
        "model6.add(layers.Conv1D(256, 5,padding='same',\n",
        "                 input_shape=(431,20)))\n",
        "model6.add(layers.Activation('relu'))\n",
        "model6.add(layers.MaxPooling1D(pool_size=(8)))\n",
        "model6.add(layers.Dropout(0.2))\n",
        "model6.add(layers.Conv1D(128, 5,padding='same'))\n",
        "model6.add(layers.Activation('relu'))\n",
        "model6.add(layers.MaxPooling1D(pool_size=(4)))\n",
        "model6.add(layers.Dropout(0.1))\n",
        "model6.add(layers.Conv1D(64, 5,padding='same'))\n",
        "model6.add(layers.Activation('relu'))\n",
        "model6.add(layers.MaxPooling1D(pool_size=(4)))\n",
        "model6.add(layers.Dropout(0.1))\n",
        "model6.add(layers.Flatten())\n",
        "model6.add(layers.Dense(64))\n",
        "model6.add(layers.Dense(12))\n",
        "model6.add(layers.Activation('softmax'))\n",
        "\n",
        "model6.compile(optimizer=tf.keras.optimizers.experimental.Adam(),loss=\"sparse_categorical_crossentropy\", metrics=['accuracy'])\n",
        "history = model6.fit(X_train, y_train,batch_size=10, epochs=100)"
      ],
      "metadata": {
        "colab": {
          "base_uri": "https://localhost:8080/"
        },
        "id": "UDgKioOU3a1n",
        "outputId": "3b0d0cdb-36f9-41a2-ad01-0501947d7db0"
      },
      "execution_count": 118,
      "outputs": [
        {
          "output_type": "stream",
          "name": "stdout",
          "text": [
            "Epoch 1/100\n",
            "559/559 [==============================] - 4s 5ms/step - loss: 4.0531 - accuracy: 0.1371\n",
            "Epoch 2/100\n",
            "559/559 [==============================] - 3s 5ms/step - loss: 2.1954 - accuracy: 0.2061\n",
            "Epoch 3/100\n",
            "559/559 [==============================] - 3s 5ms/step - loss: 1.8958 - accuracy: 0.2982\n",
            "Epoch 4/100\n",
            "559/559 [==============================] - 3s 5ms/step - loss: 1.8145 - accuracy: 0.3198\n",
            "Epoch 5/100\n",
            "559/559 [==============================] - 3s 5ms/step - loss: 1.7510 - accuracy: 0.3335\n",
            "Epoch 6/100\n",
            "559/559 [==============================] - 3s 5ms/step - loss: 1.7356 - accuracy: 0.3403\n",
            "Epoch 7/100\n",
            "559/559 [==============================] - 3s 5ms/step - loss: 1.6907 - accuracy: 0.3578\n",
            "Epoch 8/100\n",
            "559/559 [==============================] - 3s 5ms/step - loss: 1.6604 - accuracy: 0.3645\n",
            "Epoch 9/100\n",
            "559/559 [==============================] - 3s 5ms/step - loss: 1.6589 - accuracy: 0.3675\n",
            "Epoch 10/100\n",
            "559/559 [==============================] - 3s 5ms/step - loss: 1.6300 - accuracy: 0.3777\n",
            "Epoch 11/100\n",
            "559/559 [==============================] - 3s 5ms/step - loss: 1.6012 - accuracy: 0.3947\n",
            "Epoch 12/100\n",
            "559/559 [==============================] - 3s 5ms/step - loss: 1.5946 - accuracy: 0.3962\n",
            "Epoch 13/100\n",
            "559/559 [==============================] - 3s 5ms/step - loss: 1.5724 - accuracy: 0.3976\n",
            "Epoch 14/100\n",
            "559/559 [==============================] - 3s 5ms/step - loss: 1.5749 - accuracy: 0.4028\n",
            "Epoch 15/100\n",
            "559/559 [==============================] - 3s 5ms/step - loss: 1.5420 - accuracy: 0.4118\n",
            "Epoch 16/100\n",
            "559/559 [==============================] - 3s 5ms/step - loss: 1.5393 - accuracy: 0.4114\n",
            "Epoch 17/100\n",
            "559/559 [==============================] - 3s 5ms/step - loss: 1.5231 - accuracy: 0.4216\n",
            "Epoch 18/100\n",
            "559/559 [==============================] - 3s 5ms/step - loss: 1.4944 - accuracy: 0.4306\n",
            "Epoch 19/100\n",
            "559/559 [==============================] - 3s 5ms/step - loss: 1.5020 - accuracy: 0.4316\n",
            "Epoch 20/100\n",
            "559/559 [==============================] - 3s 5ms/step - loss: 1.4548 - accuracy: 0.4433\n",
            "Epoch 21/100\n",
            "559/559 [==============================] - 3s 5ms/step - loss: 1.4812 - accuracy: 0.4431\n",
            "Epoch 22/100\n",
            "559/559 [==============================] - 3s 5ms/step - loss: 1.4474 - accuracy: 0.4476\n",
            "Epoch 23/100\n",
            "559/559 [==============================] - 2s 4ms/step - loss: 1.4492 - accuracy: 0.4601\n",
            "Epoch 24/100\n",
            "559/559 [==============================] - 2s 4ms/step - loss: 1.4136 - accuracy: 0.4616\n",
            "Epoch 25/100\n",
            "559/559 [==============================] - 2s 4ms/step - loss: 1.4291 - accuracy: 0.4600\n",
            "Epoch 26/100\n",
            "559/559 [==============================] - 2s 4ms/step - loss: 1.4074 - accuracy: 0.4702\n",
            "Epoch 27/100\n",
            "559/559 [==============================] - 3s 5ms/step - loss: 1.3906 - accuracy: 0.4806\n",
            "Epoch 28/100\n",
            "559/559 [==============================] - 2s 4ms/step - loss: 1.3704 - accuracy: 0.4816\n",
            "Epoch 29/100\n",
            "559/559 [==============================] - 2s 4ms/step - loss: 1.3778 - accuracy: 0.4838\n",
            "Epoch 30/100\n",
            "559/559 [==============================] - 2s 4ms/step - loss: 1.3473 - accuracy: 0.4899\n",
            "Epoch 31/100\n",
            "559/559 [==============================] - 2s 4ms/step - loss: 1.3212 - accuracy: 0.5013\n",
            "Epoch 32/100\n",
            "559/559 [==============================] - 3s 4ms/step - loss: 1.3314 - accuracy: 0.4963\n",
            "Epoch 33/100\n",
            "559/559 [==============================] - 2s 4ms/step - loss: 1.3043 - accuracy: 0.5173\n",
            "Epoch 34/100\n",
            "559/559 [==============================] - 2s 4ms/step - loss: 1.2977 - accuracy: 0.5116\n",
            "Epoch 35/100\n",
            "559/559 [==============================] - 2s 4ms/step - loss: 1.2889 - accuracy: 0.5139\n",
            "Epoch 36/100\n",
            "559/559 [==============================] - 2s 4ms/step - loss: 1.2671 - accuracy: 0.5270\n",
            "Epoch 37/100\n",
            "559/559 [==============================] - 3s 5ms/step - loss: 1.2852 - accuracy: 0.5216\n",
            "Epoch 38/100\n",
            "559/559 [==============================] - 2s 4ms/step - loss: 1.2701 - accuracy: 0.5323\n",
            "Epoch 39/100\n",
            "559/559 [==============================] - 2s 4ms/step - loss: 1.2547 - accuracy: 0.5347\n",
            "Epoch 40/100\n",
            "559/559 [==============================] - 2s 4ms/step - loss: 1.2342 - accuracy: 0.5372\n",
            "Epoch 41/100\n",
            "559/559 [==============================] - 2s 4ms/step - loss: 1.2175 - accuracy: 0.5388\n",
            "Epoch 42/100\n",
            "559/559 [==============================] - 3s 5ms/step - loss: 1.2127 - accuracy: 0.5544\n",
            "Epoch 43/100\n",
            "559/559 [==============================] - 2s 4ms/step - loss: 1.2095 - accuracy: 0.5474\n",
            "Epoch 44/100\n",
            "559/559 [==============================] - 2s 4ms/step - loss: 1.2016 - accuracy: 0.5553\n",
            "Epoch 45/100\n",
            "559/559 [==============================] - 2s 4ms/step - loss: 1.1900 - accuracy: 0.5558\n",
            "Epoch 46/100\n",
            "559/559 [==============================] - 2s 4ms/step - loss: 1.1915 - accuracy: 0.5540\n",
            "Epoch 47/100\n",
            "559/559 [==============================] - 2s 4ms/step - loss: 1.1816 - accuracy: 0.5653\n",
            "Epoch 48/100\n",
            "559/559 [==============================] - 2s 4ms/step - loss: 1.1519 - accuracy: 0.5719\n",
            "Epoch 49/100\n",
            "559/559 [==============================] - 2s 4ms/step - loss: 1.1495 - accuracy: 0.5696\n",
            "Epoch 50/100\n",
            "559/559 [==============================] - 3s 4ms/step - loss: 1.1320 - accuracy: 0.5766\n",
            "Epoch 51/100\n",
            "559/559 [==============================] - 2s 4ms/step - loss: 1.1160 - accuracy: 0.5836\n",
            "Epoch 52/100\n",
            "559/559 [==============================] - 2s 4ms/step - loss: 1.1201 - accuracy: 0.5881\n",
            "Epoch 53/100\n",
            "559/559 [==============================] - 2s 4ms/step - loss: 1.1294 - accuracy: 0.5753\n",
            "Epoch 54/100\n",
            "559/559 [==============================] - 2s 4ms/step - loss: 1.1138 - accuracy: 0.5886\n",
            "Epoch 55/100\n",
            "559/559 [==============================] - 2s 4ms/step - loss: 1.0929 - accuracy: 0.5967\n",
            "Epoch 56/100\n",
            "559/559 [==============================] - 2s 4ms/step - loss: 1.0750 - accuracy: 0.6063\n",
            "Epoch 57/100\n",
            "559/559 [==============================] - 3s 4ms/step - loss: 1.0885 - accuracy: 0.5983\n",
            "Epoch 58/100\n",
            "559/559 [==============================] - 2s 4ms/step - loss: 1.0594 - accuracy: 0.6035\n",
            "Epoch 59/100\n",
            "559/559 [==============================] - 2s 4ms/step - loss: 1.0704 - accuracy: 0.6089\n",
            "Epoch 60/100\n",
            "559/559 [==============================] - 2s 4ms/step - loss: 1.0406 - accuracy: 0.6148\n",
            "Epoch 61/100\n",
            "559/559 [==============================] - 3s 5ms/step - loss: 1.0436 - accuracy: 0.6103\n",
            "Epoch 62/100\n",
            "559/559 [==============================] - 2s 4ms/step - loss: 1.0320 - accuracy: 0.6160\n",
            "Epoch 63/100\n",
            "559/559 [==============================] - 2s 4ms/step - loss: 1.0607 - accuracy: 0.6119\n",
            "Epoch 64/100\n",
            "559/559 [==============================] - 2s 4ms/step - loss: 1.0109 - accuracy: 0.6291\n",
            "Epoch 65/100\n",
            "559/559 [==============================] - 2s 4ms/step - loss: 1.0279 - accuracy: 0.6201\n",
            "Epoch 66/100\n",
            "559/559 [==============================] - 2s 4ms/step - loss: 1.0173 - accuracy: 0.6268\n",
            "Epoch 67/100\n",
            "559/559 [==============================] - 2s 4ms/step - loss: 0.9844 - accuracy: 0.6379\n",
            "Epoch 68/100\n",
            "559/559 [==============================] - 2s 4ms/step - loss: 0.9999 - accuracy: 0.6339\n",
            "Epoch 69/100\n",
            "559/559 [==============================] - 2s 4ms/step - loss: 0.9707 - accuracy: 0.6406\n",
            "Epoch 70/100\n",
            "559/559 [==============================] - 2s 4ms/step - loss: 0.9979 - accuracy: 0.6415\n",
            "Epoch 71/100\n",
            "559/559 [==============================] - 2s 4ms/step - loss: 0.9971 - accuracy: 0.6372\n",
            "Epoch 72/100\n",
            "559/559 [==============================] - 2s 4ms/step - loss: 0.9647 - accuracy: 0.6510\n",
            "Epoch 73/100\n",
            "559/559 [==============================] - 2s 4ms/step - loss: 0.9731 - accuracy: 0.6398\n",
            "Epoch 74/100\n",
            "559/559 [==============================] - 2s 4ms/step - loss: 0.9569 - accuracy: 0.6547\n",
            "Epoch 75/100\n",
            "559/559 [==============================] - 2s 4ms/step - loss: 0.9546 - accuracy: 0.6459\n",
            "Epoch 76/100\n",
            "559/559 [==============================] - 2s 4ms/step - loss: 0.9381 - accuracy: 0.6612\n",
            "Epoch 77/100\n",
            "559/559 [==============================] - 3s 4ms/step - loss: 0.9541 - accuracy: 0.6486\n",
            "Epoch 78/100\n",
            "559/559 [==============================] - 2s 4ms/step - loss: 0.9394 - accuracy: 0.6597\n",
            "Epoch 79/100\n",
            "559/559 [==============================] - 2s 4ms/step - loss: 0.9319 - accuracy: 0.6599\n",
            "Epoch 80/100\n",
            "559/559 [==============================] - 2s 4ms/step - loss: 0.9383 - accuracy: 0.6606\n",
            "Epoch 81/100\n",
            "559/559 [==============================] - 2s 4ms/step - loss: 0.9508 - accuracy: 0.6606\n",
            "Epoch 82/100\n",
            "559/559 [==============================] - 3s 4ms/step - loss: 0.9224 - accuracy: 0.6624\n",
            "Epoch 83/100\n",
            "559/559 [==============================] - 2s 4ms/step - loss: 0.9357 - accuracy: 0.6579\n",
            "Epoch 84/100\n",
            "559/559 [==============================] - 2s 4ms/step - loss: 0.8877 - accuracy: 0.6798\n",
            "Epoch 85/100\n",
            "559/559 [==============================] - 2s 4ms/step - loss: 0.8919 - accuracy: 0.6705\n",
            "Epoch 86/100\n",
            "559/559 [==============================] - 3s 4ms/step - loss: 0.8936 - accuracy: 0.6784\n",
            "Epoch 87/100\n",
            "559/559 [==============================] - 3s 4ms/step - loss: 0.9061 - accuracy: 0.6651\n",
            "Epoch 88/100\n",
            "559/559 [==============================] - 2s 4ms/step - loss: 0.8824 - accuracy: 0.6850\n",
            "Epoch 89/100\n",
            "559/559 [==============================] - 2s 4ms/step - loss: 0.8961 - accuracy: 0.6768\n",
            "Epoch 90/100\n",
            "559/559 [==============================] - 2s 4ms/step - loss: 0.8661 - accuracy: 0.6870\n",
            "Epoch 91/100\n",
            "559/559 [==============================] - 2s 4ms/step - loss: 0.8741 - accuracy: 0.6830\n",
            "Epoch 92/100\n",
            "559/559 [==============================] - 2s 4ms/step - loss: 0.8691 - accuracy: 0.6897\n",
            "Epoch 93/100\n",
            "559/559 [==============================] - 2s 4ms/step - loss: 0.8599 - accuracy: 0.6872\n",
            "Epoch 94/100\n",
            "559/559 [==============================] - 2s 4ms/step - loss: 0.8804 - accuracy: 0.6906\n",
            "Epoch 95/100\n",
            "559/559 [==============================] - 2s 4ms/step - loss: 0.8641 - accuracy: 0.6841\n",
            "Epoch 96/100\n",
            "559/559 [==============================] - 2s 4ms/step - loss: 0.8536 - accuracy: 0.6956\n",
            "Epoch 97/100\n",
            "559/559 [==============================] - 3s 4ms/step - loss: 0.8252 - accuracy: 0.7004\n",
            "Epoch 98/100\n",
            "559/559 [==============================] - 2s 4ms/step - loss: 0.8370 - accuracy: 0.6965\n",
            "Epoch 99/100\n",
            "559/559 [==============================] - 2s 4ms/step - loss: 0.8315 - accuracy: 0.7051\n",
            "Epoch 100/100\n",
            "559/559 [==============================] - 2s 4ms/step - loss: 0.8351 - accuracy: 0.7054\n"
          ]
        }
      ]
    },
    {
      "cell_type": "code",
      "source": [
        "plt.plot(history.history['loss'], label='loss')\n",
        "plt.plot(history.history['accuracy'], label='accuracy')\n",
        "plt.legend()\n",
        "plt.xlabel(\"epochs\")\n",
        "plt.show()"
      ],
      "metadata": {
        "colab": {
          "base_uri": "https://localhost:8080/",
          "height": 279
        },
        "id": "_77ykJ3K6QSS",
        "outputId": "875f05a3-b5cd-41f4-abfc-1d3488f21419"
      },
      "execution_count": 119,
      "outputs": [
        {
          "output_type": "display_data",
          "data": {
            "text/plain": [
              "<Figure size 432x288 with 1 Axes>"
            ],
            "image/png": "[encoded data removed]"
          },
          "metadata": {
            "needs_background": "light"
          }
        }
      ]
    },
    {
      "cell_type": "code",
      "source": [
        "model6.evaluate(X_test, y_test)"
      ],
      "metadata": {
        "colab": {
          "base_uri": "https://localhost:8080/"
        },
        "id": "xrdxSGqu7RSm",
        "outputId": "9d6c64cd-aa52-40c0-d013-4d7e1a091ad8"
      },
      "execution_count": 120,
      "outputs": [
        {
          "output_type": "stream",
          "name": "stdout",
          "text": [
            "59/59 [==============================] - 0s 3ms/step - loss: 1.5702 - accuracy: 0.4927\n"
          ]
        },
        {
          "output_type": "execute_result",
          "data": {
            "text/plain": [
              "[1.5701971054077148, 0.49274584650993347]"
            ]
          },
          "metadata": {},
          "execution_count": 120
        }
      ]
    },
    {
      "cell_type": "code",
      "source": [
        "from tensorflow.keras import Sequential\n",
        "from tensorflow.keras import layers\n",
        "\n",
        "model7 = Sequential()\n",
        "model7.add(layers.Conv1D(256, 5,padding='same',\n",
        "                 input_shape=(431,20)))\n",
        "model7.add(layers.Activation('relu'))\n",
        "model7.add(layers.MaxPooling1D(pool_size=(8)))\n",
        "model7.add(layers.Dropout(0.2))\n",
        "model7.add(layers.Conv1D(128, 5,padding='same'))\n",
        "model7.add(layers.Activation('relu'))\n",
        "model7.add(layers.MaxPooling1D(pool_size=(4)))\n",
        "model7.add(layers.Dropout(0.1))\n",
        "model7.add(layers.Conv1D(64, 5,padding='same'))\n",
        "model7.add(layers.Activation('relu'))\n",
        "model7.add(layers.MaxPooling1D(pool_size=(4)))\n",
        "model7.add(layers.Dropout(0.1))\n",
        "model7.add(layers.Flatten())\n",
        "model7.add(layers.Dense(64))\n",
        "model7.add(layers.Dense(12))\n",
        "model7.add(layers.Activation('softmax'))\n",
        "\n",
        "model7.compile(optimizer=tf.keras.optimizers.experimental.Adam(lr=0.0015),loss=\"sparse_categorical_crossentropy\", metrics=['accuracy'])\n",
        "history = model7.fit(X_train, y_train,batch_size=10, epochs=100)"
      ],
      "metadata": {
        "colab": {
          "base_uri": "https://localhost:8080/"
        },
        "id": "njzMN8vp7U3u",
        "outputId": "6436fa6b-ccd2-4166-c9f1-9715863af94b"
      },
      "execution_count": 122,
      "outputs": [
        {
          "output_type": "stream",
          "name": "stderr",
          "text": [
            "WARNING:absl:`lr` is deprecated, please use `learning_rate` instead, or use the legacy optimizer, e.g.,tf.keras.optimizers.legacy.Adam.\n"
          ]
        },
        {
          "output_type": "stream",
          "name": "stdout",
          "text": [
            "Epoch 1/100\n",
            "559/559 [==============================] - 4s 5ms/step - loss: 4.5377 - accuracy: 0.1364\n",
            "Epoch 2/100\n",
            "559/559 [==============================] - 3s 5ms/step - loss: 2.1569 - accuracy: 0.2259\n",
            "Epoch 3/100\n",
            "559/559 [==============================] - 3s 5ms/step - loss: 1.9245 - accuracy: 0.2933\n",
            "Epoch 4/100\n",
            "559/559 [==============================] - 3s 5ms/step - loss: 1.7780 - accuracy: 0.3412\n",
            "Epoch 5/100\n",
            "559/559 [==============================] - 3s 4ms/step - loss: 1.7190 - accuracy: 0.3489\n",
            "Epoch 6/100\n",
            "559/559 [==============================] - 3s 5ms/step - loss: 1.7063 - accuracy: 0.3576\n",
            "Epoch 7/100\n",
            "559/559 [==============================] - 3s 5ms/step - loss: 1.6682 - accuracy: 0.3661\n",
            "Epoch 8/100\n",
            "559/559 [==============================] - 3s 5ms/step - loss: 1.6371 - accuracy: 0.3784\n",
            "Epoch 9/100\n",
            "559/559 [==============================] - 3s 5ms/step - loss: 1.6411 - accuracy: 0.3709\n",
            "Epoch 10/100\n",
            "559/559 [==============================] - 3s 5ms/step - loss: 1.5956 - accuracy: 0.3951\n",
            "Epoch 11/100\n",
            "559/559 [==============================] - 2s 4ms/step - loss: 1.5747 - accuracy: 0.3963\n",
            "Epoch 12/100\n",
            "559/559 [==============================] - 3s 5ms/step - loss: 1.6000 - accuracy: 0.3822\n",
            "Epoch 13/100\n",
            "559/559 [==============================] - 3s 5ms/step - loss: 1.5781 - accuracy: 0.3920\n",
            "Epoch 14/100\n",
            "559/559 [==============================] - 3s 4ms/step - loss: 1.5383 - accuracy: 0.4103\n",
            "Epoch 15/100\n",
            "559/559 [==============================] - 2s 4ms/step - loss: 1.5543 - accuracy: 0.4085\n",
            "Epoch 16/100\n",
            "559/559 [==============================] - 2s 4ms/step - loss: 1.5065 - accuracy: 0.4200\n",
            "Epoch 17/100\n",
            "559/559 [==============================] - 3s 5ms/step - loss: 1.5171 - accuracy: 0.4198\n",
            "Epoch 18/100\n",
            "559/559 [==============================] - 3s 5ms/step - loss: 1.5180 - accuracy: 0.4157\n",
            "Epoch 19/100\n",
            "559/559 [==============================] - 3s 4ms/step - loss: 1.4895 - accuracy: 0.4324\n",
            "Epoch 20/100\n",
            "559/559 [==============================] - 3s 4ms/step - loss: 1.4773 - accuracy: 0.4402\n",
            "Epoch 21/100\n",
            "559/559 [==============================] - 3s 5ms/step - loss: 1.4720 - accuracy: 0.4474\n",
            "Epoch 22/100\n",
            "559/559 [==============================] - 3s 5ms/step - loss: 1.4573 - accuracy: 0.4445\n",
            "Epoch 23/100\n",
            "559/559 [==============================] - 3s 4ms/step - loss: 1.4551 - accuracy: 0.4574\n",
            "Epoch 24/100\n",
            "559/559 [==============================] - 2s 4ms/step - loss: 1.4400 - accuracy: 0.4530\n",
            "Epoch 25/100\n",
            "559/559 [==============================] - 2s 4ms/step - loss: 1.4422 - accuracy: 0.4596\n",
            "Epoch 26/100\n",
            "559/559 [==============================] - 2s 4ms/step - loss: 1.4254 - accuracy: 0.4522\n",
            "Epoch 27/100\n",
            "559/559 [==============================] - 2s 4ms/step - loss: 1.4198 - accuracy: 0.4612\n",
            "Epoch 28/100\n",
            "559/559 [==============================] - 3s 5ms/step - loss: 1.4178 - accuracy: 0.4549\n",
            "Epoch 29/100\n",
            "559/559 [==============================] - 2s 4ms/step - loss: 1.3797 - accuracy: 0.4748\n",
            "Epoch 30/100\n",
            "559/559 [==============================] - 2s 4ms/step - loss: 1.4071 - accuracy: 0.4721\n",
            "Epoch 31/100\n",
            "559/559 [==============================] - 2s 4ms/step - loss: 1.3928 - accuracy: 0.4788\n",
            "Epoch 32/100\n",
            "559/559 [==============================] - 3s 4ms/step - loss: 1.3626 - accuracy: 0.4815\n",
            "Epoch 33/100\n",
            "559/559 [==============================] - 3s 5ms/step - loss: 1.3670 - accuracy: 0.4879\n",
            "Epoch 34/100\n",
            "559/559 [==============================] - 3s 5ms/step - loss: 1.3578 - accuracy: 0.4951\n",
            "Epoch 35/100\n",
            "559/559 [==============================] - 2s 4ms/step - loss: 1.3540 - accuracy: 0.4895\n",
            "Epoch 36/100\n",
            "559/559 [==============================] - 2s 4ms/step - loss: 1.3489 - accuracy: 0.4918\n",
            "Epoch 37/100\n",
            "559/559 [==============================] - 3s 5ms/step - loss: 1.3332 - accuracy: 0.4981\n",
            "Epoch 38/100\n",
            "559/559 [==============================] - 3s 5ms/step - loss: 1.3241 - accuracy: 0.4999\n",
            "Epoch 39/100\n",
            "559/559 [==============================] - 3s 5ms/step - loss: 1.3206 - accuracy: 0.4979\n",
            "Epoch 40/100\n",
            "559/559 [==============================] - 3s 4ms/step - loss: 1.3106 - accuracy: 0.5044\n",
            "Epoch 41/100\n",
            "559/559 [==============================] - 2s 4ms/step - loss: 1.2793 - accuracy: 0.5178\n",
            "Epoch 42/100\n",
            "559/559 [==============================] - 3s 5ms/step - loss: 1.2910 - accuracy: 0.5094\n",
            "Epoch 43/100\n",
            "559/559 [==============================] - 3s 5ms/step - loss: 1.2834 - accuracy: 0.5202\n",
            "Epoch 44/100\n",
            "559/559 [==============================] - 3s 5ms/step - loss: 1.2830 - accuracy: 0.5237\n",
            "Epoch 45/100\n",
            "559/559 [==============================] - 3s 5ms/step - loss: 1.2670 - accuracy: 0.5130\n",
            "Epoch 46/100\n",
            "559/559 [==============================] - 3s 5ms/step - loss: 1.2591 - accuracy: 0.5262\n",
            "Epoch 47/100\n",
            "559/559 [==============================] - 3s 5ms/step - loss: 1.2589 - accuracy: 0.5268\n",
            "Epoch 48/100\n",
            "559/559 [==============================] - 3s 5ms/step - loss: 1.2203 - accuracy: 0.5372\n",
            "Epoch 49/100\n",
            "559/559 [==============================] - 2s 4ms/step - loss: 1.2364 - accuracy: 0.5379\n",
            "Epoch 50/100\n",
            "559/559 [==============================] - 2s 4ms/step - loss: 1.2177 - accuracy: 0.5495\n",
            "Epoch 51/100\n",
            "559/559 [==============================] - 2s 4ms/step - loss: 1.2085 - accuracy: 0.5506\n",
            "Epoch 52/100\n",
            "559/559 [==============================] - 3s 5ms/step - loss: 1.2088 - accuracy: 0.5449\n",
            "Epoch 53/100\n",
            "559/559 [==============================] - 3s 5ms/step - loss: 1.2129 - accuracy: 0.5474\n",
            "Epoch 54/100\n",
            "559/559 [==============================] - 3s 4ms/step - loss: 1.1969 - accuracy: 0.5542\n",
            "Epoch 55/100\n",
            "559/559 [==============================] - 2s 4ms/step - loss: 1.1876 - accuracy: 0.5617\n",
            "Epoch 56/100\n",
            "559/559 [==============================] - 3s 5ms/step - loss: 1.1717 - accuracy: 0.5544\n",
            "Epoch 57/100\n",
            "559/559 [==============================] - 3s 5ms/step - loss: 1.1645 - accuracy: 0.5666\n",
            "Epoch 58/100\n",
            "559/559 [==============================] - 3s 5ms/step - loss: 1.1553 - accuracy: 0.5639\n",
            "Epoch 59/100\n",
            "559/559 [==============================] - 3s 5ms/step - loss: 1.1720 - accuracy: 0.5576\n",
            "Epoch 60/100\n",
            "559/559 [==============================] - 3s 5ms/step - loss: 1.1530 - accuracy: 0.5612\n",
            "Epoch 61/100\n",
            "559/559 [==============================] - 3s 5ms/step - loss: 1.1350 - accuracy: 0.5771\n",
            "Epoch 62/100\n",
            "559/559 [==============================] - 3s 5ms/step - loss: 1.1523 - accuracy: 0.5782\n",
            "Epoch 63/100\n",
            "559/559 [==============================] - 3s 5ms/step - loss: 1.1211 - accuracy: 0.5922\n",
            "Epoch 64/100\n",
            "559/559 [==============================] - 3s 5ms/step - loss: 1.1216 - accuracy: 0.5865\n",
            "Epoch 65/100\n",
            "559/559 [==============================] - 3s 5ms/step - loss: 1.1307 - accuracy: 0.5748\n",
            "Epoch 66/100\n",
            "559/559 [==============================] - 3s 4ms/step - loss: 1.1193 - accuracy: 0.5886\n",
            "Epoch 67/100\n",
            "559/559 [==============================] - 3s 5ms/step - loss: 1.0887 - accuracy: 0.5927\n",
            "Epoch 68/100\n",
            "559/559 [==============================] - 3s 4ms/step - loss: 1.0967 - accuracy: 0.5951\n",
            "Epoch 69/100\n",
            "559/559 [==============================] - 3s 5ms/step - loss: 1.1054 - accuracy: 0.5922\n",
            "Epoch 70/100\n",
            "559/559 [==============================] - 3s 5ms/step - loss: 1.1129 - accuracy: 0.5875\n",
            "Epoch 71/100\n",
            "559/559 [==============================] - 3s 5ms/step - loss: 1.0745 - accuracy: 0.5917\n",
            "Epoch 72/100\n",
            "559/559 [==============================] - 3s 5ms/step - loss: 1.0720 - accuracy: 0.6065\n",
            "Epoch 73/100\n",
            "559/559 [==============================] - 3s 5ms/step - loss: 1.0575 - accuracy: 0.6101\n",
            "Epoch 74/100\n",
            "559/559 [==============================] - 3s 5ms/step - loss: 1.0895 - accuracy: 0.6006\n",
            "Epoch 75/100\n",
            "559/559 [==============================] - 3s 5ms/step - loss: 1.0551 - accuracy: 0.6175\n",
            "Epoch 76/100\n",
            "559/559 [==============================] - 3s 5ms/step - loss: 1.0437 - accuracy: 0.6149\n",
            "Epoch 77/100\n",
            "559/559 [==============================] - 3s 5ms/step - loss: 1.0330 - accuracy: 0.6223\n",
            "Epoch 78/100\n",
            "559/559 [==============================] - 3s 5ms/step - loss: 1.0194 - accuracy: 0.6228\n",
            "Epoch 79/100\n",
            "559/559 [==============================] - 3s 5ms/step - loss: 1.0423 - accuracy: 0.6167\n",
            "Epoch 80/100\n",
            "559/559 [==============================] - 3s 4ms/step - loss: 1.0136 - accuracy: 0.6241\n",
            "Epoch 81/100\n",
            "559/559 [==============================] - 3s 5ms/step - loss: 1.0161 - accuracy: 0.6262\n",
            "Epoch 82/100\n",
            "559/559 [==============================] - 3s 5ms/step - loss: 1.0302 - accuracy: 0.6250\n",
            "Epoch 83/100\n",
            "559/559 [==============================] - 3s 5ms/step - loss: 1.0116 - accuracy: 0.6219\n",
            "Epoch 84/100\n",
            "559/559 [==============================] - 3s 5ms/step - loss: 1.0071 - accuracy: 0.6280\n",
            "Epoch 85/100\n",
            "559/559 [==============================] - 3s 4ms/step - loss: 0.9876 - accuracy: 0.6325\n",
            "Epoch 86/100\n",
            "559/559 [==============================] - 3s 5ms/step - loss: 1.0083 - accuracy: 0.6338\n",
            "Epoch 87/100\n",
            "559/559 [==============================] - 3s 5ms/step - loss: 1.0180 - accuracy: 0.6321\n",
            "Epoch 88/100\n",
            "559/559 [==============================] - 3s 5ms/step - loss: 0.9899 - accuracy: 0.6350\n",
            "Epoch 89/100\n",
            "559/559 [==============================] - 3s 5ms/step - loss: 0.9866 - accuracy: 0.6370\n",
            "Epoch 90/100\n",
            "559/559 [==============================] - 3s 5ms/step - loss: 1.0111 - accuracy: 0.6282\n",
            "Epoch 91/100\n",
            "559/559 [==============================] - 3s 5ms/step - loss: 0.9660 - accuracy: 0.6456\n",
            "Epoch 92/100\n",
            "559/559 [==============================] - 2s 4ms/step - loss: 0.9743 - accuracy: 0.6479\n",
            "Epoch 93/100\n",
            "559/559 [==============================] - 3s 5ms/step - loss: 0.9882 - accuracy: 0.6467\n",
            "Epoch 94/100\n",
            "559/559 [==============================] - 3s 5ms/step - loss: 0.9905 - accuracy: 0.6459\n",
            "Epoch 95/100\n",
            "559/559 [==============================] - 3s 5ms/step - loss: 0.9567 - accuracy: 0.6497\n",
            "Epoch 96/100\n",
            "559/559 [==============================] - 3s 5ms/step - loss: 0.9338 - accuracy: 0.6579\n",
            "Epoch 97/100\n",
            "559/559 [==============================] - 2s 4ms/step - loss: 0.9604 - accuracy: 0.6528\n",
            "Epoch 98/100\n",
            "559/559 [==============================] - 3s 5ms/step - loss: 0.9449 - accuracy: 0.6617\n",
            "Epoch 99/100\n",
            "559/559 [==============================] - 3s 5ms/step - loss: 0.9613 - accuracy: 0.6454\n",
            "Epoch 100/100\n",
            "559/559 [==============================] - 3s 5ms/step - loss: 0.9315 - accuracy: 0.6549\n"
          ]
        }
      ]
    },
    {
      "cell_type": "code",
      "source": [
        "plt.plot(history.history['loss'], label='loss')\n",
        "plt.plot(history.history['accuracy'], label='accuracy')\n",
        "plt.legend()\n",
        "plt.xlabel(\"epochs\")\n",
        "plt.show()"
      ],
      "metadata": {
        "colab": {
          "base_uri": "https://localhost:8080/",
          "height": 279
        },
        "id": "AYqrgapF7eEK",
        "outputId": "b051e763-0aed-4e11-91f9-b4473f4c1689"
      },
      "execution_count": 123,
      "outputs": [
        {
          "output_type": "display_data",
          "data": {
            "text/plain": [
              "<Figure size 432x288 with 1 Axes>"
            ],
            "image/png": "[encoded data removed]"
          },
          "metadata": {
            "needs_background": "light"
          }
        }
      ]
    },
    {
      "cell_type": "code",
      "source": [
        "model7.evaluate(X_test, y_test)"
      ],
      "metadata": {
        "colab": {
          "base_uri": "https://localhost:8080/"
        },
        "id": "yBG3Szn08yhQ",
        "outputId": "db60838c-e126-4ff2-b8cd-624742800e39"
      },
      "execution_count": 124,
      "outputs": [
        {
          "output_type": "stream",
          "name": "stdout",
          "text": [
            "59/59 [==============================] - 0s 3ms/step - loss: 1.4497 - accuracy: 0.4944\n"
          ]
        },
        {
          "output_type": "execute_result",
          "data": {
            "text/plain": [
              "[1.449727177619934, 0.4943578839302063]"
            ]
          },
          "metadata": {},
          "execution_count": 124
        }
      ]
    },
    {
      "cell_type": "code",
      "source": [
        "from tensorflow.keras import Sequential\n",
        "from tensorflow.keras import layers\n",
        "\n",
        "model8 = Sequential()\n",
        "model8.add(layers.Conv1D(256, 5,padding='same',\n",
        "                 input_shape=(431,20)))\n",
        "model8.add(layers.Activation('relu'))\n",
        "model8.add(layers.MaxPooling1D(pool_size=(8)))\n",
        "model8.add(layers.Dropout(0.2))\n",
        "model8.add(layers.Conv1D(128, 5,padding='same'))\n",
        "model8.add(layers.Activation('relu'))\n",
        "model8.add(layers.MaxPooling1D(pool_size=(4)))\n",
        "model8.add(layers.Dropout(0.1))\n",
        "model8.add(layers.Conv1D(64, 5,padding='same'))\n",
        "model8.add(layers.Activation('relu'))\n",
        "model8.add(layers.MaxPooling1D(pool_size=(4)))\n",
        "model8.add(layers.Dropout(0.1))\n",
        "model8.add(layers.Flatten())\n",
        "model8.add(layers.Dense(64))\n",
        "model8.add(layers.Dense(12))\n",
        "model8.add(layers.Activation('softmax'))\n",
        "\n",
        "model8.compile(optimizer=tf.keras.optimizers.experimental.Adam(),loss=\"sparse_categorical_crossentropy\", metrics=['accuracy'])\n",
        "history = model8.fit(X_train, y_train,batch_size=10, epochs=200)"
      ],
      "metadata": {
        "colab": {
          "base_uri": "https://localhost:8080/"
        },
        "id": "JV2tKTpO81Zs",
        "outputId": "cc22e44e-ee75-4417-bf36-1a895dcf8bfd"
      },
      "execution_count": 127,
      "outputs": [
        {
          "output_type": "stream",
          "name": "stdout",
          "text": [
            "Epoch 1/200\n",
            "559/559 [==============================] - 5s 5ms/step - loss: 4.0606 - accuracy: 0.1303\n",
            "Epoch 2/200\n",
            "559/559 [==============================] - 3s 5ms/step - loss: 2.3055 - accuracy: 0.1736\n",
            "Epoch 3/200\n",
            "559/559 [==============================] - 3s 5ms/step - loss: 2.2087 - accuracy: 0.2166\n",
            "Epoch 4/200\n",
            "559/559 [==============================] - 3s 5ms/step - loss: 1.9541 - accuracy: 0.2795\n",
            "Epoch 5/200\n",
            "559/559 [==============================] - 3s 5ms/step - loss: 1.8026 - accuracy: 0.3216\n",
            "Epoch 6/200\n",
            "559/559 [==============================] - 3s 5ms/step - loss: 1.7514 - accuracy: 0.3268\n",
            "Epoch 7/200\n",
            "559/559 [==============================] - 3s 5ms/step - loss: 1.7106 - accuracy: 0.3429\n",
            "Epoch 8/200\n",
            "559/559 [==============================] - 3s 5ms/step - loss: 1.6688 - accuracy: 0.3559\n",
            "Epoch 9/200\n",
            "559/559 [==============================] - 3s 5ms/step - loss: 1.6506 - accuracy: 0.3600\n",
            "Epoch 10/200\n",
            "559/559 [==============================] - 3s 5ms/step - loss: 1.6394 - accuracy: 0.3732\n",
            "Epoch 11/200\n",
            "559/559 [==============================] - 3s 5ms/step - loss: 1.6054 - accuracy: 0.3786\n",
            "Epoch 12/200\n",
            "559/559 [==============================] - 3s 4ms/step - loss: 1.5995 - accuracy: 0.3915\n",
            "Epoch 13/200\n",
            "559/559 [==============================] - 3s 5ms/step - loss: 1.5997 - accuracy: 0.3911\n",
            "Epoch 14/200\n",
            "559/559 [==============================] - 2s 4ms/step - loss: 1.5901 - accuracy: 0.3920\n",
            "Epoch 15/200\n",
            "559/559 [==============================] - 3s 5ms/step - loss: 1.5776 - accuracy: 0.3886\n",
            "Epoch 16/200\n",
            "559/559 [==============================] - 3s 5ms/step - loss: 1.5540 - accuracy: 0.4014\n",
            "Epoch 17/200\n",
            "559/559 [==============================] - 3s 5ms/step - loss: 1.5538 - accuracy: 0.4096\n",
            "Epoch 18/200\n",
            "559/559 [==============================] - 3s 5ms/step - loss: 1.5153 - accuracy: 0.4189\n",
            "Epoch 19/200\n",
            "559/559 [==============================] - 3s 5ms/step - loss: 1.5146 - accuracy: 0.4216\n",
            "Epoch 20/200\n",
            "559/559 [==============================] - 3s 5ms/step - loss: 1.5097 - accuracy: 0.4230\n",
            "Epoch 21/200\n",
            "559/559 [==============================] - 3s 5ms/step - loss: 1.5026 - accuracy: 0.4232\n",
            "Epoch 22/200\n",
            "559/559 [==============================] - 3s 4ms/step - loss: 1.4888 - accuracy: 0.4245\n",
            "Epoch 23/200\n",
            "559/559 [==============================] - 3s 5ms/step - loss: 1.4824 - accuracy: 0.4347\n",
            "Epoch 24/200\n",
            "559/559 [==============================] - 3s 4ms/step - loss: 1.4857 - accuracy: 0.4365\n",
            "Epoch 25/200\n",
            "559/559 [==============================] - 3s 5ms/step - loss: 1.4578 - accuracy: 0.4390\n",
            "Epoch 26/200\n",
            "559/559 [==============================] - 3s 5ms/step - loss: 1.4583 - accuracy: 0.4402\n",
            "Epoch 27/200\n",
            "559/559 [==============================] - 3s 5ms/step - loss: 1.4463 - accuracy: 0.4528\n",
            "Epoch 28/200\n",
            "559/559 [==============================] - 3s 5ms/step - loss: 1.4333 - accuracy: 0.4462\n",
            "Epoch 29/200\n",
            "559/559 [==============================] - 3s 5ms/step - loss: 1.4290 - accuracy: 0.4537\n",
            "Epoch 30/200\n",
            "559/559 [==============================] - 3s 5ms/step - loss: 1.4091 - accuracy: 0.4689\n",
            "Epoch 31/200\n",
            "559/559 [==============================] - 3s 5ms/step - loss: 1.4029 - accuracy: 0.4660\n",
            "Epoch 32/200\n",
            "559/559 [==============================] - 3s 5ms/step - loss: 1.3969 - accuracy: 0.4677\n",
            "Epoch 33/200\n",
            "559/559 [==============================] - 3s 5ms/step - loss: 1.4022 - accuracy: 0.4605\n",
            "Epoch 34/200\n",
            "559/559 [==============================] - 3s 5ms/step - loss: 1.3828 - accuracy: 0.4811\n",
            "Epoch 35/200\n",
            "559/559 [==============================] - 3s 5ms/step - loss: 1.3666 - accuracy: 0.4786\n",
            "Epoch 36/200\n",
            "559/559 [==============================] - 3s 5ms/step - loss: 1.3682 - accuracy: 0.4777\n",
            "Epoch 37/200\n",
            "559/559 [==============================] - 3s 5ms/step - loss: 1.3550 - accuracy: 0.4850\n",
            "Epoch 38/200\n",
            "559/559 [==============================] - 3s 5ms/step - loss: 1.3516 - accuracy: 0.4872\n",
            "Epoch 39/200\n",
            "559/559 [==============================] - 3s 5ms/step - loss: 1.3391 - accuracy: 0.4974\n",
            "Epoch 40/200\n",
            "559/559 [==============================] - 3s 5ms/step - loss: 1.3410 - accuracy: 0.5039\n",
            "Epoch 41/200\n",
            "559/559 [==============================] - 3s 5ms/step - loss: 1.3092 - accuracy: 0.5012\n",
            "Epoch 42/200\n",
            "559/559 [==============================] - 3s 5ms/step - loss: 1.3260 - accuracy: 0.4999\n",
            "Epoch 43/200\n",
            "559/559 [==============================] - 3s 5ms/step - loss: 1.2991 - accuracy: 0.5101\n",
            "Epoch 44/200\n",
            "559/559 [==============================] - 3s 5ms/step - loss: 1.2956 - accuracy: 0.5178\n",
            "Epoch 45/200\n",
            "559/559 [==============================] - 3s 5ms/step - loss: 1.2789 - accuracy: 0.5128\n",
            "Epoch 46/200\n",
            "559/559 [==============================] - 3s 5ms/step - loss: 1.2721 - accuracy: 0.5257\n",
            "Epoch 47/200\n",
            "559/559 [==============================] - 3s 5ms/step - loss: 1.2796 - accuracy: 0.5245\n",
            "Epoch 48/200\n",
            "559/559 [==============================] - 3s 5ms/step - loss: 1.2503 - accuracy: 0.5209\n",
            "Epoch 49/200\n",
            "559/559 [==============================] - 3s 5ms/step - loss: 1.2332 - accuracy: 0.5363\n",
            "Epoch 50/200\n",
            "559/559 [==============================] - 3s 5ms/step - loss: 1.2643 - accuracy: 0.5168\n",
            "Epoch 51/200\n",
            "559/559 [==============================] - 3s 5ms/step - loss: 1.2404 - accuracy: 0.5314\n",
            "Epoch 52/200\n",
            "559/559 [==============================] - 2s 4ms/step - loss: 1.2317 - accuracy: 0.5365\n",
            "Epoch 53/200\n",
            "559/559 [==============================] - 2s 4ms/step - loss: 1.1863 - accuracy: 0.5533\n",
            "Epoch 54/200\n",
            "559/559 [==============================] - 3s 4ms/step - loss: 1.2185 - accuracy: 0.5431\n",
            "Epoch 55/200\n",
            "559/559 [==============================] - 2s 4ms/step - loss: 1.1887 - accuracy: 0.5433\n",
            "Epoch 56/200\n",
            "559/559 [==============================] - 2s 4ms/step - loss: 1.1891 - accuracy: 0.5547\n",
            "Epoch 57/200\n",
            "559/559 [==============================] - 2s 4ms/step - loss: 1.1865 - accuracy: 0.5641\n",
            "Epoch 58/200\n",
            "559/559 [==============================] - 2s 4ms/step - loss: 1.1793 - accuracy: 0.5574\n",
            "Epoch 59/200\n",
            "559/559 [==============================] - 2s 4ms/step - loss: 1.1602 - accuracy: 0.5662\n",
            "Epoch 60/200\n",
            "559/559 [==============================] - 3s 4ms/step - loss: 1.1664 - accuracy: 0.5610\n",
            "Epoch 61/200\n",
            "559/559 [==============================] - 2s 4ms/step - loss: 1.1565 - accuracy: 0.5698\n",
            "Epoch 62/200\n",
            "559/559 [==============================] - 2s 4ms/step - loss: 1.1643 - accuracy: 0.5644\n",
            "Epoch 63/200\n",
            "559/559 [==============================] - 2s 4ms/step - loss: 1.1456 - accuracy: 0.5727\n",
            "Epoch 64/200\n",
            "559/559 [==============================] - 3s 5ms/step - loss: 1.1503 - accuracy: 0.5689\n",
            "Epoch 65/200\n",
            "559/559 [==============================] - 2s 4ms/step - loss: 1.1545 - accuracy: 0.5676\n",
            "Epoch 66/200\n",
            "559/559 [==============================] - 2s 4ms/step - loss: 1.1419 - accuracy: 0.5830\n",
            "Epoch 67/200\n",
            "559/559 [==============================] - 2s 4ms/step - loss: 1.1129 - accuracy: 0.5868\n",
            "Epoch 68/200\n",
            "559/559 [==============================] - 2s 4ms/step - loss: 1.1268 - accuracy: 0.5764\n",
            "Epoch 69/200\n",
            "559/559 [==============================] - 3s 5ms/step - loss: 1.1114 - accuracy: 0.5802\n",
            "Epoch 70/200\n",
            "559/559 [==============================] - 2s 4ms/step - loss: 1.0895 - accuracy: 0.5918\n",
            "Epoch 71/200\n",
            "559/559 [==============================] - 2s 4ms/step - loss: 1.0956 - accuracy: 0.5952\n",
            "Epoch 72/200\n",
            "559/559 [==============================] - 2s 4ms/step - loss: 1.1033 - accuracy: 0.5929\n",
            "Epoch 73/200\n",
            "559/559 [==============================] - 2s 4ms/step - loss: 1.0831 - accuracy: 0.5994\n",
            "Epoch 74/200\n",
            "559/559 [==============================] - 3s 5ms/step - loss: 1.0997 - accuracy: 0.5947\n",
            "Epoch 75/200\n",
            "559/559 [==============================] - 2s 4ms/step - loss: 1.0884 - accuracy: 0.5918\n",
            "Epoch 76/200\n",
            "559/559 [==============================] - 3s 5ms/step - loss: 1.0612 - accuracy: 0.6058\n",
            "Epoch 77/200\n",
            "559/559 [==============================] - 3s 5ms/step - loss: 1.0660 - accuracy: 0.6019\n",
            "Epoch 78/200\n",
            "559/559 [==============================] - 3s 5ms/step - loss: 1.0641 - accuracy: 0.6060\n",
            "Epoch 79/200\n",
            "559/559 [==============================] - 3s 5ms/step - loss: 1.0717 - accuracy: 0.6090\n",
            "Epoch 80/200\n",
            "559/559 [==============================] - 2s 4ms/step - loss: 1.0503 - accuracy: 0.6126\n",
            "Epoch 81/200\n",
            "559/559 [==============================] - 3s 5ms/step - loss: 1.0614 - accuracy: 0.6071\n",
            "Epoch 82/200\n",
            "559/559 [==============================] - 3s 5ms/step - loss: 1.0208 - accuracy: 0.6176\n",
            "Epoch 83/200\n",
            "559/559 [==============================] - 3s 5ms/step - loss: 1.0561 - accuracy: 0.6085\n",
            "Epoch 84/200\n",
            "559/559 [==============================] - 3s 5ms/step - loss: 1.0260 - accuracy: 0.6201\n",
            "Epoch 85/200\n",
            "559/559 [==============================] - 3s 4ms/step - loss: 1.0793 - accuracy: 0.5990\n",
            "Epoch 86/200\n",
            "559/559 [==============================] - 3s 5ms/step - loss: 1.0211 - accuracy: 0.6207\n",
            "Epoch 87/200\n",
            "559/559 [==============================] - 3s 5ms/step - loss: 1.0107 - accuracy: 0.6232\n",
            "Epoch 88/200\n",
            "559/559 [==============================] - 3s 5ms/step - loss: 0.9999 - accuracy: 0.6246\n",
            "Epoch 89/200\n",
            "559/559 [==============================] - 3s 5ms/step - loss: 0.9824 - accuracy: 0.6375\n",
            "Epoch 90/200\n",
            "559/559 [==============================] - 3s 5ms/step - loss: 1.0232 - accuracy: 0.6273\n",
            "Epoch 91/200\n",
            "559/559 [==============================] - 3s 5ms/step - loss: 0.9875 - accuracy: 0.6345\n",
            "Epoch 92/200\n",
            "559/559 [==============================] - 3s 5ms/step - loss: 1.0117 - accuracy: 0.6359\n",
            "Epoch 93/200\n",
            "559/559 [==============================] - 3s 5ms/step - loss: 0.9706 - accuracy: 0.6359\n",
            "Epoch 94/200\n",
            "559/559 [==============================] - 3s 5ms/step - loss: 0.9845 - accuracy: 0.6363\n",
            "Epoch 95/200\n",
            "559/559 [==============================] - 3s 4ms/step - loss: 0.9487 - accuracy: 0.6520\n",
            "Epoch 96/200\n",
            "559/559 [==============================] - 2s 4ms/step - loss: 0.9656 - accuracy: 0.6526\n",
            "Epoch 97/200\n",
            "559/559 [==============================] - 3s 5ms/step - loss: 0.9706 - accuracy: 0.6465\n",
            "Epoch 98/200\n",
            "559/559 [==============================] - 3s 5ms/step - loss: 0.9835 - accuracy: 0.6434\n",
            "Epoch 99/200\n",
            "559/559 [==============================] - 3s 5ms/step - loss: 0.9493 - accuracy: 0.6479\n",
            "Epoch 100/200\n",
            "559/559 [==============================] - 3s 5ms/step - loss: 0.9504 - accuracy: 0.6504\n",
            "Epoch 101/200\n",
            "559/559 [==============================] - 2s 4ms/step - loss: 0.9611 - accuracy: 0.6502\n",
            "Epoch 102/200\n",
            "559/559 [==============================] - 3s 5ms/step - loss: 0.9456 - accuracy: 0.6569\n",
            "Epoch 103/200\n",
            "559/559 [==============================] - 3s 5ms/step - loss: 0.9298 - accuracy: 0.6592\n",
            "Epoch 104/200\n",
            "559/559 [==============================] - 3s 5ms/step - loss: 0.9423 - accuracy: 0.6531\n",
            "Epoch 105/200\n",
            "559/559 [==============================] - 3s 5ms/step - loss: 0.9139 - accuracy: 0.6608\n",
            "Epoch 106/200\n",
            "559/559 [==============================] - 3s 5ms/step - loss: 0.9435 - accuracy: 0.6601\n",
            "Epoch 107/200\n",
            "559/559 [==============================] - 3s 5ms/step - loss: 0.9336 - accuracy: 0.6594\n",
            "Epoch 108/200\n",
            "559/559 [==============================] - 3s 5ms/step - loss: 0.9282 - accuracy: 0.6635\n",
            "Epoch 109/200\n",
            "559/559 [==============================] - 3s 5ms/step - loss: 0.9117 - accuracy: 0.6687\n",
            "Epoch 110/200\n",
            "559/559 [==============================] - 3s 5ms/step - loss: 0.8995 - accuracy: 0.6708\n",
            "Epoch 111/200\n",
            "559/559 [==============================] - 3s 5ms/step - loss: 0.8878 - accuracy: 0.6748\n",
            "Epoch 112/200\n",
            "559/559 [==============================] - 3s 5ms/step - loss: 0.9466 - accuracy: 0.6599\n",
            "Epoch 113/200\n",
            "559/559 [==============================] - 3s 5ms/step - loss: 0.8738 - accuracy: 0.6850\n",
            "Epoch 114/200\n",
            "559/559 [==============================] - 3s 5ms/step - loss: 0.8816 - accuracy: 0.6787\n",
            "Epoch 115/200\n",
            "559/559 [==============================] - 3s 5ms/step - loss: 0.8776 - accuracy: 0.6821\n",
            "Epoch 116/200\n",
            "559/559 [==============================] - 3s 5ms/step - loss: 0.8819 - accuracy: 0.6825\n",
            "Epoch 117/200\n",
            "559/559 [==============================] - 3s 5ms/step - loss: 0.8714 - accuracy: 0.6845\n",
            "Epoch 118/200\n",
            "559/559 [==============================] - 3s 5ms/step - loss: 0.8844 - accuracy: 0.6814\n",
            "Epoch 119/200\n",
            "559/559 [==============================] - 3s 5ms/step - loss: 0.8743 - accuracy: 0.6780\n",
            "Epoch 120/200\n",
            "559/559 [==============================] - 3s 5ms/step - loss: 0.8709 - accuracy: 0.6859\n",
            "Epoch 121/200\n",
            "559/559 [==============================] - 3s 5ms/step - loss: 0.8655 - accuracy: 0.6866\n",
            "Epoch 122/200\n",
            "559/559 [==============================] - 3s 5ms/step - loss: 0.8698 - accuracy: 0.6886\n",
            "Epoch 123/200\n",
            "559/559 [==============================] - 3s 5ms/step - loss: 0.8909 - accuracy: 0.6775\n",
            "Epoch 124/200\n",
            "559/559 [==============================] - 3s 5ms/step - loss: 0.8496 - accuracy: 0.6922\n",
            "Epoch 125/200\n",
            "559/559 [==============================] - 3s 5ms/step - loss: 0.8599 - accuracy: 0.6945\n",
            "Epoch 126/200\n",
            "559/559 [==============================] - 3s 5ms/step - loss: 0.8499 - accuracy: 0.6888\n",
            "Epoch 127/200\n",
            "559/559 [==============================] - 3s 5ms/step - loss: 0.8495 - accuracy: 0.6956\n",
            "Epoch 128/200\n",
            "559/559 [==============================] - 3s 5ms/step - loss: 0.8191 - accuracy: 0.7044\n",
            "Epoch 129/200\n",
            "559/559 [==============================] - 3s 5ms/step - loss: 0.8734 - accuracy: 0.6836\n",
            "Epoch 130/200\n",
            "559/559 [==============================] - 3s 5ms/step - loss: 0.8118 - accuracy: 0.7035\n",
            "Epoch 131/200\n",
            "559/559 [==============================] - 3s 5ms/step - loss: 0.8461 - accuracy: 0.6965\n",
            "Epoch 132/200\n",
            "559/559 [==============================] - 3s 5ms/step - loss: 0.8631 - accuracy: 0.6879\n",
            "Epoch 133/200\n",
            "559/559 [==============================] - 3s 4ms/step - loss: 0.8167 - accuracy: 0.7024\n",
            "Epoch 134/200\n",
            "559/559 [==============================] - 3s 5ms/step - loss: 0.8021 - accuracy: 0.7040\n",
            "Epoch 135/200\n",
            "559/559 [==============================] - 3s 5ms/step - loss: 0.8495 - accuracy: 0.6966\n",
            "Epoch 136/200\n",
            "559/559 [==============================] - 3s 5ms/step - loss: 0.8087 - accuracy: 0.7130\n",
            "Epoch 137/200\n",
            "559/559 [==============================] - 3s 5ms/step - loss: 0.8251 - accuracy: 0.6958\n",
            "Epoch 138/200\n",
            "559/559 [==============================] - 2s 4ms/step - loss: 0.8261 - accuracy: 0.7088\n",
            "Epoch 139/200\n",
            "559/559 [==============================] - 3s 5ms/step - loss: 0.8388 - accuracy: 0.6952\n",
            "Epoch 140/200\n",
            "559/559 [==============================] - 3s 5ms/step - loss: 0.7962 - accuracy: 0.7099\n",
            "Epoch 141/200\n",
            "559/559 [==============================] - 3s 5ms/step - loss: 0.8265 - accuracy: 0.7088\n",
            "Epoch 142/200\n",
            "559/559 [==============================] - 3s 5ms/step - loss: 0.8008 - accuracy: 0.7178\n",
            "Epoch 143/200\n",
            "559/559 [==============================] - 2s 4ms/step - loss: 0.7951 - accuracy: 0.7119\n",
            "Epoch 144/200\n",
            "559/559 [==============================] - 3s 5ms/step - loss: 0.8253 - accuracy: 0.7094\n",
            "Epoch 145/200\n",
            "559/559 [==============================] - 3s 5ms/step - loss: 0.7904 - accuracy: 0.7124\n",
            "Epoch 146/200\n",
            "559/559 [==============================] - 3s 5ms/step - loss: 0.8293 - accuracy: 0.7051\n",
            "Epoch 147/200\n",
            "559/559 [==============================] - 3s 5ms/step - loss: 0.8136 - accuracy: 0.7119\n",
            "Epoch 148/200\n",
            "559/559 [==============================] - 3s 5ms/step - loss: 0.7742 - accuracy: 0.7237\n",
            "Epoch 149/200\n",
            "559/559 [==============================] - 3s 5ms/step - loss: 0.8221 - accuracy: 0.7106\n",
            "Epoch 150/200\n",
            "559/559 [==============================] - 3s 5ms/step - loss: 0.8311 - accuracy: 0.7049\n",
            "Epoch 151/200\n",
            "559/559 [==============================] - 3s 5ms/step - loss: 0.7910 - accuracy: 0.7192\n",
            "Epoch 152/200\n",
            "559/559 [==============================] - 3s 5ms/step - loss: 0.8032 - accuracy: 0.7165\n",
            "Epoch 153/200\n",
            "559/559 [==============================] - 3s 5ms/step - loss: 0.7836 - accuracy: 0.7135\n",
            "Epoch 154/200\n",
            "559/559 [==============================] - 2s 4ms/step - loss: 0.7495 - accuracy: 0.7388\n",
            "Epoch 155/200\n",
            "559/559 [==============================] - 3s 5ms/step - loss: 0.7852 - accuracy: 0.7173\n",
            "Epoch 156/200\n",
            "559/559 [==============================] - 3s 5ms/step - loss: 0.7632 - accuracy: 0.7314\n",
            "Epoch 157/200\n",
            "559/559 [==============================] - 3s 5ms/step - loss: 0.7515 - accuracy: 0.7323\n",
            "Epoch 158/200\n",
            "559/559 [==============================] - 3s 5ms/step - loss: 0.7533 - accuracy: 0.7305\n",
            "Epoch 159/200\n",
            "559/559 [==============================] - 3s 4ms/step - loss: 0.7698 - accuracy: 0.7278\n",
            "Epoch 160/200\n",
            "559/559 [==============================] - 3s 5ms/step - loss: 0.7751 - accuracy: 0.7291\n",
            "Epoch 161/200\n",
            "559/559 [==============================] - 3s 5ms/step - loss: 0.7534 - accuracy: 0.7364\n",
            "Epoch 162/200\n",
            "559/559 [==============================] - 3s 5ms/step - loss: 0.7580 - accuracy: 0.7228\n",
            "Epoch 163/200\n",
            "559/559 [==============================] - 3s 5ms/step - loss: 0.7580 - accuracy: 0.7325\n",
            "Epoch 164/200\n",
            "559/559 [==============================] - 3s 4ms/step - loss: 0.7684 - accuracy: 0.7311\n",
            "Epoch 165/200\n",
            "559/559 [==============================] - 3s 5ms/step - loss: 0.7615 - accuracy: 0.7293\n",
            "Epoch 166/200\n",
            "559/559 [==============================] - 3s 5ms/step - loss: 0.7136 - accuracy: 0.7561\n",
            "Epoch 167/200\n",
            "559/559 [==============================] - 3s 5ms/step - loss: 0.7592 - accuracy: 0.7346\n",
            "Epoch 168/200\n",
            "559/559 [==============================] - 3s 5ms/step - loss: 0.7421 - accuracy: 0.7416\n",
            "Epoch 169/200\n",
            "559/559 [==============================] - 3s 5ms/step - loss: 0.7220 - accuracy: 0.7475\n",
            "Epoch 170/200\n",
            "559/559 [==============================] - 3s 5ms/step - loss: 0.7494 - accuracy: 0.7409\n",
            "Epoch 171/200\n",
            "559/559 [==============================] - 3s 5ms/step - loss: 0.7446 - accuracy: 0.7427\n",
            "Epoch 172/200\n",
            "559/559 [==============================] - 3s 5ms/step - loss: 0.7465 - accuracy: 0.7373\n",
            "Epoch 173/200\n",
            "559/559 [==============================] - 3s 5ms/step - loss: 0.7365 - accuracy: 0.7416\n",
            "Epoch 174/200\n",
            "559/559 [==============================] - 3s 5ms/step - loss: 0.7109 - accuracy: 0.7542\n",
            "Epoch 175/200\n",
            "559/559 [==============================] - 3s 5ms/step - loss: 0.7491 - accuracy: 0.7370\n",
            "Epoch 176/200\n",
            "559/559 [==============================] - 3s 5ms/step - loss: 0.7090 - accuracy: 0.7493\n",
            "Epoch 177/200\n",
            "559/559 [==============================] - 3s 5ms/step - loss: 0.6961 - accuracy: 0.7640\n",
            "Epoch 178/200\n",
            "559/559 [==============================] - 3s 5ms/step - loss: 0.7573 - accuracy: 0.7282\n",
            "Epoch 179/200\n",
            "559/559 [==============================] - 3s 5ms/step - loss: 0.7420 - accuracy: 0.7420\n",
            "Epoch 180/200\n",
            "559/559 [==============================] - 3s 5ms/step - loss: 0.7354 - accuracy: 0.7445\n",
            "Epoch 181/200\n",
            "559/559 [==============================] - 3s 5ms/step - loss: 0.7183 - accuracy: 0.7463\n",
            "Epoch 182/200\n",
            "559/559 [==============================] - 3s 5ms/step - loss: 0.7389 - accuracy: 0.7502\n",
            "Epoch 183/200\n",
            "559/559 [==============================] - 3s 5ms/step - loss: 0.7651 - accuracy: 0.7414\n",
            "Epoch 184/200\n",
            "559/559 [==============================] - 3s 5ms/step - loss: 0.7294 - accuracy: 0.7413\n",
            "Epoch 185/200\n",
            "559/559 [==============================] - 3s 5ms/step - loss: 0.7411 - accuracy: 0.7499\n",
            "Epoch 186/200\n",
            "559/559 [==============================] - 3s 5ms/step - loss: 0.7150 - accuracy: 0.7484\n",
            "Epoch 187/200\n",
            "559/559 [==============================] - 3s 5ms/step - loss: 0.7462 - accuracy: 0.7420\n",
            "Epoch 188/200\n",
            "559/559 [==============================] - 3s 5ms/step - loss: 0.6964 - accuracy: 0.7574\n",
            "Epoch 189/200\n",
            "559/559 [==============================] - 3s 5ms/step - loss: 0.7446 - accuracy: 0.7422\n",
            "Epoch 190/200\n",
            "559/559 [==============================] - 3s 5ms/step - loss: 0.7298 - accuracy: 0.7461\n",
            "Epoch 191/200\n",
            "559/559 [==============================] - 2s 4ms/step - loss: 0.7069 - accuracy: 0.7601\n",
            "Epoch 192/200\n",
            "559/559 [==============================] - 3s 5ms/step - loss: 0.7187 - accuracy: 0.7543\n",
            "Epoch 193/200\n",
            "559/559 [==============================] - 3s 5ms/step - loss: 0.7222 - accuracy: 0.7527\n",
            "Epoch 194/200\n",
            "559/559 [==============================] - 3s 5ms/step - loss: 0.6997 - accuracy: 0.7552\n",
            "Epoch 195/200\n",
            "559/559 [==============================] - 3s 5ms/step - loss: 0.6719 - accuracy: 0.7631\n",
            "Epoch 196/200\n",
            "559/559 [==============================] - 2s 4ms/step - loss: 0.7005 - accuracy: 0.7547\n",
            "Epoch 197/200\n",
            "559/559 [==============================] - 3s 5ms/step - loss: 0.7175 - accuracy: 0.7513\n",
            "Epoch 198/200\n",
            "559/559 [==============================] - 3s 5ms/step - loss: 0.7077 - accuracy: 0.7529\n",
            "Epoch 199/200\n",
            "559/559 [==============================] - 3s 5ms/step - loss: 0.7186 - accuracy: 0.7538\n",
            "Epoch 200/200\n",
            "559/559 [==============================] - 3s 5ms/step - loss: 0.6648 - accuracy: 0.7674\n"
          ]
        }
      ]
    },
    {
      "cell_type": "code",
      "source": [
        "plt.plot(history.history['loss'], label='loss')\n",
        "plt.plot(history.history['accuracy'], label='accuracy')\n",
        "plt.legend()\n",
        "plt.xlabel(\"epochs\")\n",
        "plt.show()"
      ],
      "metadata": {
        "colab": {
          "base_uri": "https://localhost:8080/",
          "height": 279
        },
        "id": "-dHhoZHw9F7w",
        "outputId": "499bb94b-c82a-44db-9231-8c2e1586da08"
      },
      "execution_count": 128,
      "outputs": [
        {
          "output_type": "display_data",
          "data": {
            "text/plain": [
              "<Figure size 432x288 with 1 Axes>"
            ],
            "image/png": "[encoded data removed]"
          },
          "metadata": {
            "needs_background": "light"
          }
        }
      ]
    },
    {
      "cell_type": "code",
      "source": [
        "model8.evaluate(X_test, y_test)"
      ],
      "metadata": {
        "colab": {
          "base_uri": "https://localhost:8080/"
        },
        "id": "Sp8JPhRM9HjN",
        "outputId": "8fec3477-81b6-4c78-da38-fa9c16928872"
      },
      "execution_count": 129,
      "outputs": [
        {
          "output_type": "stream",
          "name": "stdout",
          "text": [
            "59/59 [==============================] - 0s 3ms/step - loss: 1.7344 - accuracy: 0.4917\n"
          ]
        },
        {
          "output_type": "execute_result",
          "data": {
            "text/plain": [
              "[1.7343859672546387, 0.4916711449623108]"
            ]
          },
          "metadata": {},
          "execution_count": 129
        }
      ]
    },
    {
      "cell_type": "code",
      "source": [
        "from tensorflow.keras import Sequential\n",
        "from tensorflow.keras import layers\n",
        "\n",
        "model9 = Sequential()\n",
        "model9.add(layers.Conv1D(256, 5,padding='same',\n",
        "                 input_shape=(431,20)))\n",
        "model9.add(layers.Activation('relu'))\n",
        "model9.add(layers.MaxPooling1D(pool_size=(8)))\n",
        "model9.add(layers.Dropout(0.2))\n",
        "model9.add(layers.Conv1D(128, 5,padding='same'))\n",
        "model9.add(layers.Activation('relu'))\n",
        "model9.add(layers.MaxPooling1D(pool_size=(4)))\n",
        "model9.add(layers.Dropout(0.1))\n",
        "model9.add(layers.Conv1D(64, 5,padding='same'))\n",
        "model9.add(layers.Activation('relu'))\n",
        "model9.add(layers.MaxPooling1D(pool_size=(4)))\n",
        "model9.add(layers.Dropout(0.1))\n",
        "model9.add(layers.Flatten())\n",
        "model9.add(layers.Dense(128))\n",
        "model9.add(layers.Dense(12))\n",
        "model9.add(layers.Activation('softmax'))\n",
        "\n",
        "model9.compile(optimizer=tf.keras.optimizers.experimental.Adam(),loss=\"sparse_categorical_crossentropy\", metrics=['accuracy'])\n",
        "history = model9.fit(X_train, y_train,batch_size=10, epochs=100)"
      ],
      "metadata": {
        "colab": {
          "base_uri": "https://localhost:8080/"
        },
        "id": "7hfraQ519KRX",
        "outputId": "5d139c23-f085-45d5-f451-65dc4953a73e"
      },
      "execution_count": 132,
      "outputs": [
        {
          "output_type": "stream",
          "name": "stdout",
          "text": [
            "Epoch 1/100\n",
            "559/559 [==============================] - 4s 4ms/step - loss: 4.0205 - accuracy: 0.1261\n",
            "Epoch 2/100\n",
            "559/559 [==============================] - 2s 4ms/step - loss: 2.3199 - accuracy: 0.1525\n",
            "Epoch 3/100\n",
            "559/559 [==============================] - 2s 4ms/step - loss: 2.2437 - accuracy: 0.1869\n",
            "Epoch 4/100\n",
            "559/559 [==============================] - 3s 5ms/step - loss: 2.0300 - accuracy: 0.2360\n",
            "Epoch 5/100\n",
            "559/559 [==============================] - 2s 4ms/step - loss: 1.9295 - accuracy: 0.2754\n",
            "Epoch 6/100\n",
            "559/559 [==============================] - 2s 4ms/step - loss: 1.8328 - accuracy: 0.2930\n",
            "Epoch 7/100\n",
            "559/559 [==============================] - 2s 4ms/step - loss: 1.7767 - accuracy: 0.3143\n",
            "Epoch 8/100\n",
            "559/559 [==============================] - 2s 4ms/step - loss: 1.7568 - accuracy: 0.3290\n",
            "Epoch 9/100\n",
            "559/559 [==============================] - 3s 5ms/step - loss: 1.7089 - accuracy: 0.3478\n",
            "Epoch 10/100\n",
            "559/559 [==============================] - 2s 4ms/step - loss: 1.7018 - accuracy: 0.3481\n",
            "Epoch 11/100\n",
            "559/559 [==============================] - 2s 4ms/step - loss: 1.6537 - accuracy: 0.3514\n",
            "Epoch 12/100\n",
            "559/559 [==============================] - 2s 4ms/step - loss: 1.6306 - accuracy: 0.3763\n",
            "Epoch 13/100\n",
            "559/559 [==============================] - 2s 4ms/step - loss: 1.6291 - accuracy: 0.3754\n",
            "Epoch 14/100\n",
            "559/559 [==============================] - 3s 5ms/step - loss: 1.5962 - accuracy: 0.3926\n",
            "Epoch 15/100\n",
            "559/559 [==============================] - 2s 4ms/step - loss: 1.6126 - accuracy: 0.3818\n",
            "Epoch 16/100\n",
            "559/559 [==============================] - 2s 4ms/step - loss: 1.5800 - accuracy: 0.3938\n",
            "Epoch 17/100\n",
            "559/559 [==============================] - 2s 4ms/step - loss: 1.5686 - accuracy: 0.3913\n",
            "Epoch 18/100\n",
            "559/559 [==============================] - 2s 4ms/step - loss: 1.5660 - accuracy: 0.4110\n",
            "Epoch 19/100\n",
            "559/559 [==============================] - 3s 5ms/step - loss: 1.5544 - accuracy: 0.3951\n",
            "Epoch 20/100\n",
            "559/559 [==============================] - 2s 4ms/step - loss: 1.5402 - accuracy: 0.4089\n",
            "Epoch 21/100\n",
            "559/559 [==============================] - 2s 4ms/step - loss: 1.5143 - accuracy: 0.4198\n",
            "Epoch 22/100\n",
            "559/559 [==============================] - 2s 4ms/step - loss: 1.5285 - accuracy: 0.4030\n",
            "Epoch 23/100\n",
            "559/559 [==============================] - 2s 4ms/step - loss: 1.5019 - accuracy: 0.4166\n",
            "Epoch 24/100\n",
            "559/559 [==============================] - 3s 5ms/step - loss: 1.4884 - accuracy: 0.4320\n",
            "Epoch 25/100\n",
            "559/559 [==============================] - 2s 4ms/step - loss: 1.5022 - accuracy: 0.4259\n",
            "Epoch 26/100\n",
            "559/559 [==============================] - 2s 4ms/step - loss: 1.4778 - accuracy: 0.4243\n",
            "Epoch 27/100\n",
            "559/559 [==============================] - 2s 4ms/step - loss: 1.4619 - accuracy: 0.4397\n",
            "Epoch 28/100\n",
            "559/559 [==============================] - 2s 4ms/step - loss: 1.4399 - accuracy: 0.4463\n",
            "Epoch 29/100\n",
            "559/559 [==============================] - 3s 5ms/step - loss: 1.4306 - accuracy: 0.4582\n",
            "Epoch 30/100\n",
            "559/559 [==============================] - 2s 4ms/step - loss: 1.4053 - accuracy: 0.4614\n",
            "Epoch 31/100\n",
            "559/559 [==============================] - 2s 4ms/step - loss: 1.4244 - accuracy: 0.4551\n",
            "Epoch 32/100\n",
            "559/559 [==============================] - 2s 4ms/step - loss: 1.3944 - accuracy: 0.4707\n",
            "Epoch 33/100\n",
            "559/559 [==============================] - 2s 4ms/step - loss: 1.4003 - accuracy: 0.4635\n",
            "Epoch 34/100\n",
            "559/559 [==============================] - 3s 5ms/step - loss: 1.3909 - accuracy: 0.4646\n",
            "Epoch 35/100\n",
            "559/559 [==============================] - 2s 4ms/step - loss: 1.3808 - accuracy: 0.4777\n",
            "Epoch 36/100\n",
            "559/559 [==============================] - 2s 4ms/step - loss: 1.3930 - accuracy: 0.4727\n",
            "Epoch 37/100\n",
            "559/559 [==============================] - 2s 4ms/step - loss: 1.3724 - accuracy: 0.4840\n",
            "Epoch 38/100\n",
            "559/559 [==============================] - 2s 4ms/step - loss: 1.3605 - accuracy: 0.4779\n",
            "Epoch 39/100\n",
            "559/559 [==============================] - 3s 4ms/step - loss: 1.3449 - accuracy: 0.4920\n",
            "Epoch 40/100\n",
            "559/559 [==============================] - 2s 4ms/step - loss: 1.3543 - accuracy: 0.4904\n",
            "Epoch 41/100\n",
            "559/559 [==============================] - 2s 4ms/step - loss: 1.3802 - accuracy: 0.4759\n",
            "Epoch 42/100\n",
            "559/559 [==============================] - 3s 5ms/step - loss: 1.3241 - accuracy: 0.4961\n",
            "Epoch 43/100\n",
            "559/559 [==============================] - 3s 5ms/step - loss: 1.3009 - accuracy: 0.5107\n",
            "Epoch 44/100\n",
            "559/559 [==============================] - 3s 5ms/step - loss: 1.3303 - accuracy: 0.5039\n",
            "Epoch 45/100\n",
            "559/559 [==============================] - 3s 5ms/step - loss: 1.3204 - accuracy: 0.4978\n",
            "Epoch 46/100\n",
            "559/559 [==============================] - 2s 4ms/step - loss: 1.3158 - accuracy: 0.4985\n",
            "Epoch 47/100\n",
            "559/559 [==============================] - 2s 4ms/step - loss: 1.2687 - accuracy: 0.5153\n",
            "Epoch 48/100\n",
            "559/559 [==============================] - 2s 4ms/step - loss: 1.2652 - accuracy: 0.5207\n",
            "Epoch 49/100\n",
            "559/559 [==============================] - 2s 4ms/step - loss: 1.2626 - accuracy: 0.5268\n",
            "Epoch 50/100\n",
            "559/559 [==============================] - 2s 4ms/step - loss: 1.2479 - accuracy: 0.5271\n",
            "Epoch 51/100\n",
            "559/559 [==============================] - 2s 4ms/step - loss: 1.2453 - accuracy: 0.5286\n",
            "Epoch 52/100\n",
            "559/559 [==============================] - 2s 4ms/step - loss: 1.2428 - accuracy: 0.5314\n",
            "Epoch 53/100\n",
            "559/559 [==============================] - 3s 5ms/step - loss: 1.2483 - accuracy: 0.5286\n",
            "Epoch 54/100\n",
            "559/559 [==============================] - 3s 5ms/step - loss: 1.2167 - accuracy: 0.5447\n",
            "Epoch 55/100\n",
            "559/559 [==============================] - 2s 4ms/step - loss: 1.2456 - accuracy: 0.5345\n",
            "Epoch 56/100\n",
            "559/559 [==============================] - 2s 4ms/step - loss: 1.2102 - accuracy: 0.5426\n",
            "Epoch 57/100\n",
            "559/559 [==============================] - 2s 4ms/step - loss: 1.2347 - accuracy: 0.5393\n",
            "Epoch 58/100\n",
            "559/559 [==============================] - 3s 4ms/step - loss: 1.1985 - accuracy: 0.5504\n",
            "Epoch 59/100\n",
            "559/559 [==============================] - 3s 4ms/step - loss: 1.2285 - accuracy: 0.5395\n",
            "Epoch 60/100\n",
            "559/559 [==============================] - 2s 4ms/step - loss: 1.1903 - accuracy: 0.5508\n",
            "Epoch 61/100\n",
            "559/559 [==============================] - 2s 4ms/step - loss: 1.1849 - accuracy: 0.5580\n",
            "Epoch 62/100\n",
            "559/559 [==============================] - 2s 4ms/step - loss: 1.1992 - accuracy: 0.5542\n",
            "Epoch 63/100\n",
            "559/559 [==============================] - 3s 5ms/step - loss: 1.1702 - accuracy: 0.5653\n",
            "Epoch 64/100\n",
            "559/559 [==============================] - 3s 5ms/step - loss: 1.1848 - accuracy: 0.5578\n",
            "Epoch 65/100\n",
            "559/559 [==============================] - 2s 4ms/step - loss: 1.1720 - accuracy: 0.5637\n",
            "Epoch 66/100\n",
            "559/559 [==============================] - 2s 4ms/step - loss: 1.1465 - accuracy: 0.5689\n",
            "Epoch 67/100\n",
            "559/559 [==============================] - 2s 4ms/step - loss: 1.1639 - accuracy: 0.5694\n",
            "Epoch 68/100\n",
            "559/559 [==============================] - 2s 4ms/step - loss: 1.1469 - accuracy: 0.5757\n",
            "Epoch 69/100\n",
            "559/559 [==============================] - 3s 4ms/step - loss: 1.1538 - accuracy: 0.5723\n",
            "Epoch 70/100\n",
            "559/559 [==============================] - 2s 4ms/step - loss: 1.1380 - accuracy: 0.5701\n",
            "Epoch 71/100\n",
            "559/559 [==============================] - 2s 4ms/step - loss: 1.1174 - accuracy: 0.5827\n",
            "Epoch 72/100\n",
            "559/559 [==============================] - 2s 4ms/step - loss: 1.1464 - accuracy: 0.5646\n",
            "Epoch 73/100\n",
            "559/559 [==============================] - 3s 5ms/step - loss: 1.1450 - accuracy: 0.5744\n",
            "Epoch 74/100\n",
            "559/559 [==============================] - 3s 4ms/step - loss: 1.1478 - accuracy: 0.5786\n",
            "Epoch 75/100\n",
            "559/559 [==============================] - 2s 4ms/step - loss: 1.1061 - accuracy: 0.5918\n",
            "Epoch 76/100\n",
            "559/559 [==============================] - 2s 4ms/step - loss: 1.1296 - accuracy: 0.5847\n",
            "Epoch 77/100\n",
            "559/559 [==============================] - 2s 4ms/step - loss: 1.1015 - accuracy: 0.5870\n",
            "Epoch 78/100\n",
            "559/559 [==============================] - 3s 4ms/step - loss: 1.0983 - accuracy: 0.5902\n",
            "Epoch 79/100\n",
            "559/559 [==============================] - 2s 4ms/step - loss: 1.1007 - accuracy: 0.6003\n",
            "Epoch 80/100\n",
            "559/559 [==============================] - 2s 4ms/step - loss: 1.1239 - accuracy: 0.5970\n",
            "Epoch 81/100\n",
            "559/559 [==============================] - 2s 4ms/step - loss: 1.0884 - accuracy: 0.5947\n",
            "Epoch 82/100\n",
            "559/559 [==============================] - 2s 4ms/step - loss: 1.0870 - accuracy: 0.5881\n",
            "Epoch 83/100\n",
            "559/559 [==============================] - 3s 5ms/step - loss: 1.0800 - accuracy: 0.5976\n",
            "Epoch 84/100\n",
            "559/559 [==============================] - 3s 4ms/step - loss: 1.0915 - accuracy: 0.6006\n",
            "Epoch 85/100\n",
            "559/559 [==============================] - 2s 4ms/step - loss: 1.0722 - accuracy: 0.6038\n",
            "Epoch 86/100\n",
            "559/559 [==============================] - 2s 4ms/step - loss: 1.1034 - accuracy: 0.6022\n",
            "Epoch 87/100\n",
            "559/559 [==============================] - 2s 4ms/step - loss: 1.0349 - accuracy: 0.6185\n",
            "Epoch 88/100\n",
            "559/559 [==============================] - 3s 5ms/step - loss: 1.0795 - accuracy: 0.6142\n",
            "Epoch 89/100\n",
            "559/559 [==============================] - 2s 4ms/step - loss: 1.0392 - accuracy: 0.6157\n",
            "Epoch 90/100\n",
            "559/559 [==============================] - 2s 4ms/step - loss: 1.0450 - accuracy: 0.6180\n",
            "Epoch 91/100\n",
            "559/559 [==============================] - 2s 4ms/step - loss: 1.0226 - accuracy: 0.6262\n",
            "Epoch 92/100\n",
            "559/559 [==============================] - 2s 4ms/step - loss: 1.0456 - accuracy: 0.6108\n",
            "Epoch 93/100\n",
            "559/559 [==============================] - 3s 5ms/step - loss: 1.0212 - accuracy: 0.6234\n",
            "Epoch 94/100\n",
            "559/559 [==============================] - 2s 4ms/step - loss: 1.0317 - accuracy: 0.6191\n",
            "Epoch 95/100\n",
            "559/559 [==============================] - 2s 4ms/step - loss: 1.0221 - accuracy: 0.6201\n",
            "Epoch 96/100\n",
            "559/559 [==============================] - 2s 4ms/step - loss: 1.0358 - accuracy: 0.6175\n",
            "Epoch 97/100\n",
            "559/559 [==============================] - 2s 4ms/step - loss: 1.0037 - accuracy: 0.6269\n",
            "Epoch 98/100\n",
            "559/559 [==============================] - 3s 5ms/step - loss: 1.0157 - accuracy: 0.6225\n",
            "Epoch 99/100\n",
            "559/559 [==============================] - 2s 4ms/step - loss: 1.0215 - accuracy: 0.6314\n",
            "Epoch 100/100\n",
            "559/559 [==============================] - 2s 4ms/step - loss: 1.0070 - accuracy: 0.6334\n"
          ]
        }
      ]
    },
    {
      "cell_type": "code",
      "source": [
        "plt.plot(history.history['loss'], label='loss')\n",
        "plt.plot(history.history['accuracy'], label='accuracy')\n",
        "plt.legend()\n",
        "plt.xlabel(\"epochs\")\n",
        "plt.show()"
      ],
      "metadata": {
        "colab": {
          "base_uri": "https://localhost:8080/",
          "height": 279
        },
        "id": "XLXLo0gQA6-d",
        "outputId": "88c52bf8-5702-487d-bf43-d6fae1f1e3d6"
      },
      "execution_count": 133,
      "outputs": [
        {
          "output_type": "display_data",
          "data": {
            "text/plain": [
              "<Figure size 432x288 with 1 Axes>"
            ],
            "image/png": "[encoded data removed]"
          },
          "metadata": {
            "needs_background": "light"
          }
        }
      ]
    },
    {
      "cell_type": "code",
      "source": [
        "model9.evaluate(X_test, y_test)"
      ],
      "metadata": {
        "colab": {
          "base_uri": "https://localhost:8080/"
        },
        "id": "3zzt5aArDjEf",
        "outputId": "251666df-1701-4f88-d729-454d52af54fd"
      },
      "execution_count": 134,
      "outputs": [
        {
          "output_type": "stream",
          "name": "stdout",
          "text": [
            "59/59 [==============================] - 0s 3ms/step - loss: 1.4783 - accuracy: 0.4997\n"
          ]
        },
        {
          "output_type": "execute_result",
          "data": {
            "text/plain": [
              "[1.4783363342285156, 0.4997313320636749]"
            ]
          },
          "metadata": {},
          "execution_count": 134
        }
      ]
    },
    {
      "cell_type": "code",
      "source": [
        "from tensorflow.keras import Sequential\n",
        "from tensorflow.keras import layers\n",
        "\n",
        "model10 = Sequential()\n",
        "model10.add(layers.Conv1D(256, 5,padding='same',\n",
        "                 input_shape=(431,20)))\n",
        "model10.add(layers.Activation('relu'))\n",
        "model10.add(layers.MaxPooling1D(pool_size=(8)))\n",
        "model10.add(layers.Dropout(0.2))\n",
        "model10.add(layers.Conv1D(128, 5,padding='same'))\n",
        "model10.add(layers.Activation('relu'))\n",
        "model10.add(layers.MaxPooling1D(pool_size=(4)))\n",
        "model10.add(layers.Dropout(0.1))\n",
        "model10.add(layers.Conv1D(64, 5,padding='same'))\n",
        "model10.add(layers.Activation('relu'))\n",
        "model10.add(layers.MaxPooling1D(pool_size=(4)))\n",
        "model10.add(layers.Dropout(0.1))\n",
        "model10.add(layers.Flatten())\n",
        "model10.add(layers.Dense(128))\n",
        "model10.add(layers.Dense(64))\n",
        "model10.add(layers.Dense(32))\n",
        "model10.add(layers.Dense(12))\n",
        "model10.add(layers.Activation('softmax'))\n",
        "\n",
        "model10.compile(optimizer=tf.keras.optimizers.experimental.Adam(),loss=\"sparse_categorical_crossentropy\", metrics=['accuracy'])\n",
        "history = model10.fit(X_train, y_train,batch_size=10, epochs=100)"
      ],
      "metadata": {
        "colab": {
          "base_uri": "https://localhost:8080/"
        },
        "id": "C2ukenp0Dm5U",
        "outputId": "b9ca6dea-3ba1-4987-b875-8d1da67d3f7f"
      },
      "execution_count": 138,
      "outputs": [
        {
          "output_type": "stream",
          "name": "stdout",
          "text": [
            "Epoch 1/100\n",
            "559/559 [==============================] - 5s 5ms/step - loss: 4.0706 - accuracy: 0.1378\n",
            "Epoch 2/100\n",
            "559/559 [==============================] - 3s 5ms/step - loss: 2.2605 - accuracy: 0.1826\n",
            "Epoch 3/100\n",
            "559/559 [==============================] - 3s 5ms/step - loss: 2.0879 - accuracy: 0.2439\n",
            "Epoch 4/100\n",
            "559/559 [==============================] - 3s 5ms/step - loss: 1.9330 - accuracy: 0.2863\n",
            "Epoch 5/100\n",
            "559/559 [==============================] - 3s 5ms/step - loss: 1.8381 - accuracy: 0.3025\n",
            "Epoch 6/100\n",
            "559/559 [==============================] - 3s 5ms/step - loss: 1.7950 - accuracy: 0.3283\n",
            "Epoch 7/100\n",
            "559/559 [==============================] - 3s 5ms/step - loss: 1.7631 - accuracy: 0.3318\n",
            "Epoch 8/100\n",
            "559/559 [==============================] - 3s 5ms/step - loss: 1.6867 - accuracy: 0.3593\n",
            "Epoch 9/100\n",
            "559/559 [==============================] - 3s 5ms/step - loss: 1.6512 - accuracy: 0.3693\n",
            "Epoch 10/100\n",
            "559/559 [==============================] - 3s 5ms/step - loss: 1.6373 - accuracy: 0.3741\n",
            "Epoch 11/100\n",
            "559/559 [==============================] - 3s 5ms/step - loss: 1.6273 - accuracy: 0.3815\n",
            "Epoch 12/100\n",
            "559/559 [==============================] - 3s 5ms/step - loss: 1.5792 - accuracy: 0.3983\n",
            "Epoch 13/100\n",
            "559/559 [==============================] - 3s 5ms/step - loss: 1.5837 - accuracy: 0.3987\n",
            "Epoch 14/100\n",
            "559/559 [==============================] - 3s 5ms/step - loss: 1.5381 - accuracy: 0.4198\n",
            "Epoch 15/100\n",
            "559/559 [==============================] - 3s 5ms/step - loss: 1.5280 - accuracy: 0.4225\n",
            "Epoch 16/100\n",
            "559/559 [==============================] - 3s 5ms/step - loss: 1.4999 - accuracy: 0.4277\n",
            "Epoch 17/100\n",
            "559/559 [==============================] - 3s 5ms/step - loss: 1.4904 - accuracy: 0.4472\n",
            "Epoch 18/100\n",
            "559/559 [==============================] - 3s 5ms/step - loss: 1.4583 - accuracy: 0.4546\n",
            "Epoch 19/100\n",
            "559/559 [==============================] - 3s 5ms/step - loss: 1.4506 - accuracy: 0.4526\n",
            "Epoch 20/100\n",
            "559/559 [==============================] - 3s 5ms/step - loss: 1.4195 - accuracy: 0.4603\n",
            "Epoch 21/100\n",
            "559/559 [==============================] - 3s 5ms/step - loss: 1.4174 - accuracy: 0.4614\n",
            "Epoch 22/100\n",
            "559/559 [==============================] - 3s 5ms/step - loss: 1.3786 - accuracy: 0.4852\n",
            "Epoch 23/100\n",
            "559/559 [==============================] - 3s 5ms/step - loss: 1.3657 - accuracy: 0.4888\n",
            "Epoch 24/100\n",
            "559/559 [==============================] - 3s 5ms/step - loss: 1.3382 - accuracy: 0.4981\n",
            "Epoch 25/100\n",
            "559/559 [==============================] - 3s 5ms/step - loss: 1.3466 - accuracy: 0.4970\n",
            "Epoch 26/100\n",
            "559/559 [==============================] - 3s 5ms/step - loss: 1.3194 - accuracy: 0.5031\n",
            "Epoch 27/100\n",
            "559/559 [==============================] - 3s 5ms/step - loss: 1.2772 - accuracy: 0.5241\n",
            "Epoch 28/100\n",
            "559/559 [==============================] - 3s 5ms/step - loss: 1.2794 - accuracy: 0.5243\n",
            "Epoch 29/100\n",
            "559/559 [==============================] - 3s 5ms/step - loss: 1.2574 - accuracy: 0.5320\n",
            "Epoch 30/100\n",
            "559/559 [==============================] - 3s 5ms/step - loss: 1.2407 - accuracy: 0.5381\n",
            "Epoch 31/100\n",
            "559/559 [==============================] - 3s 5ms/step - loss: 1.2085 - accuracy: 0.5524\n",
            "Epoch 32/100\n",
            "559/559 [==============================] - 3s 5ms/step - loss: 1.2022 - accuracy: 0.5528\n",
            "Epoch 33/100\n",
            "559/559 [==============================] - 3s 5ms/step - loss: 1.1840 - accuracy: 0.5524\n",
            "Epoch 34/100\n",
            "559/559 [==============================] - 3s 5ms/step - loss: 1.1872 - accuracy: 0.5669\n",
            "Epoch 35/100\n",
            "559/559 [==============================] - 3s 5ms/step - loss: 1.1574 - accuracy: 0.5676\n",
            "Epoch 36/100\n",
            "559/559 [==============================] - 3s 5ms/step - loss: 1.1371 - accuracy: 0.5823\n",
            "Epoch 37/100\n",
            "559/559 [==============================] - 3s 5ms/step - loss: 1.1381 - accuracy: 0.5743\n",
            "Epoch 38/100\n",
            "559/559 [==============================] - 3s 5ms/step - loss: 1.0982 - accuracy: 0.5913\n",
            "Epoch 39/100\n",
            "559/559 [==============================] - 3s 5ms/step - loss: 1.1237 - accuracy: 0.5795\n",
            "Epoch 40/100\n",
            "559/559 [==============================] - 3s 5ms/step - loss: 1.0810 - accuracy: 0.5960\n",
            "Epoch 41/100\n",
            "559/559 [==============================] - 3s 5ms/step - loss: 1.0556 - accuracy: 0.6071\n",
            "Epoch 42/100\n",
            "559/559 [==============================] - 3s 5ms/step - loss: 1.0826 - accuracy: 0.5992\n",
            "Epoch 43/100\n",
            "559/559 [==============================] - 3s 5ms/step - loss: 1.0307 - accuracy: 0.6130\n",
            "Epoch 44/100\n",
            "559/559 [==============================] - 3s 5ms/step - loss: 1.0327 - accuracy: 0.6158\n",
            "Epoch 45/100\n",
            "559/559 [==============================] - 3s 5ms/step - loss: 1.0289 - accuracy: 0.6205\n",
            "Epoch 46/100\n",
            "559/559 [==============================] - 3s 5ms/step - loss: 1.0096 - accuracy: 0.6280\n",
            "Epoch 47/100\n",
            "559/559 [==============================] - 3s 5ms/step - loss: 0.9824 - accuracy: 0.6323\n",
            "Epoch 48/100\n",
            "559/559 [==============================] - 3s 5ms/step - loss: 0.9845 - accuracy: 0.6320\n",
            "Epoch 49/100\n",
            "559/559 [==============================] - 3s 5ms/step - loss: 0.9795 - accuracy: 0.6391\n",
            "Epoch 50/100\n",
            "559/559 [==============================] - 3s 5ms/step - loss: 0.9650 - accuracy: 0.6445\n",
            "Epoch 51/100\n",
            "559/559 [==============================] - 3s 5ms/step - loss: 0.9619 - accuracy: 0.6479\n",
            "Epoch 52/100\n",
            "559/559 [==============================] - 3s 5ms/step - loss: 0.9332 - accuracy: 0.6531\n",
            "Epoch 53/100\n",
            "559/559 [==============================] - 3s 5ms/step - loss: 0.9623 - accuracy: 0.6485\n",
            "Epoch 54/100\n",
            "559/559 [==============================] - 3s 5ms/step - loss: 0.9463 - accuracy: 0.6513\n",
            "Epoch 55/100\n",
            "559/559 [==============================] - 3s 5ms/step - loss: 0.8954 - accuracy: 0.6673\n",
            "Epoch 56/100\n",
            "559/559 [==============================] - 3s 5ms/step - loss: 0.9012 - accuracy: 0.6680\n",
            "Epoch 57/100\n",
            "559/559 [==============================] - 3s 5ms/step - loss: 0.8821 - accuracy: 0.6739\n",
            "Epoch 58/100\n",
            "559/559 [==============================] - 3s 5ms/step - loss: 0.8920 - accuracy: 0.6811\n",
            "Epoch 59/100\n",
            "559/559 [==============================] - 3s 5ms/step - loss: 0.8638 - accuracy: 0.6859\n",
            "Epoch 60/100\n",
            "559/559 [==============================] - 3s 5ms/step - loss: 0.8580 - accuracy: 0.6848\n",
            "Epoch 61/100\n",
            "559/559 [==============================] - 3s 5ms/step - loss: 0.8570 - accuracy: 0.6882\n",
            "Epoch 62/100\n",
            "559/559 [==============================] - 3s 5ms/step - loss: 0.8594 - accuracy: 0.6909\n",
            "Epoch 63/100\n",
            "559/559 [==============================] - 3s 5ms/step - loss: 0.8529 - accuracy: 0.6954\n",
            "Epoch 64/100\n",
            "559/559 [==============================] - 3s 5ms/step - loss: 0.8270 - accuracy: 0.7017\n",
            "Epoch 65/100\n",
            "559/559 [==============================] - 3s 5ms/step - loss: 0.8288 - accuracy: 0.7020\n",
            "Epoch 66/100\n",
            "559/559 [==============================] - 3s 5ms/step - loss: 0.8160 - accuracy: 0.7020\n",
            "Epoch 67/100\n",
            "559/559 [==============================] - 3s 5ms/step - loss: 0.8039 - accuracy: 0.7096\n",
            "Epoch 68/100\n",
            "559/559 [==============================] - 3s 5ms/step - loss: 0.7769 - accuracy: 0.7139\n",
            "Epoch 69/100\n",
            "559/559 [==============================] - 3s 5ms/step - loss: 0.7975 - accuracy: 0.7149\n",
            "Epoch 70/100\n",
            "559/559 [==============================] - 3s 5ms/step - loss: 0.7859 - accuracy: 0.7155\n",
            "Epoch 71/100\n",
            "559/559 [==============================] - 3s 5ms/step - loss: 0.7704 - accuracy: 0.7259\n",
            "Epoch 72/100\n",
            "559/559 [==============================] - 3s 5ms/step - loss: 0.7619 - accuracy: 0.7250\n",
            "Epoch 73/100\n",
            "559/559 [==============================] - 3s 5ms/step - loss: 0.7582 - accuracy: 0.7219\n",
            "Epoch 74/100\n",
            "559/559 [==============================] - 3s 5ms/step - loss: 0.7549 - accuracy: 0.7300\n",
            "Epoch 75/100\n",
            "559/559 [==============================] - 3s 5ms/step - loss: 0.7530 - accuracy: 0.7208\n",
            "Epoch 76/100\n",
            "559/559 [==============================] - 3s 5ms/step - loss: 0.7388 - accuracy: 0.7307\n",
            "Epoch 77/100\n",
            "559/559 [==============================] - 3s 5ms/step - loss: 0.7209 - accuracy: 0.7370\n",
            "Epoch 78/100\n",
            "559/559 [==============================] - 3s 5ms/step - loss: 0.7243 - accuracy: 0.7364\n",
            "Epoch 79/100\n",
            "559/559 [==============================] - 3s 5ms/step - loss: 0.7003 - accuracy: 0.7534\n",
            "Epoch 80/100\n",
            "559/559 [==============================] - 3s 5ms/step - loss: 0.7260 - accuracy: 0.7418\n",
            "Epoch 81/100\n",
            "559/559 [==============================] - 3s 5ms/step - loss: 0.7105 - accuracy: 0.7470\n",
            "Epoch 82/100\n",
            "559/559 [==============================] - 3s 5ms/step - loss: 0.6801 - accuracy: 0.7543\n",
            "Epoch 83/100\n",
            "559/559 [==============================] - 3s 5ms/step - loss: 0.7060 - accuracy: 0.7493\n",
            "Epoch 84/100\n",
            "559/559 [==============================] - 3s 5ms/step - loss: 0.7091 - accuracy: 0.7470\n",
            "Epoch 85/100\n",
            "559/559 [==============================] - 3s 5ms/step - loss: 0.6864 - accuracy: 0.7554\n",
            "Epoch 86/100\n",
            "559/559 [==============================] - 3s 5ms/step - loss: 0.6474 - accuracy: 0.7692\n",
            "Epoch 87/100\n",
            "559/559 [==============================] - 3s 5ms/step - loss: 0.6806 - accuracy: 0.7610\n",
            "Epoch 88/100\n",
            "559/559 [==============================] - 3s 5ms/step - loss: 0.6706 - accuracy: 0.7606\n",
            "Epoch 89/100\n",
            "559/559 [==============================] - 3s 5ms/step - loss: 0.6872 - accuracy: 0.7543\n",
            "Epoch 90/100\n",
            "559/559 [==============================] - 3s 5ms/step - loss: 0.6604 - accuracy: 0.7613\n",
            "Epoch 91/100\n",
            "559/559 [==============================] - 3s 5ms/step - loss: 0.6447 - accuracy: 0.7714\n",
            "Epoch 92/100\n",
            "559/559 [==============================] - 3s 5ms/step - loss: 0.6525 - accuracy: 0.7696\n",
            "Epoch 93/100\n",
            "559/559 [==============================] - 3s 5ms/step - loss: 0.6620 - accuracy: 0.7619\n",
            "Epoch 94/100\n",
            "559/559 [==============================] - 3s 5ms/step - loss: 0.6454 - accuracy: 0.7701\n",
            "Epoch 95/100\n",
            "559/559 [==============================] - 3s 5ms/step - loss: 0.6213 - accuracy: 0.7723\n",
            "Epoch 96/100\n",
            "559/559 [==============================] - 3s 5ms/step - loss: 0.6353 - accuracy: 0.7776\n",
            "Epoch 97/100\n",
            "559/559 [==============================] - 3s 5ms/step - loss: 0.6229 - accuracy: 0.7793\n",
            "Epoch 98/100\n",
            "559/559 [==============================] - 3s 5ms/step - loss: 0.6175 - accuracy: 0.7827\n",
            "Epoch 99/100\n",
            "559/559 [==============================] - 3s 5ms/step - loss: 0.6365 - accuracy: 0.7794\n",
            "Epoch 100/100\n",
            "559/559 [==============================] - 3s 5ms/step - loss: 0.5896 - accuracy: 0.7879\n"
          ]
        }
      ]
    },
    {
      "cell_type": "code",
      "source": [
        "plt.plot(history.history['loss'], label='loss')\n",
        "plt.plot(history.history['accuracy'], label='accuracy')\n",
        "plt.legend()\n",
        "plt.xlabel(\"epochs\")\n",
        "plt.show()"
      ],
      "metadata": {
        "colab": {
          "base_uri": "https://localhost:8080/",
          "height": 279
        },
        "id": "R8QLdzk4D1Bc",
        "outputId": "c7b4a252-faf1-4a17-d20a-c2d0de9acf1f"
      },
      "execution_count": 139,
      "outputs": [
        {
          "output_type": "display_data",
          "data": {
            "text/plain": [
              "<Figure size 432x288 with 1 Axes>"
            ],
            "image/png": "[encoded data removed]"
          },
          "metadata": {
            "needs_background": "light"
          }
        }
      ]
    },
    {
      "cell_type": "code",
      "source": [
        "model10.evaluate(X_test, y_test)"
      ],
      "metadata": {
        "colab": {
          "base_uri": "https://localhost:8080/"
        },
        "id": "X9SOIH5SFDjG",
        "outputId": "a5717b61-1e6f-427d-f907-5c7240922ab4"
      },
      "execution_count": 140,
      "outputs": [
        {
          "output_type": "stream",
          "name": "stdout",
          "text": [
            "59/59 [==============================] - 0s 3ms/step - loss: 1.6789 - accuracy: 0.4911\n"
          ]
        },
        {
          "output_type": "execute_result",
          "data": {
            "text/plain": [
              "[1.6788740158081055, 0.49113380908966064]"
            ]
          },
          "metadata": {},
          "execution_count": 140
        }
      ]
    },
    {
      "cell_type": "code",
      "source": [
        "from tensorflow.keras import Sequential\n",
        "from tensorflow.keras import layers\n",
        "\n",
        "model11 = Sequential()\n",
        "model11.add(layers.Conv1D(256, 5,padding='same',\n",
        "                 input_shape=(431,20)))\n",
        "model11.add(layers.Activation('relu'))\n",
        "model11.add(layers.MaxPooling1D(pool_size=(8)))\n",
        "model11.add(layers.Dropout(0.2))\n",
        "model11.add(layers.Conv1D(128, 5,padding='same'))\n",
        "model11.add(layers.Activation('relu'))\n",
        "model11.add(layers.MaxPooling1D(pool_size=(4)))\n",
        "model11.add(layers.Dropout(0.1))\n",
        "model11.add(layers.Conv1D(64, 5,padding='same'))\n",
        "model11.add(layers.Activation('relu'))\n",
        "model11.add(layers.MaxPooling1D(pool_size=(4)))\n",
        "model11.add(layers.Dropout(0.1))\n",
        "model11.add(layers.Flatten())\n",
        "model11.add(layers.Dense(128))\n",
        "model11.add(layers.Dense(64))\n",
        "model11.add(layers.Dense(32))\n",
        "model11.add(layers.Dense(12))\n",
        "model11.add(layers.Activation('softmax'))\n",
        "\n",
        "model11.compile(optimizer=tf.keras.optimizers.experimental.Adam(),loss=\"sparse_categorical_crossentropy\", metrics=['accuracy'])\n",
        "history = model11.fit(X_train, y_train,batch_size=10, epochs=200)"
      ],
      "metadata": {
        "colab": {
          "base_uri": "https://localhost:8080/"
        },
        "id": "6lDuwenEFIcj",
        "outputId": "c56c9f83-f50d-4056-c880-a52f886af4fd"
      },
      "execution_count": 144,
      "outputs": [
        {
          "output_type": "stream",
          "name": "stdout",
          "text": [
            "Epoch 1/200\n",
            "559/559 [==============================] - 5s 5ms/step - loss: 4.4429 - accuracy: 0.1258\n",
            "Epoch 2/200\n",
            "559/559 [==============================] - 3s 5ms/step - loss: 2.2869 - accuracy: 0.1670\n",
            "Epoch 3/200\n",
            "559/559 [==============================] - 3s 5ms/step - loss: 2.1649 - accuracy: 0.2211\n",
            "Epoch 4/200\n",
            "559/559 [==============================] - 3s 5ms/step - loss: 1.9545 - accuracy: 0.2711\n",
            "Epoch 5/200\n",
            "559/559 [==============================] - 3s 5ms/step - loss: 1.8601 - accuracy: 0.3042\n",
            "Epoch 6/200\n",
            "559/559 [==============================] - 3s 5ms/step - loss: 1.8195 - accuracy: 0.3198\n",
            "Epoch 7/200\n",
            "559/559 [==============================] - 3s 5ms/step - loss: 1.7614 - accuracy: 0.3300\n",
            "Epoch 8/200\n",
            "559/559 [==============================] - 3s 5ms/step - loss: 1.7300 - accuracy: 0.3451\n",
            "Epoch 9/200\n",
            "559/559 [==============================] - 3s 5ms/step - loss: 1.6776 - accuracy: 0.3634\n",
            "Epoch 10/200\n",
            "559/559 [==============================] - 3s 5ms/step - loss: 1.6574 - accuracy: 0.3725\n",
            "Epoch 11/200\n",
            "559/559 [==============================] - 3s 5ms/step - loss: 1.6141 - accuracy: 0.3895\n",
            "Epoch 12/200\n",
            "559/559 [==============================] - 3s 5ms/step - loss: 1.6059 - accuracy: 0.3908\n",
            "Epoch 13/200\n",
            "559/559 [==============================] - 3s 5ms/step - loss: 1.5804 - accuracy: 0.3913\n",
            "Epoch 14/200\n",
            "559/559 [==============================] - 3s 5ms/step - loss: 1.5624 - accuracy: 0.3994\n",
            "Epoch 15/200\n",
            "559/559 [==============================] - 3s 5ms/step - loss: 1.5385 - accuracy: 0.4161\n",
            "Epoch 16/200\n",
            "559/559 [==============================] - 3s 5ms/step - loss: 1.5406 - accuracy: 0.4168\n",
            "Epoch 17/200\n",
            "559/559 [==============================] - 3s 5ms/step - loss: 1.5132 - accuracy: 0.4272\n",
            "Epoch 18/200\n",
            "559/559 [==============================] - 3s 5ms/step - loss: 1.4917 - accuracy: 0.4302\n",
            "Epoch 19/200\n",
            "559/559 [==============================] - 3s 5ms/step - loss: 1.4968 - accuracy: 0.4340\n",
            "Epoch 20/200\n",
            "559/559 [==============================] - 3s 5ms/step - loss: 1.4669 - accuracy: 0.4540\n",
            "Epoch 21/200\n",
            "559/559 [==============================] - 3s 5ms/step - loss: 1.4464 - accuracy: 0.4616\n",
            "Epoch 22/200\n",
            "559/559 [==============================] - 3s 5ms/step - loss: 1.4355 - accuracy: 0.4598\n",
            "Epoch 23/200\n",
            "559/559 [==============================] - 3s 5ms/step - loss: 1.3848 - accuracy: 0.4824\n",
            "Epoch 24/200\n",
            "559/559 [==============================] - 3s 5ms/step - loss: 1.3909 - accuracy: 0.4755\n",
            "Epoch 25/200\n",
            "559/559 [==============================] - 3s 5ms/step - loss: 1.3889 - accuracy: 0.4890\n",
            "Epoch 26/200\n",
            "559/559 [==============================] - 3s 5ms/step - loss: 1.3738 - accuracy: 0.4883\n",
            "Epoch 27/200\n",
            "559/559 [==============================] - 3s 5ms/step - loss: 1.3439 - accuracy: 0.5035\n",
            "Epoch 28/200\n",
            "559/559 [==============================] - 3s 5ms/step - loss: 1.3258 - accuracy: 0.5067\n",
            "Epoch 29/200\n",
            "559/559 [==============================] - 3s 5ms/step - loss: 1.2964 - accuracy: 0.5203\n",
            "Epoch 30/200\n",
            "559/559 [==============================] - 3s 5ms/step - loss: 1.2919 - accuracy: 0.5169\n",
            "Epoch 31/200\n",
            "559/559 [==============================] - 3s 5ms/step - loss: 1.2847 - accuracy: 0.5252\n",
            "Epoch 32/200\n",
            "559/559 [==============================] - 3s 5ms/step - loss: 1.2960 - accuracy: 0.5218\n",
            "Epoch 33/200\n",
            "559/559 [==============================] - 3s 5ms/step - loss: 1.2578 - accuracy: 0.5334\n",
            "Epoch 34/200\n",
            "559/559 [==============================] - 3s 5ms/step - loss: 1.2391 - accuracy: 0.5347\n",
            "Epoch 35/200\n",
            "559/559 [==============================] - 3s 5ms/step - loss: 1.2488 - accuracy: 0.5395\n",
            "Epoch 36/200\n",
            "559/559 [==============================] - 3s 5ms/step - loss: 1.2174 - accuracy: 0.5451\n",
            "Epoch 37/200\n",
            "559/559 [==============================] - 3s 5ms/step - loss: 1.2045 - accuracy: 0.5529\n",
            "Epoch 38/200\n",
            "559/559 [==============================] - 3s 5ms/step - loss: 1.1945 - accuracy: 0.5572\n",
            "Epoch 39/200\n",
            "559/559 [==============================] - 3s 5ms/step - loss: 1.1977 - accuracy: 0.5508\n",
            "Epoch 40/200\n",
            "559/559 [==============================] - 3s 5ms/step - loss: 1.1735 - accuracy: 0.5592\n",
            "Epoch 41/200\n",
            "559/559 [==============================] - 3s 5ms/step - loss: 1.1637 - accuracy: 0.5673\n",
            "Epoch 42/200\n",
            "559/559 [==============================] - 3s 5ms/step - loss: 1.1510 - accuracy: 0.5685\n",
            "Epoch 43/200\n",
            "559/559 [==============================] - 3s 5ms/step - loss: 1.1449 - accuracy: 0.5807\n",
            "Epoch 44/200\n",
            "559/559 [==============================] - 3s 5ms/step - loss: 1.1111 - accuracy: 0.5820\n",
            "Epoch 45/200\n",
            "559/559 [==============================] - 3s 5ms/step - loss: 1.1323 - accuracy: 0.5823\n",
            "Epoch 46/200\n",
            "559/559 [==============================] - 3s 5ms/step - loss: 1.1159 - accuracy: 0.5886\n",
            "Epoch 47/200\n",
            "559/559 [==============================] - 3s 5ms/step - loss: 1.0898 - accuracy: 0.5990\n",
            "Epoch 48/200\n",
            "559/559 [==============================] - 3s 5ms/step - loss: 1.0794 - accuracy: 0.5999\n",
            "Epoch 49/200\n",
            "559/559 [==============================] - 3s 5ms/step - loss: 1.0642 - accuracy: 0.5988\n",
            "Epoch 50/200\n",
            "559/559 [==============================] - 3s 5ms/step - loss: 1.0824 - accuracy: 0.6051\n",
            "Epoch 51/200\n",
            "559/559 [==============================] - 3s 5ms/step - loss: 1.0650 - accuracy: 0.6042\n",
            "Epoch 52/200\n",
            "559/559 [==============================] - 3s 5ms/step - loss: 1.0261 - accuracy: 0.6235\n",
            "Epoch 53/200\n",
            "559/559 [==============================] - 3s 5ms/step - loss: 1.0275 - accuracy: 0.6244\n",
            "Epoch 54/200\n",
            "559/559 [==============================] - 3s 5ms/step - loss: 1.0177 - accuracy: 0.6246\n",
            "Epoch 55/200\n",
            "559/559 [==============================] - 3s 5ms/step - loss: 1.0184 - accuracy: 0.6257\n",
            "Epoch 56/200\n",
            "559/559 [==============================] - 3s 5ms/step - loss: 0.9985 - accuracy: 0.6266\n",
            "Epoch 57/200\n",
            "559/559 [==============================] - 3s 5ms/step - loss: 0.9917 - accuracy: 0.6354\n",
            "Epoch 58/200\n",
            "559/559 [==============================] - 3s 5ms/step - loss: 0.9909 - accuracy: 0.6424\n",
            "Epoch 59/200\n",
            "559/559 [==============================] - 3s 5ms/step - loss: 0.9668 - accuracy: 0.6406\n",
            "Epoch 60/200\n",
            "559/559 [==============================] - 3s 5ms/step - loss: 0.9603 - accuracy: 0.6459\n",
            "Epoch 61/200\n",
            "559/559 [==============================] - 3s 5ms/step - loss: 0.9568 - accuracy: 0.6506\n",
            "Epoch 62/200\n",
            "559/559 [==============================] - 3s 5ms/step - loss: 0.9286 - accuracy: 0.6562\n",
            "Epoch 63/200\n",
            "559/559 [==============================] - 3s 5ms/step - loss: 0.9470 - accuracy: 0.6479\n",
            "Epoch 64/200\n",
            "559/559 [==============================] - 3s 5ms/step - loss: 0.9390 - accuracy: 0.6533\n",
            "Epoch 65/200\n",
            "559/559 [==============================] - 3s 5ms/step - loss: 0.9306 - accuracy: 0.6608\n",
            "Epoch 66/200\n",
            "559/559 [==============================] - 3s 5ms/step - loss: 0.9369 - accuracy: 0.6553\n",
            "Epoch 67/200\n",
            "559/559 [==============================] - 3s 5ms/step - loss: 0.9095 - accuracy: 0.6628\n",
            "Epoch 68/200\n",
            "559/559 [==============================] - 3s 5ms/step - loss: 0.9099 - accuracy: 0.6612\n",
            "Epoch 69/200\n",
            "559/559 [==============================] - 3s 5ms/step - loss: 0.9041 - accuracy: 0.6678\n",
            "Epoch 70/200\n",
            "559/559 [==============================] - 3s 5ms/step - loss: 0.8732 - accuracy: 0.6830\n",
            "Epoch 71/200\n",
            "559/559 [==============================] - 3s 5ms/step - loss: 0.9158 - accuracy: 0.6588\n",
            "Epoch 72/200\n",
            "559/559 [==============================] - 3s 5ms/step - loss: 0.8927 - accuracy: 0.6753\n",
            "Epoch 73/200\n",
            "559/559 [==============================] - 3s 5ms/step - loss: 0.8447 - accuracy: 0.6920\n",
            "Epoch 74/200\n",
            "559/559 [==============================] - 3s 5ms/step - loss: 0.8711 - accuracy: 0.6870\n",
            "Epoch 75/200\n",
            "559/559 [==============================] - 3s 5ms/step - loss: 0.8318 - accuracy: 0.7002\n",
            "Epoch 76/200\n",
            "559/559 [==============================] - 3s 5ms/step - loss: 0.8469 - accuracy: 0.6811\n",
            "Epoch 77/200\n",
            "559/559 [==============================] - 3s 5ms/step - loss: 0.8521 - accuracy: 0.6886\n",
            "Epoch 78/200\n",
            "559/559 [==============================] - 3s 5ms/step - loss: 0.8354 - accuracy: 0.6970\n",
            "Epoch 79/200\n",
            "559/559 [==============================] - 3s 5ms/step - loss: 0.8372 - accuracy: 0.6920\n",
            "Epoch 80/200\n",
            "559/559 [==============================] - 3s 5ms/step - loss: 0.7898 - accuracy: 0.7140\n",
            "Epoch 81/200\n",
            "559/559 [==============================] - 3s 5ms/step - loss: 0.7816 - accuracy: 0.7208\n",
            "Epoch 82/200\n",
            "559/559 [==============================] - 3s 5ms/step - loss: 0.8205 - accuracy: 0.7033\n",
            "Epoch 83/200\n",
            "559/559 [==============================] - 3s 5ms/step - loss: 0.8021 - accuracy: 0.7072\n",
            "Epoch 84/200\n",
            "559/559 [==============================] - 3s 5ms/step - loss: 0.7997 - accuracy: 0.7078\n",
            "Epoch 85/200\n",
            "559/559 [==============================] - 3s 5ms/step - loss: 0.7903 - accuracy: 0.7112\n",
            "Epoch 86/200\n",
            "559/559 [==============================] - 3s 5ms/step - loss: 0.7697 - accuracy: 0.7171\n",
            "Epoch 87/200\n",
            "559/559 [==============================] - 3s 5ms/step - loss: 0.7713 - accuracy: 0.7196\n",
            "Epoch 88/200\n",
            "559/559 [==============================] - 3s 5ms/step - loss: 0.7614 - accuracy: 0.7239\n",
            "Epoch 89/200\n",
            "559/559 [==============================] - 3s 5ms/step - loss: 0.7636 - accuracy: 0.7228\n",
            "Epoch 90/200\n",
            "559/559 [==============================] - 3s 5ms/step - loss: 0.7570 - accuracy: 0.7287\n",
            "Epoch 91/200\n",
            "559/559 [==============================] - 3s 5ms/step - loss: 0.7481 - accuracy: 0.7323\n",
            "Epoch 92/200\n",
            "559/559 [==============================] - 3s 5ms/step - loss: 0.7564 - accuracy: 0.7303\n",
            "Epoch 93/200\n",
            "559/559 [==============================] - 3s 5ms/step - loss: 0.7180 - accuracy: 0.7362\n",
            "Epoch 94/200\n",
            "559/559 [==============================] - 3s 5ms/step - loss: 0.7425 - accuracy: 0.7312\n",
            "Epoch 95/200\n",
            "559/559 [==============================] - 3s 5ms/step - loss: 0.7307 - accuracy: 0.7330\n",
            "Epoch 96/200\n",
            "559/559 [==============================] - 3s 5ms/step - loss: 0.7232 - accuracy: 0.7441\n",
            "Epoch 97/200\n",
            "559/559 [==============================] - 3s 5ms/step - loss: 0.7175 - accuracy: 0.7429\n",
            "Epoch 98/200\n",
            "559/559 [==============================] - 3s 5ms/step - loss: 0.6913 - accuracy: 0.7490\n",
            "Epoch 99/200\n",
            "559/559 [==============================] - 3s 5ms/step - loss: 0.6947 - accuracy: 0.7490\n",
            "Epoch 100/200\n",
            "559/559 [==============================] - 3s 5ms/step - loss: 0.7263 - accuracy: 0.7448\n",
            "Epoch 101/200\n",
            "559/559 [==============================] - 3s 5ms/step - loss: 0.6936 - accuracy: 0.7472\n",
            "Epoch 102/200\n",
            "559/559 [==============================] - 3s 5ms/step - loss: 0.6843 - accuracy: 0.7549\n",
            "Epoch 103/200\n",
            "559/559 [==============================] - 3s 5ms/step - loss: 0.7029 - accuracy: 0.7491\n",
            "Epoch 104/200\n",
            "559/559 [==============================] - 3s 5ms/step - loss: 0.7000 - accuracy: 0.7517\n",
            "Epoch 105/200\n",
            "559/559 [==============================] - 3s 5ms/step - loss: 0.7053 - accuracy: 0.7456\n",
            "Epoch 106/200\n",
            "559/559 [==============================] - 3s 5ms/step - loss: 0.6498 - accuracy: 0.7665\n",
            "Epoch 107/200\n",
            "559/559 [==============================] - 3s 5ms/step - loss: 0.6750 - accuracy: 0.7577\n",
            "Epoch 108/200\n",
            "559/559 [==============================] - 3s 5ms/step - loss: 0.6747 - accuracy: 0.7642\n",
            "Epoch 109/200\n",
            "559/559 [==============================] - 3s 5ms/step - loss: 0.6667 - accuracy: 0.7633\n",
            "Epoch 110/200\n",
            "559/559 [==============================] - 3s 5ms/step - loss: 0.6678 - accuracy: 0.7581\n",
            "Epoch 111/200\n",
            "559/559 [==============================] - 3s 5ms/step - loss: 0.6583 - accuracy: 0.7647\n",
            "Epoch 112/200\n",
            "559/559 [==============================] - 3s 5ms/step - loss: 0.6435 - accuracy: 0.7707\n",
            "Epoch 113/200\n",
            "559/559 [==============================] - 3s 5ms/step - loss: 0.6284 - accuracy: 0.7694\n",
            "Epoch 114/200\n",
            "559/559 [==============================] - 3s 5ms/step - loss: 0.6479 - accuracy: 0.7653\n",
            "Epoch 115/200\n",
            "559/559 [==============================] - 3s 5ms/step - loss: 0.6505 - accuracy: 0.7726\n",
            "Epoch 116/200\n",
            "559/559 [==============================] - 3s 5ms/step - loss: 0.6436 - accuracy: 0.7705\n",
            "Epoch 117/200\n",
            "559/559 [==============================] - 3s 5ms/step - loss: 0.6546 - accuracy: 0.7683\n",
            "Epoch 118/200\n",
            "559/559 [==============================] - 3s 5ms/step - loss: 0.6341 - accuracy: 0.7787\n",
            "Epoch 119/200\n",
            "559/559 [==============================] - 3s 5ms/step - loss: 0.6167 - accuracy: 0.7780\n",
            "Epoch 120/200\n",
            "559/559 [==============================] - 3s 5ms/step - loss: 0.6218 - accuracy: 0.7830\n",
            "Epoch 121/200\n",
            "559/559 [==============================] - 3s 5ms/step - loss: 0.6309 - accuracy: 0.7776\n",
            "Epoch 122/200\n",
            "559/559 [==============================] - 3s 5ms/step - loss: 0.6172 - accuracy: 0.7825\n",
            "Epoch 123/200\n",
            "559/559 [==============================] - 3s 5ms/step - loss: 0.6148 - accuracy: 0.7882\n",
            "Epoch 124/200\n",
            "559/559 [==============================] - 3s 5ms/step - loss: 0.6192 - accuracy: 0.7930\n",
            "Epoch 125/200\n",
            "559/559 [==============================] - 3s 5ms/step - loss: 0.6038 - accuracy: 0.7852\n",
            "Epoch 126/200\n",
            "559/559 [==============================] - 3s 5ms/step - loss: 0.6123 - accuracy: 0.7782\n",
            "Epoch 127/200\n",
            "559/559 [==============================] - 3s 5ms/step - loss: 0.6312 - accuracy: 0.7742\n",
            "Epoch 128/200\n",
            "559/559 [==============================] - 3s 5ms/step - loss: 0.6427 - accuracy: 0.7712\n",
            "Epoch 129/200\n",
            "559/559 [==============================] - 3s 5ms/step - loss: 0.6163 - accuracy: 0.7800\n",
            "Epoch 130/200\n",
            "559/559 [==============================] - 3s 5ms/step - loss: 0.5844 - accuracy: 0.7966\n",
            "Epoch 131/200\n",
            "559/559 [==============================] - 3s 5ms/step - loss: 0.5971 - accuracy: 0.7857\n",
            "Epoch 132/200\n",
            "559/559 [==============================] - 3s 5ms/step - loss: 0.5763 - accuracy: 0.7973\n",
            "Epoch 133/200\n",
            "559/559 [==============================] - 3s 5ms/step - loss: 0.6154 - accuracy: 0.7816\n",
            "Epoch 134/200\n",
            "559/559 [==============================] - 3s 5ms/step - loss: 0.5759 - accuracy: 0.7991\n",
            "Epoch 135/200\n",
            "559/559 [==============================] - 3s 5ms/step - loss: 0.5771 - accuracy: 0.7920\n",
            "Epoch 136/200\n",
            "559/559 [==============================] - 3s 5ms/step - loss: 0.5866 - accuracy: 0.7932\n",
            "Epoch 137/200\n",
            "559/559 [==============================] - 3s 5ms/step - loss: 0.5727 - accuracy: 0.8000\n",
            "Epoch 138/200\n",
            "559/559 [==============================] - 3s 5ms/step - loss: 0.6025 - accuracy: 0.7866\n",
            "Epoch 139/200\n",
            "559/559 [==============================] - 3s 5ms/step - loss: 0.5902 - accuracy: 0.7922\n",
            "Epoch 140/200\n",
            "559/559 [==============================] - 3s 5ms/step - loss: 0.5764 - accuracy: 0.7930\n",
            "Epoch 141/200\n",
            "559/559 [==============================] - 3s 5ms/step - loss: 0.5648 - accuracy: 0.8068\n",
            "Epoch 142/200\n",
            "559/559 [==============================] - 3s 5ms/step - loss: 0.5473 - accuracy: 0.8034\n",
            "Epoch 143/200\n",
            "559/559 [==============================] - 3s 5ms/step - loss: 0.5656 - accuracy: 0.7972\n",
            "Epoch 144/200\n",
            "559/559 [==============================] - 3s 5ms/step - loss: 0.5883 - accuracy: 0.7988\n",
            "Epoch 145/200\n",
            "559/559 [==============================] - 3s 5ms/step - loss: 0.5649 - accuracy: 0.7993\n",
            "Epoch 146/200\n",
            "559/559 [==============================] - 3s 5ms/step - loss: 0.5564 - accuracy: 0.8095\n",
            "Epoch 147/200\n",
            "559/559 [==============================] - 3s 5ms/step - loss: 0.5647 - accuracy: 0.8000\n",
            "Epoch 148/200\n",
            "559/559 [==============================] - 3s 5ms/step - loss: 0.5805 - accuracy: 0.7973\n",
            "Epoch 149/200\n",
            "559/559 [==============================] - 3s 5ms/step - loss: 0.5531 - accuracy: 0.8113\n",
            "Epoch 150/200\n",
            "559/559 [==============================] - 3s 5ms/step - loss: 0.5614 - accuracy: 0.8054\n",
            "Epoch 151/200\n",
            "559/559 [==============================] - 3s 5ms/step - loss: 0.5666 - accuracy: 0.8049\n",
            "Epoch 152/200\n",
            "559/559 [==============================] - 3s 5ms/step - loss: 0.5543 - accuracy: 0.8031\n",
            "Epoch 153/200\n",
            "559/559 [==============================] - 3s 5ms/step - loss: 0.5783 - accuracy: 0.8015\n",
            "Epoch 154/200\n",
            "559/559 [==============================] - 3s 5ms/step - loss: 0.5374 - accuracy: 0.8113\n",
            "Epoch 155/200\n",
            "559/559 [==============================] - 3s 5ms/step - loss: 0.5462 - accuracy: 0.8131\n",
            "Epoch 156/200\n",
            "559/559 [==============================] - 3s 5ms/step - loss: 0.5367 - accuracy: 0.8137\n",
            "Epoch 157/200\n",
            "559/559 [==============================] - 3s 5ms/step - loss: 0.5120 - accuracy: 0.8171\n",
            "Epoch 158/200\n",
            "559/559 [==============================] - 3s 5ms/step - loss: 0.5184 - accuracy: 0.8217\n",
            "Epoch 159/200\n",
            "559/559 [==============================] - 3s 5ms/step - loss: 0.5011 - accuracy: 0.8266\n",
            "Epoch 160/200\n",
            "559/559 [==============================] - 3s 5ms/step - loss: 0.5057 - accuracy: 0.8197\n",
            "Epoch 161/200\n",
            "559/559 [==============================] - 3s 5ms/step - loss: 0.5582 - accuracy: 0.8063\n",
            "Epoch 162/200\n",
            "559/559 [==============================] - 3s 5ms/step - loss: 0.5293 - accuracy: 0.8176\n",
            "Epoch 163/200\n",
            "559/559 [==============================] - 3s 5ms/step - loss: 0.5344 - accuracy: 0.8169\n",
            "Epoch 164/200\n",
            "559/559 [==============================] - 3s 5ms/step - loss: 0.5179 - accuracy: 0.8208\n",
            "Epoch 165/200\n",
            "559/559 [==============================] - 3s 5ms/step - loss: 0.5101 - accuracy: 0.8180\n",
            "Epoch 166/200\n",
            "559/559 [==============================] - 3s 5ms/step - loss: 0.5517 - accuracy: 0.8031\n",
            "Epoch 167/200\n",
            "559/559 [==============================] - 3s 5ms/step - loss: 0.5303 - accuracy: 0.8171\n",
            "Epoch 168/200\n",
            "559/559 [==============================] - 3s 5ms/step - loss: 0.5397 - accuracy: 0.8142\n",
            "Epoch 169/200\n",
            "559/559 [==============================] - 3s 5ms/step - loss: 0.5117 - accuracy: 0.8192\n",
            "Epoch 170/200\n",
            "559/559 [==============================] - 3s 5ms/step - loss: 0.5205 - accuracy: 0.8188\n",
            "Epoch 171/200\n",
            "559/559 [==============================] - 3s 5ms/step - loss: 0.4978 - accuracy: 0.8318\n",
            "Epoch 172/200\n",
            "559/559 [==============================] - 3s 5ms/step - loss: 0.5099 - accuracy: 0.8226\n",
            "Epoch 173/200\n",
            "559/559 [==============================] - 3s 5ms/step - loss: 0.5196 - accuracy: 0.8147\n",
            "Epoch 174/200\n",
            "559/559 [==============================] - 3s 5ms/step - loss: 0.4978 - accuracy: 0.8282\n",
            "Epoch 175/200\n",
            "559/559 [==============================] - 3s 5ms/step - loss: 0.4959 - accuracy: 0.8285\n",
            "Epoch 176/200\n",
            "559/559 [==============================] - 3s 5ms/step - loss: 0.4800 - accuracy: 0.8339\n",
            "Epoch 177/200\n",
            "559/559 [==============================] - 3s 5ms/step - loss: 0.5129 - accuracy: 0.8205\n",
            "Epoch 178/200\n",
            "559/559 [==============================] - 3s 5ms/step - loss: 0.5375 - accuracy: 0.8160\n",
            "Epoch 179/200\n",
            "559/559 [==============================] - 3s 5ms/step - loss: 0.5185 - accuracy: 0.8224\n",
            "Epoch 180/200\n",
            "559/559 [==============================] - 3s 5ms/step - loss: 0.5060 - accuracy: 0.8271\n",
            "Epoch 181/200\n",
            "559/559 [==============================] - 3s 5ms/step - loss: 0.4982 - accuracy: 0.8283\n",
            "Epoch 182/200\n",
            "559/559 [==============================] - 3s 5ms/step - loss: 0.4913 - accuracy: 0.8301\n",
            "Epoch 183/200\n",
            "559/559 [==============================] - 3s 5ms/step - loss: 0.4941 - accuracy: 0.8312\n",
            "Epoch 184/200\n",
            "559/559 [==============================] - 3s 5ms/step - loss: 0.4691 - accuracy: 0.8409\n",
            "Epoch 185/200\n",
            "559/559 [==============================] - 3s 5ms/step - loss: 0.4718 - accuracy: 0.8355\n",
            "Epoch 186/200\n",
            "559/559 [==============================] - 3s 5ms/step - loss: 0.4970 - accuracy: 0.8217\n",
            "Epoch 187/200\n",
            "559/559 [==============================] - 3s 5ms/step - loss: 0.4888 - accuracy: 0.8292\n",
            "Epoch 188/200\n",
            "559/559 [==============================] - 3s 5ms/step - loss: 0.4973 - accuracy: 0.8258\n",
            "Epoch 189/200\n",
            "559/559 [==============================] - 3s 5ms/step - loss: 0.4799 - accuracy: 0.8375\n",
            "Epoch 190/200\n",
            "559/559 [==============================] - 3s 5ms/step - loss: 0.4836 - accuracy: 0.8382\n",
            "Epoch 191/200\n",
            "559/559 [==============================] - 3s 5ms/step - loss: 0.4920 - accuracy: 0.8305\n",
            "Epoch 192/200\n",
            "559/559 [==============================] - 3s 5ms/step - loss: 0.4918 - accuracy: 0.8325\n",
            "Epoch 193/200\n",
            "559/559 [==============================] - 3s 5ms/step - loss: 0.4755 - accuracy: 0.8389\n",
            "Epoch 194/200\n",
            "559/559 [==============================] - 3s 5ms/step - loss: 0.4581 - accuracy: 0.8445\n",
            "Epoch 195/200\n",
            "559/559 [==============================] - 3s 5ms/step - loss: 0.4744 - accuracy: 0.8366\n",
            "Epoch 196/200\n",
            "559/559 [==============================] - 3s 5ms/step - loss: 0.4917 - accuracy: 0.8321\n",
            "Epoch 197/200\n",
            "559/559 [==============================] - 3s 5ms/step - loss: 0.4552 - accuracy: 0.8398\n",
            "Epoch 198/200\n",
            "559/559 [==============================] - 3s 5ms/step - loss: 0.4446 - accuracy: 0.8445\n",
            "Epoch 199/200\n",
            "559/559 [==============================] - 3s 5ms/step - loss: 0.4389 - accuracy: 0.8497\n",
            "Epoch 200/200\n",
            "559/559 [==============================] - 3s 5ms/step - loss: 0.4612 - accuracy: 0.8420\n"
          ]
        }
      ]
    },
    {
      "cell_type": "code",
      "source": [
        "plt.plot(history.history['loss'], label='loss')\n",
        "plt.plot(history.history['accuracy'], label='accuracy')\n",
        "plt.legend()\n",
        "plt.xlabel(\"epochs\")\n",
        "plt.show()"
      ],
      "metadata": {
        "colab": {
          "base_uri": "https://localhost:8080/",
          "height": 279
        },
        "id": "ID6CS02ZGex5",
        "outputId": "d7540530-cecb-4fd0-b990-34e87b40278e"
      },
      "execution_count": 145,
      "outputs": [
        {
          "output_type": "display_data",
          "data": {
            "text/plain": [
              "<Figure size 432x288 with 1 Axes>"
            ],
            "image/png": "[encoded data removed]"
          },
          "metadata": {
            "needs_background": "light"
          }
        }
      ]
    },
    {
      "cell_type": "code",
      "source": [
        "model11.evaluate(X_test, y_test)"
      ],
      "metadata": {
        "colab": {
          "base_uri": "https://localhost:8080/"
        },
        "id": "zHthfb3UGgXj",
        "outputId": "713294d8-0ab3-43ee-aeff-1a320aabcd86"
      },
      "execution_count": 146,
      "outputs": [
        {
          "output_type": "stream",
          "name": "stdout",
          "text": [
            "59/59 [==============================] - 0s 3ms/step - loss: 2.0341 - accuracy: 0.4895\n"
          ]
        },
        {
          "output_type": "execute_result",
          "data": {
            "text/plain": [
              "[2.0341403484344482, 0.4895217716693878]"
            ]
          },
          "metadata": {},
          "execution_count": 146
        }
      ]
    },
    {
      "cell_type": "code",
      "source": [],
      "metadata": {
        "id": "6-j2LYyTGjAm"
      },
      "execution_count": null,
      "outputs": []
    }
  ]
}